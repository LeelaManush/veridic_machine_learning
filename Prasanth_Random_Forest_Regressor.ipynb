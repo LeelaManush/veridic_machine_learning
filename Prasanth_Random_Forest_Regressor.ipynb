{
 "cells": [
  {
   "cell_type": "code",
   "execution_count": 59,
   "metadata": {},
   "outputs": [
    {
     "name": "stdout",
     "output_type": "stream",
     "text": [
      "Metrics for Random Forest Regressor\n",
      "Average absolute error: 25.68\n",
      "Random Forest Regressor Accuracy: 69.33 %.\n"
     ]
    }
   ],
   "source": [
    "import pandas as pd\n",
    "from sklearn.model_selection import train_test_split\n",
    "from sklearn.preprocessing import StandardScaler\n",
    "from sklearn.ensemble import RandomForestRegressor\n",
    "import numpy as np\n",
    "import matplotlib.pyplot as plt\n",
    "%matplotlib inline\n",
    "\n",
    "#importing the data\n",
    "data = pd.read_csv('hour.csv')\n",
    "\n",
    "#Drop features that do not contribute to the predictions\n",
    "data = data.drop(['instant','dteday','casual','registered'],axis=1)\n",
    "\n",
    "#Convert the discrete repeating variables to categorical variables\n",
    "categorical_features = ['season','yr','mnth','hr','holiday','weekday','workingday','weathersit']\n",
    "\n",
    "for feature in categorical_features:\n",
    "    data[feature] = data[feature].astype('category')\n",
    "\n",
    "#Test train split\n",
    "X_train, X_test, y_train, y_test = train_test_split(data.iloc[:,:-1],data.iloc[:,-1], test_size=0.2, random_state=20)\n",
    "\n",
    "\n",
    "#Creating the RFR model and training it\n",
    "Rand_F = RandomForestRegressor(n_estimators = 1000, random_state = 20)\n",
    "Rand_F.fit(X_train,y_train)\n",
    "Predictions = Rand_F.predict(X_test)\n",
    "\n",
    "# R**2 score\n",
    "# Score = Rand_F.score(X_test,y_test)\n",
    "# print(\"Prediction Score:\", Score)\n",
    "\n",
    "#Calculating the prediction accuracy of the model\n",
    "#source: https://towardsdatascience.com/improving-random-forest-in-python-part-1-893916666cd\n",
    "\n",
    "errors = abs(Predictions - y_test)\n",
    "print('Metrics for Random Forest Regressor')\n",
    "print('Average absolute error:', round(np.mean(errors), 2))\n",
    "\n",
    "# Calculate mean absolute percentage error (MAPE)\n",
    "mape = 100 * (errors / y_test)\n",
    "\n",
    "# Calculate and display accuracy\n",
    "accuracy = 100 - np.mean(mape)\n",
    "print('Random Forest Regressor Accuracy:', round(accuracy, 2), '%.')"
   ]
  }
 ],
 "metadata": {
  "kernelspec": {
   "display_name": "Python 3",
   "language": "python",
   "name": "python3"
  },
  "language_info": {
   "codemirror_mode": {
    "name": "ipython",
    "version": 3
   },
   "file_extension": ".py",
   "mimetype": "text/x-python",
   "name": "python",
   "nbconvert_exporter": "python",
   "pygments_lexer": "ipython3",
   "version": "3.6.8"
  }
 },
 "nbformat": 4,
 "nbformat_minor": 2
}
