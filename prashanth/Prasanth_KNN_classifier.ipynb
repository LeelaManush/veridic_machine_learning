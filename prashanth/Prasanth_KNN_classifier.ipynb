{
 "cells": [
  {
   "cell_type": "code",
   "execution_count": 68,
   "metadata": {},
   "outputs": [
    {
     "name": "stdout",
     "output_type": "stream",
     "text": [
      "Actual and predicted labels for first 10 instances\n",
      "     y_test  Predicted\n",
      "14      1.0        1.0\n",
      "624     0.0        0.0\n",
      "576     0.0        0.0\n",
      "481     0.0        0.0\n",
      "228     0.0        0.0\n",
      "276     0.0        0.0\n",
      "222     1.0        0.0\n",
      "178     0.0        0.0\n",
      "496     0.0        0.0\n",
      "694     0.0        0.0\n",
      "Mean Prediction accuracy = 0.96\n"
     ]
    }
   ],
   "source": [
    "import pandas as pd\n",
    "import numpy as np\n",
    "from sklearn.model_selection import train_test_split\n",
    "from sklearn.neighbors import KNeighborsClassifier\n",
    "\n",
    "#Import the data and add the feature names\n",
    "data = pd.read_csv('cancer-data.csv',names=['ID','Clump_Thickness','Uniformity_Cell_size','Uniformity_Cell_shape',\n",
    "                                            'Marginal_Adgesion','Single_Epithelial_Cell_Size','Bare_Nuclei',\n",
    "                                            'Bland_Chromatin','Normal_Nucleoli','Mitoses','Class'])\n",
    "#Drop the ID column\n",
    "data.drop('ID',axis=1,inplace=True)\n",
    "\n",
    "#Change the dependent variable, y E Z in range [0,len(data.Class.unique())) - not necessary..cosmetic change\n",
    "data.Class = (data['Class'] / 2) -1 \n",
    "\n",
    "# Drop all the rows with missing values\n",
    "data=data.replace('?',np.nan)\n",
    "data= data.dropna()\n",
    "\n",
    "#Split Test and Train sets\n",
    "X_train, X_test, y_train, y_test = train_test_split(data.iloc[:,0:-1], data.iloc[:,-1],test_size=0.2, random_state=20)\n",
    "\n",
    "#Assign the model and provide the sample data to the model\n",
    "KNN_model = KNeighborsClassifier(n_neighbors=8)\n",
    "KNN_model.fit(X_train,y_train)\n",
    "\n",
    "#Predict the labels\n",
    "predicted= KNN_model.predict(X_test)\n",
    "print(\"Actual and predicted labels for first 10 instances\")\n",
    "print(pd.DataFrame({'y_test':y_test,'Predicted':predicted}).head(10))\n",
    "\n",
    "#Accuracy Score\n",
    "print(\"Mean Prediction accuracy =\",round(KNN_model.score(X_test,y_test),2))"
   ]
  }
 ],
 "metadata": {
  "kernelspec": {
   "display_name": "Python 3",
   "language": "python",
   "name": "python3"
  },
  "language_info": {
   "codemirror_mode": {
    "name": "ipython",
    "version": 3
   },
   "file_extension": ".py",
   "mimetype": "text/x-python",
   "name": "python",
   "nbconvert_exporter": "python",
   "pygments_lexer": "ipython3",
   "version": "3.6.8"
  }
 },
 "nbformat": 4,
 "nbformat_minor": 2
}
