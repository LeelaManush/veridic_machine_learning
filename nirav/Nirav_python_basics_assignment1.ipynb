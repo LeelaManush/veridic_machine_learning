{
 "cells": [
  {
   "cell_type": "markdown",
   "metadata": {},
   "source": [
    "HINTS: If you want to take input using keyboard use input('enter the name:'), and when you execute it, python will prompt you to enter the name. Default input taken is a string, Use type casting int(), str() to convert type as needed."
   ]
  },
  {
   "cell_type": "markdown",
   "metadata": {},
   "source": [
    "1. Write a Python program to get a string made of the first 2 and the last chars from a given a string?\n",
    "\n",
    "string = 'veridicsolutions'\n",
    "\n",
    "expected output = vens\n"
   ]
  },
  {
   "cell_type": "code",
   "execution_count": 2,
   "metadata": {},
   "outputs": [
    {
     "name": "stdout",
     "output_type": "stream",
     "text": [
      "vens\n"
     ]
    }
   ],
   "source": [
    "string = 'veridicsolutions'\n",
    "output = string[:2] + string[-2:]\n",
    "print(output)"
   ]
  },
  {
   "cell_type": "markdown",
   "metadata": {},
   "source": [
    "2. Write a program to add up the last 2 characters 3 times for the above string?\n",
    "\n",
    "expected output = nsnsns"
   ]
  },
  {
   "cell_type": "code",
   "execution_count": 3,
   "metadata": {},
   "outputs": [
    {
     "name": "stdout",
     "output_type": "stream",
     "text": [
      "nsnsns\n"
     ]
    }
   ],
   "source": [
    "string = 'veridicsolutions'\n",
    "output =  3*(string[-2:])\n",
    "print(output)"
   ]
  },
  {
   "cell_type": "markdown",
   "metadata": {},
   "source": [
    "3. Read two integers from input() and print five lines where:\n",
    "    a.\tThe first line contains the sum of the two numbers.\n",
    "    b.\tThe second line contains the difference of the two numbers (first - second).\n",
    "    c.\tThe third line contains the product of the two numbers.\n",
    "    d.\t The fourth line should contain integer division, a//b.\n",
    "    e.\tThe fifth line should contain float division, a/b.\n"
   ]
  },
  {
   "cell_type": "code",
   "execution_count": 4,
   "metadata": {},
   "outputs": [
    {
     "name": "stdout",
     "output_type": "stream",
     "text": [
      "enter the 1st number1\n",
      "enter the 2nd number2\n",
      "ADD:  3\n",
      "SUB:  -1\n",
      "MULT:  2\n",
      "DIV:  0\n",
      "DIV(float):  0.5\n"
     ]
    }
   ],
   "source": [
    "numb1 = int(input(\"enter the 1st number\"))\n",
    "numb2 = int(input(\"enter the 2nd number\"))\n",
    "\n",
    "print(\"ADD: \", numb1 + numb2)\n",
    "print(\"SUB: \", numb1 - numb2)\n",
    "print(\"MULT: \", numb1 * numb2)\n",
    "print(\"DIV: \", numb1 // numb2)\n",
    "print(\"DIV(float): \", numb1 / numb2)\n",
    "\n",
    "\n"
   ]
  },
  {
   "cell_type": "markdown",
   "metadata": {},
   "source": [
    "4. Write a program to print the following using string slicing given the string is ‘Python’\n",
    "    1.\t‘P’\n",
    "    2.\t‘n’\n",
    "    3.\t‘ytho’\n",
    "    4.\t‘on’\n",
    "    5.\t‘Py’\n"
   ]
  },
  {
   "cell_type": "code",
   "execution_count": 5,
   "metadata": {},
   "outputs": [
    {
     "name": "stdout",
     "output_type": "stream",
     "text": [
      "P\n",
      "n\n",
      "ytho\n",
      "on\n",
      "Py\n"
     ]
    }
   ],
   "source": [
    "string = 'Python'\n",
    "print(string[0])\n",
    "print(string[-1])\n",
    "print(string[1:-1])\n",
    "print(string[4:])\n",
    "print(string[:2])"
   ]
  },
  {
   "cell_type": "markdown",
   "metadata": {},
   "source": [
    "5. Given 2 strings, print their concatenation, except omit the first char of each. The strings will be atleast length 1.        \n",
    "Example: 'Hello', 'There'  expected output:  'ellohere'\n"
   ]
  },
  {
   "cell_type": "code",
   "execution_count": 9,
   "metadata": {},
   "outputs": [
    {
     "name": "stdout",
     "output_type": "stream",
     "text": [
      "enter the 1st stringHello\n",
      "enter the 2nd stringNirav\n",
      "elloirav\n"
     ]
    }
   ],
   "source": [
    "string1 = input(\"enter the 1st string\")\n",
    "string2 = input(\"enter the 2nd string\")\n",
    "print(string1[1:] + string2[1:])\n",
    "\n"
   ]
  },
  {
   "cell_type": "markdown",
   "metadata": {},
   "source": [
    "6. Given the participants' score sheet for your University Sports Day, you are required to find the runner-up score. You are given scores. Store them in a list and find the score of the runner-up.\n",
    "\n",
    "Example: Given list is [2,3,6,6,5]. The maximum score is 6, second maximum is 5. Hence, we print 5 as the runner-up score.\n"
   ]
  },
  {
   "cell_type": "code",
   "execution_count": 15,
   "metadata": {},
   "outputs": [
    {
     "name": "stdout",
     "output_type": "stream",
     "text": [
      "All scores  [2, 3, 6, 4, 5]\n",
      "second max 5\n",
      "second max 5\n"
     ]
    }
   ],
   "source": [
    "scoreList = [2,3,6,4,5]\n",
    "print(\"All scores \",scoreList)\n",
    "print(\"second max\",scoreList[-1])\n",
    "#OR\n",
    "print(\"second max\",scoreList[4])"
   ]
  },
  {
   "cell_type": "markdown",
   "metadata": {},
   "source": [
    "7. Given a student’s marks list as 56, 75, 89, 78. Calculate and print the total marks and the percentage that the student obtained. (Info: Total marks for each subject is 100)"
   ]
  },
  {
   "cell_type": "code",
   "execution_count": 20,
   "metadata": {},
   "outputs": [
    {
     "name": "stdout",
     "output_type": "stream",
     "text": [
      "Total Marks:  298\n",
      "Average:  0.745\n",
      "Percent:  74.5\n"
     ]
    }
   ],
   "source": [
    "marks = [56, 75, 89, 78]\n",
    "Totalmarks = marks[0] + marks[1] + marks[2] + marks[3]\n",
    "print(\"Total Marks: \", Totalmarks)\n",
    "Average = Totalmarks / 400\n",
    "print(\"Average: \", Average)\n",
    "Percent = Average * 100\n",
    "print(\"Percent: \", Percent)"
   ]
  },
  {
   "cell_type": "markdown",
   "metadata": {},
   "source": [
    "8. Write a program to swap two numbers given only 2 variables 'a' and 'b' ( condition: No other variables should be declared other than a and b)"
   ]
  },
  {
   "cell_type": "code",
   "execution_count": 22,
   "metadata": {},
   "outputs": [
    {
     "name": "stdout",
     "output_type": "stream",
     "text": [
      "enter the 1st number6\n",
      "enter the 2nd number1\n",
      "numb1 : 6\n",
      "numb2 : 1\n",
      "numb1 : 1\n",
      "numb2 : 6\n"
     ]
    }
   ],
   "source": [
    "numb1 = int(input(\"enter the 1st number\"))\n",
    "numb2 = int(input(\"enter the 2nd number\"))\n",
    "\n",
    "print(\"numb1 :\", numb1)\n",
    "print(\"numb2 :\", numb2)\n",
    "\n",
    "numb1 = numb1 + numb2\n",
    "numb2 = numb1 - numb2\n",
    "numb1 = numb1 - numb2\n",
    "\n",
    "print(\"numb1 :\", numb1)\n",
    "print(\"numb2 :\", numb2)\n",
    "\n"
   ]
  },
  {
   "cell_type": "markdown",
   "metadata": {},
   "source": [
    "9. write a program to print the are and perimeter of a circle, given radisu is input from keyboard. ( PI value = 3.14)\n",
    "Area = PI * radius**2\n",
    "perimeter = 2* PI * radius"
   ]
  },
  {
   "cell_type": "code",
   "execution_count": 23,
   "metadata": {},
   "outputs": [
    {
     "name": "stdout",
     "output_type": "stream",
     "text": [
      "enter radius of the circle5\n",
      "Perimeter:  31.400000000000002\n",
      "Area:  985.9600000000002\n"
     ]
    }
   ],
   "source": [
    "radius = int(input(\"Enter radius of the circle\"))\n",
    "Perimeter = 2 * 3.14 * radius\n",
    "print(\"Perimeter: \", Perimeter)\n",
    "Area =  3.14 * radius * 2*Perimeter\n",
    "print(\"Area: \", Area)"
   ]
  },
  {
   "cell_type": "markdown",
   "metadata": {},
   "source": [
    "10. Practice string methods, list methods, dict methods "
   ]
  },
  {
   "cell_type": "code",
   "execution_count": null,
   "metadata": {},
   "outputs": [],
   "source": []
  }
 ],
 "metadata": {
  "kernelspec": {
   "display_name": "Python 3",
   "language": "python",
   "name": "python3"
  },
  "language_info": {
   "codemirror_mode": {
    "name": "ipython",
    "version": 3
   },
   "file_extension": ".py",
   "mimetype": "text/x-python",
   "name": "python",
   "nbconvert_exporter": "python",
   "pygments_lexer": "ipython3",
   "version": "3.7.2"
  }
 },
 "nbformat": 4,
 "nbformat_minor": 2
}
