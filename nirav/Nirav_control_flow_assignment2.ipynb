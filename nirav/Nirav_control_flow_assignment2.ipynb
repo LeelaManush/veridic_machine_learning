{
 "cells": [
  {
   "cell_type": "markdown",
   "metadata": {},
   "source": [
    "Question-1 :\n",
    "Given an integer,n perform the following conditional actions:  Take the input from keyboard using input() function\n",
    "\n",
    "If n is odd, print Weird\n",
    "If n is even and in the inclusive range of 2 to 5, print Not Weird\n",
    "If n is even and in the inclusive range of 6 to 20, print Weird\n",
    "If n is even and greater than 20, print Not Weird."
   ]
  },
  {
   "cell_type": "code",
   "execution_count": 4,
   "metadata": {},
   "outputs": [
    {
     "name": "stdout",
     "output_type": "stream",
     "text": [
      "Enter a number2\n",
      "2 NOT WEIRD\n"
     ]
    }
   ],
   "source": [
    "numb = int(input(\"Enter a number\"))\n",
    "\n",
    "if numb % 2 == 1:\n",
    "    print(numb,\"WEIRD\")\n",
    "elif numb in range(2,5) or numb > 20:\n",
    "    print(numb,\"NOT WEIRD\")\n",
    "else:\n",
    "    print(numb,\"WEIRD\")    "
   ]
  },
  {
   "cell_type": "markdown",
   "metadata": {},
   "source": [
    "Question-2: \n",
    "\n",
    "Assign 10 to the variable x and 25 to the variable y. In the same cell, create 2 conditional statements. Let the first one print \"Both conditions are correct\" if x is greater then 3 and y is greater than 13. Let the second one print \"At least one of the conditions is false\" if x is less than or equal to 3 and y is less than or equal to 13. Change the values assigned to x and y and re-run the cell to verify your code still works.\n"
   ]
  },
  {
   "cell_type": "code",
   "execution_count": 6,
   "metadata": {},
   "outputs": [
    {
     "name": "stdout",
     "output_type": "stream",
     "text": [
      "At least one of the conditions is false\n"
     ]
    }
   ],
   "source": [
    "X = 3\n",
    "Y = 25\n",
    "\n",
    "if X > 3 and Y > 13:\n",
    "    print(\"Both Conditions are correct\")\n",
    "elif X <= 3 or Y <= 13:\n",
    "    print(\"At least one of the conditions is false\")"
   ]
  },
  {
   "cell_type": "markdown",
   "metadata": {},
   "source": [
    "Question - 3:\n",
    "\n",
    "Print all elements of a list using 'for' loop\n",
    "list = ['23', 'name', 'age', 'veridic', 'python', 'data']\n"
   ]
  },
  {
   "cell_type": "code",
   "execution_count": 8,
   "metadata": {},
   "outputs": [
    {
     "name": "stdout",
     "output_type": "stream",
     "text": [
      "1 :  23\n",
      "2 :  name\n",
      "3 :  age\n",
      "4 :  veridic\n",
      "5 :  python\n",
      "6 :  data\n"
     ]
    }
   ],
   "source": [
    "list = ['23', 'name', 'age', 'veridic', 'python', 'data']\n",
    "count = 0\n",
    "for items in list:\n",
    "    count = count + 1\n",
    "    print(count,\": \", items)"
   ]
  },
  {
   "cell_type": "markdown",
   "metadata": {},
   "source": [
    "Queestion - 4:\n",
    "\n",
    "Take inputs from user to make a list. Again take one input from user and search it in the list and delete that element, if found. Iterate over list using for loop\n",
    "\n"
   ]
  },
  {
   "cell_type": "code",
   "execution_count": 3,
   "metadata": {},
   "outputs": [
    {
     "name": "stdout",
     "output_type": "stream",
     "text": [
      "Enter any 6 subjectsC\n",
      "Enter any 6 subjectsJava\n",
      "Enter any 6 subjectsHTML\n",
      "Enter any 6 subjectsCSS\n",
      "Enter any 6 subjectsPython\n",
      "Enter any 6 subjectsruby\n",
      "['C', 'Java', 'HTML', 'CSS', 'Python', 'ruby']\n",
      "Enter a subject you would want to Discard from the listruby\n",
      "You removed subject  ruby\n",
      "['C', 'Java', 'HTML', 'CSS', 'Python']\n"
     ]
    }
   ],
   "source": [
    "subject = []\n",
    "value = 1\n",
    "\n",
    "while (value <= 6):\n",
    "    newSubject = input(\"Enter any 6 subjects \")\n",
    "    subject.append(newSubject)\n",
    "    value = value + 1\n",
    "print(subject)\n",
    "\n",
    "removeSubject = input(\"Enter a subject you would want to Discard from the list\")\n",
    "for sub in subject:\n",
    "    if removeSubject == sub:\n",
    "        subject.remove(sub)\n",
    "        print(\"You removed subject \", sub)\n",
    "            \n",
    "print(subject)\n"
   ]
  },
  {
   "cell_type": "markdown",
   "metadata": {},
   "source": [
    "Question - 5:\n",
    "\n",
    "Print multiplication table of 14?  print it as 14 x 1 = 14 and continue till 20 times"
   ]
  },
  {
   "cell_type": "code",
   "execution_count": 5,
   "metadata": {},
   "outputs": [
    {
     "name": "stdout",
     "output_type": "stream",
     "text": [
      "14 * 1 = 14\n",
      "14 * 2 = 28\n",
      "14 * 3 = 42\n",
      "14 * 4 = 56\n",
      "14 * 5 = 70\n",
      "14 * 6 = 84\n",
      "14 * 7 = 98\n",
      "14 * 8 = 112\n",
      "14 * 9 = 126\n",
      "14 * 10 = 140\n",
      "14 * 11 = 154\n",
      "14 * 12 = 168\n",
      "14 * 13 = 182\n",
      "14 * 14 = 196\n",
      "14 * 15 = 210\n",
      "14 * 16 = 224\n",
      "14 * 17 = 238\n",
      "14 * 18 = 252\n",
      "14 * 19 = 266\n",
      "14 * 20 = 280\n"
     ]
    }
   ],
   "source": [
    "count = 1     \n",
    "while count != 21:\n",
    "    total = 14 * count\n",
    "    print(\"14 *\", count, \"=\", total)\n",
    "    count = count + 1\n"
   ]
  },
  {
   "cell_type": "markdown",
   "metadata": {},
   "source": [
    "Question - 6:\n",
    "\n",
    "You are given with a list of integer elements. Make a new list which will store square of elements of previous list. \n",
    "list = [2, 4, 5, 6, 7, 8, 19, 34, 45, 56, 12, 65, 88, 92, 100]"
   ]
  },
  {
   "cell_type": "code",
   "execution_count": 9,
   "metadata": {},
   "outputs": [
    {
     "name": "stdout",
     "output_type": "stream",
     "text": [
      "[4, 16, 25, 36, 49, 64, 361, 1156, 2025, 3136, 144, 4225, 7744, 8464, 10000]\n"
     ]
    }
   ],
   "source": [
    "IntList = [2, 4, 5, 6, 7, 8, 19, 34, 45, 56, 12, 65, 88, 92, 100]\n",
    "squareList = []\n",
    "\n",
    "for numb in IntList:\n",
    "    squareNumb = numb * numb\n",
    "    squareList.append(squareNumb)\n",
    "print(squareList)"
   ]
  },
  {
   "cell_type": "markdown",
   "metadata": {},
   "source": [
    "Question - 7: \n",
    "\n",
    "\n",
    "tup = (1, 3, 5, 6, 94, 100, 7)\n",
    "# print all prime numbers only from tuple\n",
    "\n",
    "\n"
   ]
  },
  {
   "cell_type": "code",
   "execution_count": 14,
   "metadata": {},
   "outputs": [
    {
     "name": "stdout",
     "output_type": "stream",
     "text": [
      "Prime Numbers from - (1, 3, 5, 6, 94, 100, 7)\n",
      "1\n",
      "3\n",
      "5\n",
      "7\n"
     ]
    }
   ],
   "source": [
    "tup = (1, 3, 5, 6, 94, 100, 7)\n",
    "\n",
    "print(\"Prime Numbers from -\", tup )\n",
    "for numb in tup:\n",
    "    if(numb % 2 == 1):\n",
    "        print(numb)"
   ]
  },
  {
   "cell_type": "markdown",
   "metadata": {},
   "source": [
    "Question - 8:\n",
    "\n",
    "Create a login system using control flow statements. \n",
    "Requirements: when you execute the code, first prompt must be \"enter the username\". Username must start with \"VER\" key word, must contain 8 characters.\n",
    "\n",
    "password must be combination of letters and numbers, atleast one letter must be caps and accept specials characters like !, @ ,# etc if needed.\n",
    "\n",
    "If all conditions are satisified print login success!\n"
   ]
  },
  {
   "cell_type": "code",
   "execution_count": 30,
   "metadata": {},
   "outputs": [
    {
     "name": "stdout",
     "output_type": "stream",
     "text": [
      "Enter a username: VERpledf\n",
      "VERpledf VALID !\n",
      "Enter a Password: Qwserrrefrt2\n",
      "Congratulations ! Logged in Successfully !\n"
     ]
    }
   ],
   "source": [
    "userName = input(\"Enter a username: \")\n",
    "condition1 = 1\n",
    "condition2 = 1\n",
    "Isnumb = 0\n",
    "isupper = 0\n",
    "\n",
    "if userName[:3] == \"VER\" and len(userName) == 8:\n",
    "    print(userName, \"VALID !\")\n",
    "    condition1 = 0\n",
    "else:\n",
    "    print(userName, \"INVALID !\")\n",
    "if condition1 == 0:\n",
    "    passWord = input(\"Enter a Password: \")\n",
    "\n",
    "for char in passWord:\n",
    "    if char.isdigit():\n",
    "        Isnumb = 1\n",
    "    elif char.isupper():\n",
    "        isupper = 1\n",
    "if Isnumb == 1 and isupper == 1:\n",
    "        condition2 = 0\n",
    "else:\n",
    "    print(passWord, \"INVALID !\")\n",
    "\n",
    "if condition1 == 0 and condition2 == 0:\n",
    "    print(\"Congratulations ! Logged in Successfully !\")\n",
    "    \n",
    "else:\n",
    "    print(\"Oppps! Login Failed !\")\n",
    "    "
   ]
  },
  {
   "cell_type": "markdown",
   "metadata": {},
   "source": [
    "Question- 9:\n",
    "\n",
    "Program code for rock paper scissors game! without using any imports. you must be able to do it on your own!"
   ]
  },
  {
   "cell_type": "code",
   "execution_count": 1,
   "metadata": {},
   "outputs": [
    {
     "name": "stdout",
     "output_type": "stream",
     "text": [
      "R - Rock | P - Paper | S - scissors\n",
      "Player 1: S\n",
      "Player 2: P\n",
      "Player 1:  1 | Player 2:  0\n",
      "Player 1: P\n",
      "Player 2: R\n",
      "Player 1:  2 | Player 2:  0\n",
      "Player 1: R\n",
      "Player 2: S\n",
      "Player 1:  3 | Player 2:  0\n",
      "Player 1: R\n",
      "Player 2: P\n",
      "Player 1:  3 | Player 2:  1\n",
      "Player 1: R\n",
      "Player 2: P\n",
      "Player 1:  3 | Player 2:  2\n",
      "Player 1: R\n",
      "Player 2: P\n",
      "Player 1:  3 | Player 2:  3\n",
      "Player 1: S\n",
      "Player 2: R\n",
      "Player 1:  3 | Player 2:  4\n",
      "Player 1: P\n",
      "Player 2: R\n",
      "Player 1:  4 | Player 2:  4\n",
      "Player 1: P\n",
      "Player 2: R\n",
      "Player 1:  5 | Player 2:  4\n",
      "=============================\n",
      "=========FINAL SCORE=========\n",
      "Player 1:  5 | Player 2:  4\n",
      "=============================\n",
      "Player 1 Wins !\n"
     ]
    }
   ],
   "source": [
    "print(\"R - Rock | P - Paper | S - scissors\")\n",
    "\n",
    "P1Score = 0\n",
    "P2Score = 0\n",
    "\n",
    "while (P1Score != 5 or P2Score != 5 ):\n",
    "    p1 = input(\"Player 1: \")\n",
    "    p2 = input(\"Player 2: \")\n",
    "\n",
    "    if (p1 == 'R') and (p2 == 'S'):\n",
    "        P1Score = P1Score + 1\n",
    "    \n",
    "    elif (p1 == 'S') and (p2 == 'R'):\n",
    "        P2Score = P2Score + 1\n",
    "    \n",
    "    elif (p1 == 'S') and (p2 == 'P'):\n",
    "        P1Score = P1Score + 1\n",
    "        \n",
    "    elif (p1 == 'P') and (p2 == 'S'):\n",
    "        P2Score = P2Score + 1\n",
    "    \n",
    "    elif (p1 == 'P') and (p2 == 'R'):\n",
    "        P1Score = P1Score + 1\n",
    "    \n",
    "    elif (p1 == 'R') and (p2 == 'P'):\n",
    "        P2Score = P2Score + 1\n",
    "    \n",
    "    else:\n",
    "        print(\"Invalid Input ! Try again\")\n",
    "    \n",
    "    print(\"Player 1: \", P1Score , \"| Player 2: \", P2Score)\n",
    "    \n",
    "    if (P1Score == 5 or P2Score == 5 ):\n",
    "        print(\"=============================\")\n",
    "        print(\"=========FINAL SCORE=========\")\n",
    "        print(\"Player 1: \", P1Score , \"| Player 2: \", P2Score)\n",
    "        print(\"=============================\")\n",
    "        if P1Score > P2Score:\n",
    "            print(\"Player 1 Wins !\")\n",
    "        else:\n",
    "            print(\"Player 2 Wins !\")\n",
    "        \n",
    "        break;\n",
    "\n",
    "    \n",
    "\n"
   ]
  },
  {
   "cell_type": "code",
   "execution_count": null,
   "metadata": {},
   "outputs": [],
   "source": []
  },
  {
   "cell_type": "code",
   "execution_count": null,
   "metadata": {},
   "outputs": [],
   "source": []
  }
 ],
 "metadata": {
  "kernelspec": {
   "display_name": "Python 3",
   "language": "python",
   "name": "python3"
  },
  "language_info": {
   "codemirror_mode": {
    "name": "ipython",
    "version": 3
   },
   "file_extension": ".py",
   "mimetype": "text/x-python",
   "name": "python",
   "nbconvert_exporter": "python",
   "pygments_lexer": "ipython3",
   "version": "3.7.2"
  }
 },
 "nbformat": 4,
 "nbformat_minor": 2
}
