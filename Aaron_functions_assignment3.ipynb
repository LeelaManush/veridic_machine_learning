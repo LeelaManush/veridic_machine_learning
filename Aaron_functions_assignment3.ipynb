{
 "cells": [
  {
   "cell_type": "markdown",
   "metadata": {},
   "source": [
    "1. Write a program to find the given number is a Strong number or not. (use functions)"
   ]
  },
  {
   "cell_type": "code",
   "execution_count": null,
   "metadata": {},
   "outputs": [],
   "source": [
    "def strong_num(num):\n",
    "    n = num\n",
    "    num_list = []\n",
    "    while n > 0:\n",
    "        num_list.append(n%10)  #split the number into its individual parts \n",
    "        n //= 10\n",
    "    \n",
    "    total = 0\n",
    "    for val in num_list:\n",
    "        fact = 1\n",
    "        while val > 0:\n",
    "            fact *= val\n",
    "            val -= 1\n",
    "        total += fact \n",
    "        \n",
    "    if total == num:\n",
    "        return \"Strong Number\"\n",
    "    else:\n",
    "        return \"Not a Strong Number\" \n",
    "\n",
    "inp = int(input(\"Enter a number: \"))\n",
    "strong_num(inp)"
   ]
  },
  {
   "cell_type": "markdown",
   "metadata": {},
   "source": [
    "2. Given an array of integers, find the sum of its elements."
   ]
  },
  {
   "cell_type": "code",
   "execution_count": null,
   "metadata": {},
   "outputs": [],
   "source": [
    "def arr_sum(num_list):\n",
    "    return sum(num_list)\n",
    "\n",
    "inp_list = input(\"Enter an array of numbers: \").split()\n",
    "inp_list = list(map(int, inp_list))\n",
    "arr_sum(inp_list)"
   ]
  },
  {
   "cell_type": "code",
   "execution_count": null,
   "metadata": {},
   "outputs": [],
   "source": [
    "3. Consider a staircase of size n=4:\n",
    "   #\n",
    "  ##\n",
    " ###\n",
    "####\n",
    "Observe that its base and height are both equal to n, and the image is drawn using # symbols and spaces. The last line is not preceded by any spaces.\n",
    "Write a program that prints a staircase of size n."
   ]
  },
  {
   "cell_type": "code",
   "execution_count": null,
   "metadata": {},
   "outputs": [],
   "source": [
    "def staircase(n):\n",
    "    i = 1\n",
    "    k = n\n",
    "    while(i<=n):\n",
    "        print(\"{}{}\".format(' ' * k, '#' * i)) #using format\n",
    "        i +=1\n",
    "        k -=1 \n",
    "inp = int(input(\"Enter the value of n: \"))\n",
    "staircase(inp)"
   ]
  },
  {
   "cell_type": "markdown",
   "metadata": {},
   "source": [
    "4. Given five positive integers, find the minimum and maximum values that can be calculated by summing exactly four of the five integers. Then print the respective minimum and maximum values as a single line of two space-separated long integers."
   ]
  },
  {
   "cell_type": "code",
   "execution_count": null,
   "metadata": {},
   "outputs": [],
   "source": [
    "def minmax(a,b,c,d,e):\n",
    "    lst = [a,b,c,d,e]\n",
    "    \n",
    "    max_val = max(lst) # extract the max value\n",
    "    lst.remove(max_val) # remove max value from list\n",
    "    min_sum = sum(lst)\n",
    "    \n",
    "    lst.append(max_val) # put the max value back\n",
    "    \n",
    "    min_val = min(lst) # extract the min value\n",
    "    lst.remove(min_val) #remove\n",
    "    max_sum = sum(lst)\n",
    "    \n",
    "    print(f\"{min_sum} {max_sum}\")"
   ]
  },
  {
   "cell_type": "code",
   "execution_count": null,
   "metadata": {},
   "outputs": [],
   "source": [
    "# call function here\n",
    "minmax(1,2,3,4,5)"
   ]
  },
  {
   "cell_type": "markdown",
   "metadata": {},
   "source": [
    "5. Write a function named collatz() that has one parameter named number. If number is even, then collatz() should print number // 2 and return this value. If number is odd, then collatz() should print and return 3 * number + 1. Then write a program that lets the user type in an integer and that keeps calling collatz() on that number until the function returns the value 1. (Amazingly enough, this sequence actually works for any integer—sooner or later, using this sequence, you’ll arrive at 1! Even mathematicians aren’t sure why. Your program is exploring what’s called the Collatz sequence, sometimes called “the simplest impossible math problem.”) Remember to convert the return value from input() to an integer with the int() function; otherwise, it will be a string value."
   ]
  },
  {
   "cell_type": "code",
   "execution_count": null,
   "metadata": {},
   "outputs": [],
   "source": [
    "def collatz(num):\n",
    "    if num % 2 == 0:\n",
    "        res = num // 2\n",
    "        print(res)\n",
    "        return res\n",
    "    else:\n",
    "        res = 3 * num + 1\n",
    "        print(res)\n",
    "        return res\n",
    "\n",
    "n = int(input(\"Enter the number: \"))\n",
    "while(n > 1):\n",
    "    n = collatz(n)"
   ]
  },
  {
   "cell_type": "markdown",
   "metadata": {},
   "source": [
    "6. Write a program to find given number is palindrome or not.\n"
   ]
  },
  {
   "cell_type": "code",
   "execution_count": null,
   "metadata": {},
   "outputs": [],
   "source": [
    "# dirty way of coding this via strings\n",
    "def palindrome(n):\n",
    "    if n == n[::-1]:\n",
    "        print(\"Palindrome\")\n",
    "    else:\n",
    "        print(\"Not a palindrome\")\n",
    "\n",
    "num = input(\"Enter a number: \")\n",
    "palindrome(num)"
   ]
  },
  {
   "cell_type": "markdown",
   "metadata": {},
   "source": [
    "7. Write a Python function that accepts a string and calculate the number of upper case letters and lower case letters.\n"
   ]
  },
  {
   "cell_type": "code",
   "execution_count": null,
   "metadata": {},
   "outputs": [],
   "source": [
    "def case_count(s):\n",
    "    s_lower = [x for x in s if x.islower()]\n",
    "    s_upper = [x for x in s if x.isupper()]\n",
    "    print(\"{} has {} lower-case letters and {} upper-case letters\".format(s, len(s_lower), len(s_upper)))\n",
    "\n",
    "let = input(\"Enter the string: \")\n",
    "case_count(let)"
   ]
  },
  {
   "cell_type": "markdown",
   "metadata": {},
   "source": [
    "8. Write a Python program that accepts a hyphen-separated sequence of words as input and prints the words in a hyphen-separated sequence after sorting them alphabetically.\n",
    "Sample Items : green-red-yellow-black-white\n",
    "Expected Result : black-green-red-white-yellow"
   ]
  },
  {
   "cell_type": "code",
   "execution_count": null,
   "metadata": {},
   "outputs": [],
   "source": [
    "def hyphen_word(word):\n",
    "    word_list = word.split(sep='-')\n",
    "    word_list.sort() # sorts the list alphabetically\n",
    "    return \"-\".join(word_list) # concatenates the list into a string with '-' seperator\n",
    "\n",
    "seq = input(\"Enter a hyphen separated sequence of words: \")\n",
    "hyphen_word(seq)"
   ]
  },
  {
   "cell_type": "markdown",
   "metadata": {},
   "source": [
    "9. Write a Python program to calculate the sum of a list of numbers using recursion.\n"
   ]
  },
  {
   "cell_type": "code",
   "execution_count": null,
   "metadata": {},
   "outputs": [],
   "source": [
    "def recursive_sum(num_list):\n",
    "    if len(num_list) == 0: \n",
    "        return 0\n",
    "    else:\n",
    "        return num_list.pop() + recursive_sum(num_list) # pop out the last value and call the function again\n",
    "\n",
    "inp_list = input(\"Enter the elements to sum: \").split()\n",
    "inp_list = list(map(int, inp_list)) # converts all elements in the list to int\n",
    "recursive_sum(inp_list)"
   ]
  },
  {
   "cell_type": "markdown",
   "metadata": {},
   "source": [
    "10. Write a function called fizz_buzz that takes a number.\n",
    "    a. If the number is divisible by 3, it should return “Fizz”.\n",
    "    b. If it is divisible by 5, it should return “Buzz”.\n",
    "    c. If it is divisible by both 3 and 5, it should return “FizzBuzz”.\n",
    "    d. Otherwise, it should return the same number."
   ]
  },
  {
   "cell_type": "code",
   "execution_count": null,
   "metadata": {},
   "outputs": [],
   "source": [
    "def fizz_buzz(num):\n",
    "    if num % 3 == 0 and num % 5 == 0:\n",
    "        return 'FizzBuzz'\n",
    "    elif num % 3 == 0:\n",
    "        return 'Fizz'\n",
    "    elif num % 5 == 0:\n",
    "        return 'Buzz'\n",
    "    else:\n",
    "        return num\n",
    "    \n",
    "inp = int(input(\"Enter the number: \"))\n",
    "fizz_buzz(inp)"
   ]
  }
 ],
 "metadata": {
  "kernelspec": {
   "display_name": "Python 3",
   "language": "python",
   "name": "python3"
  },
  "language_info": {
   "codemirror_mode": {
    "name": "ipython",
    "version": 3
   },
   "file_extension": ".py",
   "mimetype": "text/x-python",
   "name": "python",
   "nbconvert_exporter": "python",
   "pygments_lexer": "ipython3",
   "version": "3.7.0"
  },
  "toc": {
   "nav_menu": {},
   "number_sections": true,
   "sideBar": true,
   "skip_h1_title": false,
   "title_cell": "Table of Contents",
   "title_sidebar": "Contents",
   "toc_cell": false,
   "toc_position": {},
   "toc_section_display": true,
   "toc_window_display": false
  }
 },
 "nbformat": 4,
 "nbformat_minor": 2
}
