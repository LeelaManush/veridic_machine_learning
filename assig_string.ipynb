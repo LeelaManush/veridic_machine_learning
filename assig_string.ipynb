{
 "cells": [
  {
   "cell_type": "code",
   "execution_count": 3,
   "metadata": {},
   "outputs": [
    {
     "name": "stdout",
     "output_type": "stream",
     "text": [
      "['Hello world' 'Say something']\n"
     ]
    }
   ],
   "source": [
    "import numpy as np\n",
    "x1 = np.array(['Hello', 'Say'], dtype=np.str)\n",
    "x2 = np.array([' world', ' something'], dtype=np.str)\n",
    "output =np.char.add(x1,x2)\n",
    "print(output)\n",
    "#here add function is used for concatenation of two strings"
   ]
  },
  {
   "cell_type": "code",
   "execution_count": 7,
   "metadata": {},
   "outputs": [
    {
     "name": "stdout",
     "output_type": "stream",
     "text": [
      "['Hello Hello Hello ' 'Say Say Say ']\n"
     ]
    }
   ],
   "source": [
    "#multiply function is used to repeat same string for given no.of times(the string is stored in variable x)\n",
    "x = np.array(['Hello ', 'Say '], dtype=np.str)\n",
    "output = np.char.multiply(x,3)\n",
    "print(output)"
   ]
  },
  {
   "cell_type": "code",
   "execution_count": 10,
   "metadata": {},
   "outputs": [
    {
     "name": "stdout",
     "output_type": "stream",
     "text": [
      "capitalized = ['Hello world' 'Say something']\n",
      "lowered = ['hello world' 'say something']\n",
      "uppered = ['HELLO WORLD' 'SAY SOMETHING']\n",
      "swapcased = ['HEllO WOrlD' 'sAY SoMETHING']\n",
      "titlecased = ['Hello World' 'Say Something']\n"
     ]
    }
   ],
   "source": [
    "x = np.array(['heLLo woRLd', 'Say sOmething'], dtype=np.str)\n",
    "capitalized =np.char.capitalize(x)\n",
    "lowered =np.char.lower(x)\n",
    "uppered =np.char.upper(x)\n",
    "swapcased =np.char.swapcase(x)\n",
    "titlecased =np.char.title(x)\n",
    "print(\"capitalized =\", capitalized)\n",
    "print(\"lowered =\", lowered)\n",
    "print(\"uppered =\", uppered)\n",
    "print(\"swapcased =\", swapcased)\n",
    "print(\"titlecased =\", titlecased)\n",
    "#capaitalize returns first char of each string in capital letter\n",
    "#lower returns all elements into lower case\n",
    "#upper all elements to uppercase\n",
    "#swap interchanges the string\n",
    "#in titlecased words start with uppercase and remaning lower"
   ]
  },
  {
   "cell_type": "code",
   "execution_count": 12,
   "metadata": {},
   "outputs": [
    {
     "name": "stdout",
     "output_type": "stream",
     "text": [
      "centered = ['____hello world_____' '___say something____']\n",
      "left = ['hello world_________' 'say something_______']\n",
      "right = ['_________hello world' '_______say something']\n"
     ]
    }
   ],
   "source": [
    "x = np.array(['hello world', 'say something'], dtype=np.str)\n",
    "centered =np.char.center(x,20,fillchar='_')\n",
    "left = np.char.ljust(x,20,fillchar='_')\n",
    "right = np.char.rjust(x,20,fillchar='_')\n",
    "\n",
    "print(\"centered =\", centered)\n",
    "print(\"left =\", left)\n",
    "print(\"right =\", right)\n",
    "#center sets the strirng in center by leaving ___ on both sides for given width\n",
    "#left moves string to the left by making ____on right\n",
    "#right ___is towards right by keeping string on left."
   ]
  },
  {
   "cell_type": "code",
   "execution_count": 13,
   "metadata": {},
   "outputs": [
    {
     "name": "stdout",
     "output_type": "stream",
     "text": [
      "encoded = [b'\\x88\\x85\\x93\\x93\\x96@\\xa6\\x96\\x99\\x93\\x84'\n",
      " b'\\xa2\\x81\\xa8@\\xa2\\x96\\x94\\x85\\xa3\\x88\\x89\\x95\\x87']\n",
      "decoded = ['hello world' 'say something']\n"
     ]
    }
   ],
   "source": [
    "x = np.array(['hello world', 'say something'], dtype=np.str)\n",
    "encoded =np.char.encode(x,'cp500')\n",
    "decoded =np.char.decode(encoded,'cp500')\n",
    "print(\"encoded =\", encoded)\n",
    "print(\"decoded =\", decoded)\n",
    "#encode is used for encoding data\n",
    "#decode is to display the encoded lines"
   ]
  },
  {
   "cell_type": "code",
   "execution_count": 10,
   "metadata": {},
   "outputs": [
    {
     "name": "stdout",
     "output_type": "stream",
     "text": [
      "[list(['hello', 'world']) list(['say', 'something'])]\n"
     ]
    }
   ],
   "source": [
    "\n",
    "x = np.array(['hello world', 'say something'], dtype=np.str)\n",
    "out=np.char.split(x)\n",
    "print(out)\n",
    "#it splits an array into sub-arrays"
   ]
  },
  {
   "cell_type": "code",
   "execution_count": 11,
   "metadata": {},
   "outputs": [
    {
     "name": "stdout",
     "output_type": "stream",
     "text": [
      "stripped = ['hello world' 'say something']\n",
      "lstripped = ['hello world   ' 'say something\\n']\n",
      "rstripped = ['   hello world' '\\tsay something']\n"
     ]
    }
   ],
   "source": [
    "\n",
    "x = np.array(['   hello world   ', '\\tsay something\\n'], dtype=np.str)\n",
    "stripped =np.char.strip(x)\n",
    "lstripped =np.char.lstrip(x)\n",
    "rstripped =np.char.rstrip(x)\n",
    "print(\"stripped =\", stripped)\n",
    "print(\"lstripped =\", lstripped)\n",
    "print(\"rstripped =\", rstripped)\n",
    "#strip removes the space in x\n",
    "#lstrip removes the space before the string\n",
    "#rstrip remove the space which is after the string"
   ]
  },
  {
   "cell_type": "code",
   "execution_count": 19,
   "metadata": {},
   "outputs": [
    {
     "name": "stdout",
     "output_type": "stream",
     "text": [
      "[list(['Hello', 'my', 'name', 'is', 'John'])]\n"
     ]
    }
   ],
   "source": [
    "x = np.array(['Hello my name is John'], dtype=np.str)\n",
    "outputx=np.char.split(x)\n",
    "print(outputx)\n",
    "#it splits array into each indiviual"
   ]
  },
  {
   "cell_type": "code",
   "execution_count": 21,
   "metadata": {},
   "outputs": [
    {
     "name": "stdout",
     "output_type": "stream",
     "text": [
      "[list(['Hello', 'my name is John'])]\n"
     ]
    }
   ],
   "source": [
    "x = np.array(['Hello\\nmy name is John'], dtype=np.str)\n",
    "out=np.char.splitlines(x)\n",
    "print(out)\n",
    "#splitlines returns the line after \\n as string"
   ]
  },
  {
   "cell_type": "code",
   "execution_count": 6,
   "metadata": {},
   "outputs": [
    {
     "name": "stdout",
     "output_type": "stream",
     "text": [
      "['0034']\n"
     ]
    }
   ],
   "source": [
    "x = np.array(['34'], dtype=np.str)\n",
    "output = np.char.zfill(x,4)\n",
    "print(output)\n",
    "#zfill fills zeros to the left here we had given 2"
   ]
  },
  {
   "cell_type": "code",
   "execution_count": 29,
   "metadata": {},
   "outputs": [
    {
     "name": "stdout",
     "output_type": "stream",
     "text": [
      "['Hello nmy name is Jim']\n"
     ]
    }
   ],
   "source": [
    "x = np.array(['Hello nmy name is Jim'], dtype=np.str)\n",
    "print(x)\n",
    "#prints x"
   ]
  },
  {
   "cell_type": "code",
   "execution_count": 30,
   "metadata": {},
   "outputs": [
    {
     "name": "stdout",
     "output_type": "stream",
     "text": [
      "[ True  True  True  True False]\n"
     ]
    }
   ],
   "source": [
    "x1 = np.array(['Hello', 'my', 'name', 'is', 'John'], dtype=np.str)\n",
    "x2 = np.array(['Hello', 'my', 'name', 'is', 'Jim'], dtype=np.str)\n",
    "out=np.char.equal(x1,x2)\n",
    "print(out)\n",
    "#equal verifies the elemments in two arrays x1,x2 if both match returns true else false"
   ]
  },
  {
   "cell_type": "code",
   "execution_count": 32,
   "metadata": {},
   "outputs": [
    {
     "name": "stdout",
     "output_type": "stream",
     "text": [
      "[False False False False  True]\n"
     ]
    }
   ],
   "source": [
    "x1 = np.array(['Hello', 'my', 'name', 'is', 'John'], dtype=np.str)\n",
    "x2 = np.array(['Hello', 'my', 'name', 'is', 'Jim'], dtype=np.str)\n",
    "out=np.char.not_equal(x1,x2)\n",
    "print(out)\n",
    "#not equal is viceversa of equal.if two elements match retruns false else true"
   ]
  },
  {
   "cell_type": "code",
   "execution_count": 34,
   "metadata": {},
   "outputs": [
    {
     "name": "stdout",
     "output_type": "stream",
     "text": [
      "[2 0 0 0 1]\n"
     ]
    }
   ],
   "source": [
    "x = np.array(['Hello', 'my', 'name', 'is', 'Lily'], dtype=np.str)\n",
    "out=np.char.count(x,'l')\n",
    "print(out)\n",
    "#count checks if the given char is present in the array & prints the no.of char in each element"
   ]
  },
  {
   "cell_type": "code",
   "execution_count": 37,
   "metadata": {},
   "outputs": [
    {
     "name": "stdout",
     "output_type": "stream",
     "text": [
      "Digits only = [False False False  True False False]\n",
      "Lower cases only = [False False  True False  True  True]\n",
      "Upper cases only = [False  True False False False False]\n"
     ]
    }
   ],
   "source": [
    "x = np.array(['Hello', 'I', 'am', '20', 'years', 'old'], dtype=np.str)\n",
    "out1 =np.char.isdigit(x)\n",
    "out2 =np.char.islower(x)\n",
    "out3 =np.char.isupper(x)\n",
    "print(\"Digits only =\", out1)\n",
    "print(\"Lower cases only =\", out2)\n",
    "print(\"Upper cases only =\", out3)\n",
    "#isdigit returns if there is any number in x as true \n",
    "#islower returns the lowercase elements as true\n",
    "#isupper returns the uppercase as true and remaing as flase"
   ]
  },
  {
   "cell_type": "code",
   "execution_count": 7,
   "metadata": {},
   "outputs": [
    {
     "name": "stdout",
     "output_type": "stream",
     "text": [
      "[False  True  True  True]\n"
     ]
    }
   ],
   "source": [
    "import numpy as np\n",
    "x = np.array(['he', 'his', 'him', 'his'], dtype=np.str)\n",
    "out=np.char.startswith(x,'hi')\n",
    "print(out)"
   ]
  },
  {
   "cell_type": "code",
   "execution_count": null,
   "metadata": {},
   "outputs": [],
   "source": []
  }
 ],
 "metadata": {
  "kernelspec": {
   "display_name": "Python 3",
   "language": "python",
   "name": "python3"
  },
  "language_info": {
   "codemirror_mode": {
    "name": "ipython",
    "version": 3
   },
   "file_extension": ".py",
   "mimetype": "text/x-python",
   "name": "python",
   "nbconvert_exporter": "python",
   "pygments_lexer": "ipython3",
   "version": "3.7.1"
  }
 },
 "nbformat": 4,
 "nbformat_minor": 2
}
