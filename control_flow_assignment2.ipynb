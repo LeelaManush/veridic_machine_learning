{
 "cells": [
  {
   "cell_type": "markdown",
   "metadata": {},
   "source": [
    "Question-1 :\n",
    "Given an integer,n perform the following conditional actions:  Take the input from keyboard using input() function\n",
    "\n",
    "If n is odd, print Weird\n",
    "If n is even and in the inclusive range of 2 to 5, print Not Weird\n",
    "If n is even and in the inclusive range of 6 to 20, print Weird\n",
    "If n is even and greater than 20, print Not Weird."
   ]
  },
  {
   "cell_type": "code",
   "execution_count": null,
   "metadata": {},
   "outputs": [],
   "source": []
  },
  {
   "cell_type": "markdown",
   "metadata": {},
   "source": [
    "Question-2: \n",
    "\n",
    "Assign 10 to the variable x and 25 to the variable y. In the same cell, create 2 conditional statements. Let the first one print \"Both conditions are correct\" if x is greater then 3 and y is greater than 13. Let the second one print \"At least one of the conditions is false\" if x is less than or equal to 3 and y is less than or equal to 13. Change the values assigned to x and y and re-run the cell to verify your code still works.\n"
   ]
  },
  {
   "cell_type": "code",
   "execution_count": null,
   "metadata": {},
   "outputs": [],
   "source": []
  },
  {
   "cell_type": "markdown",
   "metadata": {},
   "source": [
    "Question - 3:\n",
    "\n",
    "Print all elements of a list using 'for' loop\n",
    "list = ['23', 'name', 'age', 'veridic', 'python', 'data']\n"
   ]
  },
  {
   "cell_type": "code",
   "execution_count": null,
   "metadata": {},
   "outputs": [],
   "source": []
  },
  {
   "cell_type": "markdown",
   "metadata": {},
   "source": [
    "Queestion - 4:\n",
    "\n",
    "Take inputs from user to make a list. Again take one input from user and search it in the list and delete that element, if found. Iterate over list using for loop\n",
    "\n"
   ]
  },
  {
   "cell_type": "code",
   "execution_count": null,
   "metadata": {},
   "outputs": [],
   "source": []
  },
  {
   "cell_type": "markdown",
   "metadata": {},
   "source": [
    "Question - 5:\n",
    "\n",
    "Print multiplication table of 14?  print it as 14 x 1 = 14 and continue till 20 times"
   ]
  },
  {
   "cell_type": "code",
   "execution_count": null,
   "metadata": {},
   "outputs": [],
   "source": []
  },
  {
   "cell_type": "markdown",
   "metadata": {},
   "source": [
    "Question - 6:\n",
    "\n",
    "You are given with a list of integer elements. Make a new list which will store square of elements of previous list. \n",
    "list = [2, 4, 5, 6, 7, 8, 19, 34, 45, 56, 12, 65, 88, 92, 100]"
   ]
  },
  {
   "cell_type": "code",
   "execution_count": null,
   "metadata": {},
   "outputs": [],
   "source": []
  },
  {
   "cell_type": "markdown",
   "metadata": {},
   "source": [
    "Question - 7: \n",
    "\n",
    "\n",
    "tup = (1, 3, 5, 6, 94, 100, 7)\n",
    "# print all prime numbers only from tuple\n",
    "\n",
    "\n"
   ]
  },
  {
   "cell_type": "code",
   "execution_count": null,
   "metadata": {},
   "outputs": [],
   "source": []
  },
  {
   "cell_type": "markdown",
   "metadata": {},
   "source": [
    "Question - 8:\n",
    "\n",
    "Create a login system using control flow statements. \n",
    "Requirements: when you execute the code, first prompt must be \"enter the username\". Username must start with \"VER\" key word, must contain 8 characters.\n",
    "\n",
    "password must be combination of letters and numbers, atleast one letter must be caps and accept specials characters like !, @ ,# etc if needed.\n",
    "\n",
    "If all conditions are satisified print login success!\n"
   ]
  },
  {
   "cell_type": "code",
   "execution_count": null,
   "metadata": {},
   "outputs": [],
   "source": []
  },
  {
   "cell_type": "markdown",
   "metadata": {},
   "source": [
    "Question- 9:\n",
    "\n",
    "Program code for rock paper scissors game! without using any imports. you must be able to do it on your own!"
   ]
  },
  {
   "cell_type": "code",
   "execution_count": null,
   "metadata": {},
   "outputs": [],
   "source": []
  },
  {
   "cell_type": "code",
   "execution_count": null,
   "metadata": {},
   "outputs": [],
   "source": []
  }
 ],
 "metadata": {
  "kernelspec": {
   "display_name": "Python 3",
   "language": "python",
   "name": "python3"
  },
  "language_info": {
   "codemirror_mode": {
    "name": "ipython",
    "version": 3
   },
   "file_extension": ".py",
   "mimetype": "text/x-python",
   "name": "python",
   "nbconvert_exporter": "python",
   "pygments_lexer": "ipython3",
   "version": "3.7.1"
  }
 },
 "nbformat": 4,
 "nbformat_minor": 2
}
