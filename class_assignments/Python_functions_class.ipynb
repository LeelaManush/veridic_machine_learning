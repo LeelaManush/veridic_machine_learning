{
 "cells": [
  {
   "cell_type": "code",
   "execution_count": 1,
   "metadata": {},
   "outputs": [
    {
     "name": "stdout",
     "output_type": "stream",
     "text": [
      "Hello world!\n"
     ]
    }
   ],
   "source": [
    "# Function is a block of organized and reusable code that is used to perform a single, specific action. \n",
    "\n",
    "def hello_world():\n",
    "    print('Hello world!')\n",
    "\n",
    "hello_world()\n",
    "    "
   ]
  },
  {
   "cell_type": "code",
   "execution_count": 2,
   "metadata": {},
   "outputs": [
    {
     "name": "stdout",
     "output_type": "stream",
     "text": [
      "9\n"
     ]
    }
   ],
   "source": [
    "# program to add 2 numbers\n",
    "\n",
    "def sum(a, b):\n",
    "    return a+b\n",
    "\n",
    "result = sum(4, 5)\n",
    "print(result)"
   ]
  },
  {
   "cell_type": "code",
   "execution_count": 3,
   "metadata": {},
   "outputs": [
    {
     "name": "stdout",
     "output_type": "stream",
     "text": [
      "Enter a number:2\n",
      "4\n"
     ]
    }
   ],
   "source": [
    "# program to square 1 numbers:\n",
    "\n",
    "def square(a):\n",
    "    return a ** 2\n",
    "\n",
    "a = int(input('Enter a number:'))\n",
    "print(square(a))"
   ]
  },
  {
   "cell_type": "code",
   "execution_count": 4,
   "metadata": {},
   "outputs": [
    {
     "name": "stdout",
     "output_type": "stream",
     "text": [
      "enter a number:3\n",
      "6\n"
     ]
    }
   ],
   "source": [
    "# program to return factorial of a given number\n",
    "\n",
    "def factorial(a):\n",
    "    if a == 1:\n",
    "        return a\n",
    "    else:\n",
    "        return a * factorial(a-1)\n",
    "num = int(input('enter a number:'))\n",
    "\n",
    "print(factorial(num))"
   ]
  },
  {
   "cell_type": "code",
   "execution_count": 7,
   "metadata": {},
   "outputs": [
    {
     "name": "stdout",
     "output_type": "stream",
     "text": [
      "enter a name:saikiran\n",
      "4\n"
     ]
    }
   ],
   "source": [
    "# count of vowels in a name\n",
    "\n",
    "def vowelcount(name):\n",
    "    ch = ['a', 'e', 'i', 'o', 'u']\n",
    "    count = 0\n",
    "    if type(name) == str:\n",
    "        for i in name:\n",
    "            if i in ch:\n",
    "                count += 1\n",
    "    return count\n",
    "\n",
    "vowelcount('saikiran')\n",
    "\n",
    "def display():\n",
    "    hit = input('enter a name:')\n",
    "    x = vowelcount(hit)\n",
    "    print(x)\n",
    "    \n",
    "display()"
   ]
  },
  {
   "cell_type": "code",
   "execution_count": 9,
   "metadata": {},
   "outputs": [
    {
     "data": {
      "text/plain": [
       "False"
      ]
     },
     "execution_count": 9,
     "metadata": {},
     "output_type": "execute_result"
    }
   ],
   "source": [
    "# program to find if username and password are reverse or not:\n",
    "\n",
    "def login(username, password):\n",
    "    rev = ''\n",
    "    for i in reversed(password):\n",
    "        rev += i\n",
    "    if username == rev:\n",
    "        return True\n",
    "    else:\n",
    "        return False\n",
    "\n",
    "login('sai', 'sai')\n"
   ]
  },
  {
   "cell_type": "code",
   "execution_count": 10,
   "metadata": {},
   "outputs": [
    {
     "data": {
      "text/plain": [
       "['welcome', 'to', 'python', 'and', 'data', 'science']"
      ]
     },
     "execution_count": 10,
     "metadata": {},
     "output_type": "execute_result"
    }
   ],
   "source": [
    "# program to split the given string and return a list:\n",
    "\n",
    "def split(name):\n",
    "    r = ''\n",
    "    li = []\n",
    "    for i in range(0, len(name)):\n",
    "        if not name[i].isspace():\n",
    "            r += name[i]\n",
    "            if i == (len(name)-1):\n",
    "                li.append(r)\n",
    "        else:\n",
    "            li.append(r)\n",
    "            r = ''\n",
    "    return li\n",
    "\n",
    "split('welcome to python and data science')"
   ]
  },
  {
   "cell_type": "code",
   "execution_count": 11,
   "metadata": {},
   "outputs": [
    {
     "name": "stdout",
     "output_type": "stream",
     "text": [
      "bhanu\n"
     ]
    }
   ],
   "source": [
    "# write a program to print names of students based on their birth year\n",
    "\n",
    "from datetime import datetime \n",
    "\n",
    "def get_student_list(dic, year):\n",
    "    for i in dic.keys():\n",
    "        var = dic.get(i)\n",
    "        ch = datetime.strptime(var, \"%d/%m/%Y\")\n",
    "        if ch.year == year:\n",
    "            print(i)\n",
    "\n",
    "get_student_list({\"surya\":\"15/02/1998\", \"sai\":\"25/07/2011\", \"bhanu\": \"14/07/1994\", \"santosh\": \"21/09/1989\"}, 1994)"
   ]
  },
  {
   "cell_type": "code",
   "execution_count": 12,
   "metadata": {},
   "outputs": [
    {
     "name": "stdout",
     "output_type": "stream",
     "text": [
      "{' ': 12,\n",
      " ',': 1,\n",
      " 'I': 1,\n",
      " 'a': 7,\n",
      " 'b': 1,\n",
      " 'c': 1,\n",
      " 'd': 3,\n",
      " 'e': 4,\n",
      " 'g': 1,\n",
      " 'h': 3,\n",
      " 'i': 4,\n",
      " 'j': 1,\n",
      " 'l': 1,\n",
      " 'n': 3,\n",
      " 'o': 1,\n",
      " 'r': 4,\n",
      " 's': 2,\n",
      " 't': 3,\n",
      " 'u': 1,\n",
      " 'v': 1,\n",
      " 'w': 1,\n",
      " 'y': 3}\n"
     ]
    }
   ],
   "source": [
    "# program to count the characters in a given string\n",
    "\n",
    "import pprint as pp\n",
    "\n",
    "message = \"It is a bright cold day in january, and whatever i say here\"\n",
    "count = {}\n",
    "\n",
    "for character in message:\n",
    "    count.setdefault(character, 0)\n",
    "    count[character] += 1\n",
    "    \n",
    "print(pp.pformat(count))"
   ]
  }
 ],
 "metadata": {
  "kernelspec": {
   "display_name": "Python 3",
   "language": "python",
   "name": "python3"
  },
  "language_info": {
   "codemirror_mode": {
    "name": "ipython",
    "version": 3
   },
   "file_extension": ".py",
   "mimetype": "text/x-python",
   "name": "python",
   "nbconvert_exporter": "python",
   "pygments_lexer": "ipython3",
   "version": "3.7.0"
  }
 },
 "nbformat": 4,
 "nbformat_minor": 2
}
