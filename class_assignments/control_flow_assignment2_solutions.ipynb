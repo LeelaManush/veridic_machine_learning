{
 "cells": [
  {
   "cell_type": "markdown",
   "metadata": {},
   "source": [
    "Question-1 :\n",
    "Given an integer,n perform the following conditional actions:  Take the input from keyboard using input() function\n",
    "\n",
    "If n is odd, print Weird\n",
    "If n is even and in the inclusive range of 2 to 5, print Not Weird\n",
    "If n is even and in the inclusive range of 6 to 20, print Weird\n",
    "If n is even and greater than 20, print Not Weird."
   ]
  },
  {
   "cell_type": "code",
   "execution_count": 4,
   "metadata": {},
   "outputs": [
    {
     "name": "stdout",
     "output_type": "stream",
     "text": [
      "Enter a number: 26\n",
      "Not Weird..\n"
     ]
    }
   ],
   "source": [
    "n = int(input('Enter a number: '))\n",
    "\n",
    "if n % 2 == 1:\n",
    "    print('Weird!!')\n",
    "else:\n",
    "    if (n >= 2 and n <= 5) or (n > 20):\n",
    "        print('Not Weird..')\n",
    "    else:\n",
    "        print('Weird!!')"
   ]
  },
  {
   "cell_type": "markdown",
   "metadata": {},
   "source": [
    "Question-2: \n",
    "\n",
    "Assign 10 to the variable x and 25 to the variable y. In the same cell, create 2 conditional statements. Let the first one print \"Both conditions are correct\" if x is greater then 3 and y is greater than 13. Let the second one print \"At least one of the conditions is false\" if x is less than or equal to 3 and y is less than or equal to 13. Change the values assigned to x and y and re-run the cell to verify your code still works.\n"
   ]
  },
  {
   "cell_type": "code",
   "execution_count": 8,
   "metadata": {},
   "outputs": [
    {
     "name": "stdout",
     "output_type": "stream",
     "text": [
      "Both conditions are correct.\n"
     ]
    }
   ],
   "source": [
    "x = 10\n",
    "y = 25\n",
    "if x > 3 and y > 13:\n",
    "    print('Both conditions are correct.')\n",
    "\n",
    "if x <= 3 or y <= 13:\n",
    "    print('Atleast one of the conditions is false.')\n",
    "    "
   ]
  },
  {
   "cell_type": "markdown",
   "metadata": {},
   "source": [
    "Question - 3:\n",
    "\n",
    "Print all elements of a list using 'for' loop\n",
    "list = ['23', 'name', 'age', 'veridic', 'python', 'data']\n"
   ]
  },
  {
   "cell_type": "code",
   "execution_count": 5,
   "metadata": {},
   "outputs": [
    {
     "name": "stdout",
     "output_type": "stream",
     "text": [
      "23\n",
      "name\n",
      "age\n",
      "veridic\n",
      "python\n",
      "data\n"
     ]
    }
   ],
   "source": [
    "l = ['23', 'name', 'age', 'veridic', 'python', 'data']\n",
    "\n",
    "for ele in l:\n",
    "    print(ele)\n"
   ]
  },
  {
   "cell_type": "markdown",
   "metadata": {},
   "source": [
    "Queestion - 4:\n",
    "\n",
    "Take inputs from user to make a list. Again take one input from user and search it in the list and delete that element, if found. Iterate over list using for loop\n",
    "\n"
   ]
  },
  {
   "cell_type": "code",
   "execution_count": 10,
   "metadata": {},
   "outputs": [
    {
     "name": "stdout",
     "output_type": "stream",
     "text": [
      "Enter number of elements: 3\n",
      "Enter element: sai\n",
      "Enter element: sumanth\n",
      "Enter element: kohli\n",
      "['sai', 'sumanth', 'kohli']\n",
      "Enter element to delete: sai\n",
      "['sumanth', 'kohli']\n"
     ]
    }
   ],
   "source": [
    "n = int(input('Enter number of elements: '))\n",
    "l = []\n",
    "for i in range(n):\n",
    "    item = input('Enter element: ')\n",
    "    l.append(item)\n",
    "\n",
    "print(l)\n",
    "item_to_search = input('Enter element to delete: ')\n",
    "l.remove(item_to_search)\n",
    "print(l)"
   ]
  },
  {
   "cell_type": "markdown",
   "metadata": {},
   "source": [
    "Question - 5:\n",
    "\n",
    "Print multiplication table of 14?  print it as 14 x 1 = 14 and continue till 20 times"
   ]
  },
  {
   "cell_type": "code",
   "execution_count": 11,
   "metadata": {},
   "outputs": [
    {
     "name": "stdout",
     "output_type": "stream",
     "text": [
      "14 x 1 = 14\n",
      "14 x 2 = 28\n",
      "14 x 3 = 42\n",
      "14 x 4 = 56\n",
      "14 x 5 = 70\n",
      "14 x 6 = 84\n",
      "14 x 7 = 98\n",
      "14 x 8 = 112\n",
      "14 x 9 = 126\n",
      "14 x 10 = 140\n"
     ]
    }
   ],
   "source": [
    "for i in range(10):\n",
    "    print('14 x ' + str(i+1) + ' = ' +str(14*(i+1))) "
   ]
  },
  {
   "cell_type": "markdown",
   "metadata": {},
   "source": [
    "Question - 6:\n",
    "\n",
    "You are given with a list of integer elements. Make a new list which will store square of elements of previous list. \n",
    "list = [2, 4, 5, 6, 7, 8, 19, 34, 45, 56, 12, 65, 88, 92, 100]"
   ]
  },
  {
   "cell_type": "code",
   "execution_count": 12,
   "metadata": {},
   "outputs": [
    {
     "name": "stdout",
     "output_type": "stream",
     "text": [
      "[4, 16, 25, 36, 49, 64, 361, 1156, 2025, 3136, 144, 4225, 7744, 8464, 10000]\n"
     ]
    }
   ],
   "source": [
    "l =  [2, 4, 5, 6, 7, 8, 19, 34, 45, 56, 12, 65, 88, 92, 100]\n",
    "sq_l = []\n",
    "\n",
    "for i in l:\n",
    "    sq_l.append(i ** 2)\n",
    "\n",
    "print(sq_l)\n"
   ]
  },
  {
   "cell_type": "markdown",
   "metadata": {},
   "source": [
    "Question - 7: \n",
    "\n",
    "\n",
    "tup = (1, 3, 5, 6, 94, 100, 7)\n",
    "# print all prime numbers only from tuple\n",
    "\n",
    "\n"
   ]
  },
  {
   "cell_type": "code",
   "execution_count": 20,
   "metadata": {},
   "outputs": [
    {
     "name": "stdout",
     "output_type": "stream",
     "text": [
      "3\n",
      "5\n",
      "7\n"
     ]
    }
   ],
   "source": [
    "tup = (1, 3, 5, 6, 94, 100, 7)\n",
    "\n",
    "for i in tup:\n",
    "    if i > 1:\n",
    "        for j in range(2,i):\n",
    "            if i % j == 0:\n",
    "                break\n",
    "        else:    \n",
    "            print(i)\n",
    "            "
   ]
  },
  {
   "cell_type": "markdown",
   "metadata": {},
   "source": [
    "Question - 8:\n",
    "\n",
    "Create a login system using control flow statements. \n",
    "Requirements: when you execute the code, first prompt must be \"enter the username\". Username must start with \"VER\" key word, must contain 8 characters.\n",
    "\n",
    "password must be combination of letters and numbers, atleast one letter must be caps and accept specials characters like !, @ ,# etc if needed.\n",
    "\n",
    "If all conditions are satisified print login success!\n"
   ]
  },
  {
   "cell_type": "code",
   "execution_count": null,
   "metadata": {},
   "outputs": [],
   "source": [
    "def is_spl(a):\n",
    "    if a in ['$', '!', '#', '@', '%', '^', '&', '*', '_']:\n",
    "        return True\n",
    "    else:\n",
    "        return False\n",
    "    \n",
    "\n",
    "username = input('Enter the username: ')\n",
    "if username[:3] == 'VER' and len(username) >= 8:\n",
    "    password = input('Enter the password: ')\n",
    "    if any(ch.isalnum() for ch in password):\n",
    "        if any(is_spl(c) for c in password):\n",
    "            print('Access granted !')\n",
    "        else:\n",
    "            print('Password invalid...')\n",
    "    else:\n",
    "        print('Password invalid....')\n",
    "else:\n",
    "    print('Username is not correct.')"
   ]
  },
  {
   "cell_type": "markdown",
   "metadata": {},
   "source": [
    "Question- 9:\n",
    "\n",
    "Program code for rock paper scissors game! without using any imports. you must be able to do it on your own!"
   ]
  },
  {
   "cell_type": "code",
   "execution_count": 22,
   "metadata": {},
   "outputs": [
    {
     "name": "stdout",
     "output_type": "stream",
     "text": [
      "Enter user1 input: rock\n",
      "Enter user2 input: paper\n",
      "Paper wins!\n"
     ]
    }
   ],
   "source": [
    "u1 = input('Enter user1 input: ')\n",
    "u2 = input('Enter user2 input: ')\n",
    "if u1 == u2:\n",
    "    print(\"It's a tie!\")\n",
    "elif u1 == 'rock':\n",
    "    if u2 == 'scissors':\n",
    "        print(\"Rock wins!\")\n",
    "    else:\n",
    "        print(\"Paper wins!\")\n",
    "elif u1 == 'scissors':\n",
    "    if u2 == 'paper':\n",
    "        print(\"Scissors win!\")\n",
    "    else:\n",
    "        print(\"Rock wins!\")\n",
    "elif u1 == 'paper':\n",
    "    if u2 == 'rock':\n",
    "        print(\"Paper wins!\")\n",
    "    else:\n",
    "        print(\"Scissors win!\")\n",
    "else:\n",
    "    print(\"Invalid input! You have not entered rock, paper or scissors, try again.\")"
   ]
  },
  {
   "cell_type": "code",
   "execution_count": null,
   "metadata": {},
   "outputs": [],
   "source": []
  }
 ],
 "metadata": {
  "kernelspec": {
   "display_name": "Python 3",
   "language": "python",
   "name": "python3"
  },
  "language_info": {
   "codemirror_mode": {
    "name": "ipython",
    "version": 3
   },
   "file_extension": ".py",
   "mimetype": "text/x-python",
   "name": "python",
   "nbconvert_exporter": "python",
   "pygments_lexer": "ipython3",
   "version": "3.7.0"
  }
 },
 "nbformat": 4,
 "nbformat_minor": 2
}
