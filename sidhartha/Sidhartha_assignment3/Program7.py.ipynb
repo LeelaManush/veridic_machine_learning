{
 "cells": [
  {
   "cell_type": "code",
   "execution_count": 15,
   "metadata": {},
   "outputs": [
    {
     "name": "stdout",
     "output_type": "stream",
     "text": [
      "enter the string:knjH\n",
      "UPPER CASE:1 LOWER CASE:3\n"
     ]
    }
   ],
   "source": [
    "def upper_lower(x):\n",
    "    ucount=0\n",
    "    lcount=0\n",
    "    for i in x: \n",
    "        if (i.isupper())== False:\n",
    "              lcount+=1\n",
    "        elif (i.islower())== False:\n",
    "              ucount+=1\n",
    "    print('UPPER CASE:{}'.format(ucount),'LOWER CASE:{}'.format(lcount))        \n",
    "inp= input(\"enter the string:\")\n",
    "upper_lower(inp)"
   ]
  },
  {
   "cell_type": "code",
   "execution_count": null,
   "metadata": {},
   "outputs": [],
   "source": []
  }
 ],
 "metadata": {
  "kernelspec": {
   "display_name": "Python 3",
   "language": "python",
   "name": "python3"
  },
  "language_info": {
   "codemirror_mode": {
    "name": "ipython",
    "version": 3
   },
   "file_extension": ".py",
   "mimetype": "text/x-python",
   "name": "python",
   "nbconvert_exporter": "python",
   "pygments_lexer": "ipython3",
   "version": "3.7.1"
  }
 },
 "nbformat": 4,
 "nbformat_minor": 2
}
