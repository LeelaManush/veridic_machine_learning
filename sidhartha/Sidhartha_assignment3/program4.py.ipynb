{
 "cells": [
  {
   "cell_type": "code",
   "execution_count": 19,
   "metadata": {},
   "outputs": [
    {
     "name": "stdout",
     "output_type": "stream",
     "text": [
      "enter the list:1 23 5\n",
      "minimum value in list:6\n",
      "maximum value in list:28\n"
     ]
    }
   ],
   "source": [
    "def array_list(lis):\n",
    "    lis_max=max(lis)\n",
    "    lis.remove(lis_max)\n",
    "    minimum=sum(lis)\n",
    "    print('minimum value in list:{}'.format(minimum))\n",
    "    lis.append(lis_max)\n",
    "    lis_min=min(lis)\n",
    "    lis.remove(lis_min)\n",
    "    maximum=sum(lis)\n",
    "    print('maximum value in list:{}'.format(maximum))\n",
    "inp=list(map(int,input(\"enter the list:\").split()))\n",
    "array_list(inp)"
   ]
  },
  {
   "cell_type": "code",
   "execution_count": null,
   "metadata": {},
   "outputs": [],
   "source": []
  },
  {
   "cell_type": "code",
   "execution_count": null,
   "metadata": {},
   "outputs": [],
   "source": []
  },
  {
   "cell_type": "code",
   "execution_count": null,
   "metadata": {},
   "outputs": [],
   "source": []
  }
 ],
 "metadata": {
  "kernelspec": {
   "display_name": "Python 3",
   "language": "python",
   "name": "python3"
  },
  "language_info": {
   "codemirror_mode": {
    "name": "ipython",
    "version": 3
   },
   "file_extension": ".py",
   "mimetype": "text/x-python",
   "name": "python",
   "nbconvert_exporter": "python",
   "pygments_lexer": "ipython3",
   "version": "3.7.1"
  }
 },
 "nbformat": 4,
 "nbformat_minor": 2
}
