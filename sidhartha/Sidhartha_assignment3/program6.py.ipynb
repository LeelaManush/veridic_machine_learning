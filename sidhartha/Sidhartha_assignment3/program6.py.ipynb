{
 "cells": [
  {
   "cell_type": "code",
   "execution_count": 7,
   "metadata": {},
   "outputs": [
    {
     "name": "stdout",
     "output_type": "stream",
     "text": [
      "enter the number to check palindrome or not:121\n",
      "The given number is the palindrome number\n"
     ]
    }
   ],
   "source": [
    "def palindrome(num1,num2):\n",
    "    if num1==num2:\n",
    "        return True\n",
    "    elif num1!=num2:\n",
    "        return False\n",
    "num1=input(\"enter the number to check palindrome or not:\")\n",
    "num2=num1[::-1]\n",
    "res=palindrome(num1,num2)\n",
    "if res==True:\n",
    "    print(\"The given number is the palindrome number\")\n",
    "else:\n",
    "    print(\"The given number is not the palindrome number\")\n"
   ]
  },
  {
   "cell_type": "code",
   "execution_count": null,
   "metadata": {},
   "outputs": [],
   "source": []
  }
 ],
 "metadata": {
  "kernelspec": {
   "display_name": "Python 3",
   "language": "python",
   "name": "python3"
  },
  "language_info": {
   "codemirror_mode": {
    "name": "ipython",
    "version": 3
   },
   "file_extension": ".py",
   "mimetype": "text/x-python",
   "name": "python",
   "nbconvert_exporter": "python",
   "pygments_lexer": "ipython3",
   "version": "3.7.1"
  }
 },
 "nbformat": 4,
 "nbformat_minor": 2
}
