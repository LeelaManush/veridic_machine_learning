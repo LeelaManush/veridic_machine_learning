{
 "cells": [
  {
   "cell_type": "code",
   "execution_count": 14,
   "metadata": {},
   "outputs": [
    {
     "name": "stdout",
     "output_type": "stream",
     "text": [
      "enter the integer:89\n",
      "268\n",
      "134\n",
      "67\n",
      "202\n",
      "101\n",
      "304\n",
      "152\n",
      "76\n",
      "38\n",
      "19\n",
      "58\n",
      "29\n",
      "88\n",
      "44\n",
      "22\n",
      "11\n",
      "34\n",
      "17\n",
      "52\n",
      "26\n",
      "13\n",
      "40\n",
      "20\n",
      "10\n",
      "5\n",
      "16\n",
      "8\n",
      "4\n",
      "2\n",
      "1\n"
     ]
    }
   ],
   "source": [
    "def collatz(number):\n",
    "    if number%2==0:\n",
    "        print(number//2)\n",
    "        return number//2\n",
    "    elif number%2==1:\n",
    "        print(3*number+1)\n",
    "        return 3*number+1\n",
    "\n",
    "def call_collatz(mem):\n",
    "    while 1:\n",
    "        mem=collatz(mem)\n",
    "        if mem==1:\n",
    "            break;\n",
    "inp = int(input(\"enter the integer:\"))\n",
    "call_collatz(inp)\n",
    "    "
   ]
  },
  {
   "cell_type": "code",
   "execution_count": null,
   "metadata": {},
   "outputs": [],
   "source": []
  }
 ],
 "metadata": {
  "kernelspec": {
   "display_name": "Python 3",
   "language": "python",
   "name": "python3"
  },
  "language_info": {
   "codemirror_mode": {
    "name": "ipython",
    "version": 3
   },
   "file_extension": ".py",
   "mimetype": "text/x-python",
   "name": "python",
   "nbconvert_exporter": "python",
   "pygments_lexer": "ipython3",
   "version": "3.7.1"
  }
 },
 "nbformat": 4,
 "nbformat_minor": 2
}
