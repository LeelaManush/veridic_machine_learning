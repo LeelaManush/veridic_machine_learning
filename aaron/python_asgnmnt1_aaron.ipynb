{
 "cells": [
  {
   "cell_type": "markdown",
   "metadata": {},
   "source": [
    "HINTS: If you want to take input using keyboard use input('enter the name:'), and when you execute it, python will prompt you to enter the name. Default input taken is a string, Use type casting int(), str() to convert type as needed."
   ]
  },
  {
   "cell_type": "markdown",
   "metadata": {},
   "source": [
    "1. Write a Python program to get a string made of the first 2 and the last chars from a given a string?\n",
    "\n",
    "string = 'veridicsolutions'\n",
    "\n",
    "expected output = vens\n"
   ]
  },
  {
   "cell_type": "code",
   "execution_count": null,
   "metadata": {},
   "outputs": [],
   "source": [
    "string = input(\"Enter a string: \")\n",
    "print(string[:2] + string[-2:])"
   ]
  },
  {
   "cell_type": "markdown",
   "metadata": {},
   "source": [
    "2. Write a program to add up the last 2 characters 3 times for the above string?\n",
    "\n",
    "expected output = nsnsns"
   ]
  },
  {
   "cell_type": "code",
   "execution_count": null,
   "metadata": {},
   "outputs": [],
   "source": [
    "print(string[-2:] * 3)"
   ]
  },
  {
   "cell_type": "markdown",
   "metadata": {},
   "source": [
    "3. Read two integers from input() and print five lines where:\n",
    "    a.\tThe first line contains the sum of the two numbers.\n",
    "    b.\tThe second line contains the difference of the two numbers (first - second).\n",
    "    c.\tThe third line contains the product of the two numbers.\n",
    "    d.\t The fourth line should contain integer division, a//b.\n",
    "    e.\tThe fifth line should contain float division, a/b.\n"
   ]
  },
  {
   "cell_type": "code",
   "execution_count": null,
   "metadata": {},
   "outputs": [],
   "source": [
    "a,b = input(\"Enter two integers: \").split()\n",
    "a,b = int(a), int(b)\n",
    "print(\"{}\\n{}\\n{}\\n{}\\n{}\".format(a+b, a-b, a*b, a//b, a/b))"
   ]
  },
  {
   "cell_type": "markdown",
   "metadata": {},
   "source": [
    "4. Write a program to print the following using string slicing given the string is ‘Python’\n",
    "    1.\t‘P’\n",
    "    2.\t‘n’\n",
    "    3.\t‘ytho’\n",
    "    4.\t‘on’\n",
    "    5.\t‘Py’\n"
   ]
  },
  {
   "cell_type": "code",
   "execution_count": null,
   "metadata": {},
   "outputs": [],
   "source": [
    "string = 'Python'\n",
    "print(\"{}\\n{}\\n{}\\n{}\\n{}\".format(string[0],string[-1],string[1:-1],string[-2:],string[:2]))"
   ]
  },
  {
   "cell_type": "markdown",
   "metadata": {},
   "source": [
    "5. Given 2 strings, print their concatenation, except omit the first char of each. The strings will be atleast length 1.        \n",
    "Example: 'Hello', 'There'  expected output:  'ellohere'\n"
   ]
  },
  {
   "cell_type": "code",
   "execution_count": null,
   "metadata": {},
   "outputs": [],
   "source": [
    "str_list = input(\"Enter two strings: \").split()\n",
    "print(str_list[0][1:]+str_list[1][1:])"
   ]
  },
  {
   "cell_type": "markdown",
   "metadata": {},
   "source": [
    "6. Given the participants' score sheet for your University Sports Day, you are required to find the runner-up score. You are given scores. Store them in a list and find the score of the runner-up.\n",
    "\n",
    "Example: Given list is [2,3,6,6,5]. The maximum score is 6, second maximum is 5. Hence, we print 5 as the runner-up score.\n"
   ]
  },
  {
   "cell_type": "code",
   "execution_count": null,
   "metadata": {},
   "outputs": [],
   "source": [
    "score = input('Enter the scores: ').split()\n",
    "score = list(map(int, score))\n",
    "score.sort(reverse=True)\n",
    "count = score.count(score[0])\n",
    "score[count]"
   ]
  },
  {
   "cell_type": "markdown",
   "metadata": {},
   "source": [
    "7. Given a student’s marks list as 56, 75, 89, 78. Calculate and print the total marks and the percentage that the student obtained. (Info: Total marks for each subject is 100)"
   ]
  },
  {
   "cell_type": "code",
   "execution_count": null,
   "metadata": {},
   "outputs": [],
   "source": [
    "marks = input('Enter the marks: ').split()\n",
    "marks = list(map(int, marks))\n",
    "print(\"Total marks: {}\".format(sum(marks)))\n",
    "print(\"Percentage: {:.2f}%\".format(sum(marks)/len(marks)))"
   ]
  },
  {
   "cell_type": "markdown",
   "metadata": {},
   "source": [
    "8. Write a program to swap two numbers given only 2 variables 'a' and 'b' ( condition: No other variables should be declared other than a and b)"
   ]
  },
  {
   "cell_type": "code",
   "execution_count": null,
   "metadata": {},
   "outputs": [],
   "source": [
    "a,b = input(\"Enter two numbers: \").split()\n",
    "a,b = int(a), int(b)\n",
    "a += b\n",
    "b = a - b\n",
    "a -= b\n",
    "print(a,b)"
   ]
  },
  {
   "cell_type": "markdown",
   "metadata": {},
   "source": [
    "9. write a program to print the are and perimeter of a circle, given radisu is input from keyboard. ( PI value = 3.14)\n",
    "Area = PI * radius**2\n",
    "perimeter = 2* PI * radius"
   ]
  },
  {
   "cell_type": "code",
   "execution_count": null,
   "metadata": {},
   "outputs": [],
   "source": [
    "rad = int(input(\"Enter the radius: \"))\n",
    "circle_dict = {'Area': 3.14 * rad**2,\n",
    "              'Perimeter': 2 * 3.14 * rad}\n",
    "print(\"Area is {} and perimeter is {}\".format(circle_dict['Area'], circle_dict['Perimeter']))"
   ]
  },
  {
   "cell_type": "markdown",
   "metadata": {},
   "source": [
    "10. Practice string methods, list methods, dict methods "
   ]
  },
  {
   "cell_type": "code",
   "execution_count": null,
   "metadata": {},
   "outputs": [],
   "source": []
  }
 ],
 "metadata": {
  "kernelspec": {
   "display_name": "Python 3",
   "language": "python",
   "name": "python3"
  },
  "language_info": {
   "codemirror_mode": {
    "name": "ipython",
    "version": 3
   },
   "file_extension": ".py",
   "mimetype": "text/x-python",
   "name": "python",
   "nbconvert_exporter": "python",
   "pygments_lexer": "ipython3",
   "version": "3.7.0"
  },
  "toc": {
   "nav_menu": {},
   "number_sections": true,
   "sideBar": true,
   "skip_h1_title": false,
   "title_cell": "Table of Contents",
   "title_sidebar": "Contents",
   "toc_cell": false,
   "toc_position": {},
   "toc_section_display": true,
   "toc_window_display": false
  }
 },
 "nbformat": 4,
 "nbformat_minor": 2
}
