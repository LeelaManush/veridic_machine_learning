{
 "cells": [
  {
   "cell_type": "markdown",
   "metadata": {},
   "source": [
    "HINTS: If you want to take input using keyboard use input('enter the name:'), and when you execute it, python will prompt you to enter the name. Default input taken is a string, Use type casting int(), str() to convert type as needed."
   ]
  },
  {
   "cell_type": "markdown",
   "metadata": {},
   "source": [
    "1. Write a Python program to get a string made of the first 2 and the last chars from a given a string?\n",
    "\n",
    "string = 'veridicsolutions'\n",
    "\n",
    "expected output = vens\n"
   ]
  },
  {
   "cell_type": "code",
   "execution_count": 2,
   "metadata": {},
   "outputs": [
    {
     "name": "stdout",
     "output_type": "stream",
     "text": [
      "vens\n"
     ]
    }
   ],
   "source": [
    "a='veridicsolutions'\n",
    "print(a[:2]+a[-2:])"
   ]
  },
  {
   "cell_type": "markdown",
   "metadata": {},
   "source": [
    "2. Write a program to add up the last 2 characters 3 times for the above string?\n",
    "\n",
    "expected output = nsnsns"
   ]
  },
  {
   "cell_type": "code",
   "execution_count": 3,
   "metadata": {},
   "outputs": [
    {
     "name": "stdout",
     "output_type": "stream",
     "text": [
      "nsnsns\n"
     ]
    }
   ],
   "source": [
    "a='veridicsolutions'\n",
    "print(a[-2:]*3)"
   ]
  },
  {
   "cell_type": "markdown",
   "metadata": {},
   "source": [
    "3. Read two integers from input() and print five lines where:\n",
    "    a.\tThe first line contains the sum of the two numbers.\n",
    "    b.\tThe second line contains the difference of the two numbers (first - second).\n",
    "    c.\tThe third line contains the product of the two numbers.\n",
    "    d.\t The fourth line should contain integer division, a//b.\n",
    "    e.\tThe fifth line should contain float division, a/b.\n"
   ]
  },
  {
   "cell_type": "code",
   "execution_count": 4,
   "metadata": {},
   "outputs": [
    {
     "name": "stdout",
     "output_type": "stream",
     "text": [
      "enter a value5\n",
      "enter b value4\n",
      "9 1 20 1 1.25\n"
     ]
    }
   ],
   "source": [
    "a=input('enter a value')\n",
    "b=input('enter b value')\n",
    "sum=int(a)+int(b)\n",
    "difference=int(a)-int(b)\n",
    "product=int(a)*int(b)\n",
    "division=int(a)//int(b)\n",
    "divisionfloat=int(a)/int(b)\n",
    "print(sum,difference,product,division,divisionfloat)"
   ]
  },
  {
   "cell_type": "markdown",
   "metadata": {},
   "source": [
    "4. Write a program to print the following using string slicing given the string is ‘Python’\n",
    "    1.\t‘P’\n",
    "    2.\t‘n’\n",
    "    3.\t‘ytho’\n",
    "    4.\t‘on’\n",
    "    5.\t‘Py’\n"
   ]
  },
  {
   "cell_type": "code",
   "execution_count": 5,
   "metadata": {},
   "outputs": [
    {
     "name": "stdout",
     "output_type": "stream",
     "text": [
      "p\n",
      "n\n",
      "ytho\n",
      "on\n",
      "py\n"
     ]
    }
   ],
   "source": [
    "a='python'\n",
    "print(a[-6])\n",
    "print(a[-1])\n",
    "print(a[-5:-1])\n",
    "print(a[-2:])\n",
    "print(a[-6:-4])"
   ]
  },
  {
   "cell_type": "markdown",
   "metadata": {},
   "source": [
    "5. Given 2 strings, print their concatenation, except omit the first char of each. The strings will be atleast length 1.        \n",
    "Example: 'Hello', 'There'  expected output:  'ellohere'\n"
   ]
  },
  {
   "cell_type": "code",
   "execution_count": 6,
   "metadata": {},
   "outputs": [
    {
     "name": "stdout",
     "output_type": "stream",
     "text": [
      "ellohere\n"
     ]
    }
   ],
   "source": [
    "a='hello'\n",
    "b='there'\n",
    "print(a[1:5]+b[1:5])"
   ]
  },
  {
   "cell_type": "markdown",
   "metadata": {},
   "source": [
    "6. Given the participants' score sheet for your University Sports Day, you are required to find the runner-up score. You are given scores. Store them in a list and find the score of the runner-up.\n",
    "\n",
    "Example: Given list is [2,3,6,6,5]. The maximum score is 6, second maximum is 5. Hence, we print 5 as the runner-up score.\n"
   ]
  },
  {
   "cell_type": "code",
   "execution_count": null,
   "metadata": {},
   "outputs": [],
   "source": [
    "l=[2,3,6,6,5]\n",
    "s= set(l)\n",
    "l=list(s)\n",
    "print(l[-2])"
   ]
  },
  {
   "cell_type": "markdown",
   "metadata": {},
   "source": [
    "7. Given a student’s marks list as 56, 75, 89, 78. Calculate and print the total marks and the percentage that the student obtained. (Info: Total marks for each subject is 100)"
   ]
  },
  {
   "cell_type": "code",
   "execution_count": null,
   "metadata": {},
   "outputs": [],
   "source": [
    "list=[56,75,89,78]\n",
    "l=sum(list)\n",
    "a= (l/400)*100\n",
    "print(l,a)"
   ]
  },
  {
   "cell_type": "markdown",
   "metadata": {},
   "source": [
    "8. Write a program to swap two numbers given only 2 variables 'a' and 'b' ( condition: No other variables should be declared other than a and b)"
   ]
  },
  {
   "cell_type": "code",
   "execution_count": 7,
   "metadata": {},
   "outputs": [
    {
     "name": "stdout",
     "output_type": "stream",
     "text": [
      "enter a value2\n",
      "enter b value3\n",
      "2\n",
      "3\n",
      "3\n",
      "2\n"
     ]
    }
   ],
   "source": [
    "a=int(input('enter a value'))\n",
    "b=int(input('enter b value'))\n",
    "print(a)\n",
    "print(b)\n",
    "a=a+b\n",
    "b=a-b\n",
    "a=a-b\n",
    "print(a)\n",
    "print(b)"
   ]
  },
  {
   "cell_type": "markdown",
   "metadata": {},
   "source": [
    "9. write a program to print the are and perimeter of a circle, given radisu is input from keyboard. ( PI value = 3.14)\n",
    "Area = PI * radius**2\n",
    "perimeter = 2* PI * radius"
   ]
  },
  {
   "cell_type": "code",
   "execution_count": 10,
   "metadata": {},
   "outputs": [
    {
     "name": "stdout",
     "output_type": "stream",
     "text": [
      "enter radius value:4\n",
      "50.24 25.12\n"
     ]
    }
   ],
   "source": [
    "pl=3.14\n",
    "r=int(input('enter radius value:'))\n",
    "area=(pl*(r**2))\n",
    "perimeter=(2*pl*r)\n",
    "print(area,perimeter)"
   ]
  },
  {
   "cell_type": "markdown",
   "metadata": {},
   "source": [
    "10. Practice string methods, list methods, dict methods "
   ]
  },
  {
   "cell_type": "code",
   "execution_count": null,
   "metadata": {},
   "outputs": [],
   "source": []
  }
 ],
 "metadata": {
  "kernelspec": {
   "display_name": "Python 3",
   "language": "python",
   "name": "python3"
  },
  "language_info": {
   "codemirror_mode": {
    "name": "ipython",
    "version": 3
   },
   "file_extension": ".py",
   "mimetype": "text/x-python",
   "name": "python",
   "nbconvert_exporter": "python",
   "pygments_lexer": "ipython3",
   "version": "3.7.1"
  }
 },
 "nbformat": 4,
 "nbformat_minor": 2
}
