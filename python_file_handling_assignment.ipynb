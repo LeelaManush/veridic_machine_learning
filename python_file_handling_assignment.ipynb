{
 "cells": [
  {
   "cell_type": "markdown",
   "metadata": {},
   "source": [
    "Read the csv file content into a variable \"csvfile\" and using reader object print the content of the file. file: FL_insurance.csv(uploaded to github repo)"
   ]
  },
  {
   "cell_type": "code",
   "execution_count": null,
   "metadata": {},
   "outputs": [],
   "source": []
  },
  {
   "cell_type": "markdown",
   "metadata": {},
   "source": [
    "Questions-2: Take any 2 lists and write the items of the lists into a new csv file."
   ]
  },
  {
   "cell_type": "code",
   "execution_count": null,
   "metadata": {},
   "outputs": [],
   "source": []
  },
  {
   "cell_type": "markdown",
   "metadata": {},
   "source": [
    "Question-3: \n",
    "\n",
    "data = {\"name\": \"python\",\n",
    "        \"DOB\" : \"1991\",\n",
    "        \"status\" : \"popular\",\n",
    "        \"use_case\" : \"machine_learning\",\n",
    "        \"application\" : \"backend\",\n",
    "        \"libraries\"  : \"NumPy\",\n",
    "        \"father\" : \"guido\"\n",
    "}\n",
    "\n",
    "Write the content of data into a csv file."
   ]
  },
  {
   "cell_type": "code",
   "execution_count": null,
   "metadata": {},
   "outputs": [],
   "source": []
  },
  {
   "cell_type": "markdown",
   "metadata": {},
   "source": [
    "Question-4: In the given csv file FL_insurance.csv(uploaded to github repo)"
   ]
  },
  {
   "cell_type": "code",
   "execution_count": null,
   "metadata": {},
   "outputs": [],
   "source": []
  },
  {
   "cell_type": "markdown",
   "metadata": {},
   "source": [
    "Question-5 : Write a small paragraph on each function used in csv and json module. (EX: reader(), writer(), readline(), writelines(), Dictreader(), load(), dump(), loads(), dumps()). write all functions listened in the class as a notes briefly(4-5 lines each)."
   ]
  },
  {
   "cell_type": "code",
   "execution_count": null,
   "metadata": {},
   "outputs": [],
   "source": []
  },
  {
   "cell_type": "markdown",
   "metadata": {},
   "source": [
    "Question-6 :\n",
    "Write a python function to parse the test.json(pushed to github repo) file and print the metadata.\n",
    "Expected output:\n",
    "    created_by: Sai\n",
    "    date: 01-17-2019\n",
    "    location: Atlanta"
   ]
  },
  {
   "cell_type": "code",
   "execution_count": null,
   "metadata": {},
   "outputs": [],
   "source": []
  },
  {
   "cell_type": "markdown",
   "metadata": {},
   "source": [
    "Question-7:\n",
    "Write a function in python to parse the 'assignment4.json' file and print the names of the players corresponding to the sport name which is given as input from console. Also print 'The sport is not listed in the JSON..' if the given sport name is not present in the JSON file.\n",
    "\n",
    "Expected output:\n",
    "\n",
    "Enter the sport name: tennis\n",
    "Federer\n",
    "Nadal\n",
    "Djokovic\n",
    "Sania\n",
    "\n",
    "\n",
    "Enter the sport name: fdjdjkj5\n",
    "The sport is not listed in the JSON.."
   ]
  },
  {
   "cell_type": "code",
   "execution_count": null,
   "metadata": {},
   "outputs": [],
   "source": []
  },
  {
   "cell_type": "code",
   "execution_count": null,
   "metadata": {},
   "outputs": [],
   "source": []
  }
 ],
 "metadata": {
  "kernelspec": {
   "display_name": "Python 3",
   "language": "python",
   "name": "python3"
  },
  "language_info": {
   "codemirror_mode": {
    "name": "ipython",
    "version": 3
   },
   "file_extension": ".py",
   "mimetype": "text/x-python",
   "name": "python",
   "nbconvert_exporter": "python",
   "pygments_lexer": "ipython3",
   "version": "3.7.0"
  }
 },
 "nbformat": 4,
 "nbformat_minor": 2
}
