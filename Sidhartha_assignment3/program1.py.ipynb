{
 "cells": [
  {
   "cell_type": "code",
   "execution_count": 1,
   "metadata": {},
   "outputs": [
    {
     "name": "stdout",
     "output_type": "stream",
     "text": [
      "enter the number:145\n",
      "145\n",
      "given number is the strong number\n"
     ]
    }
   ],
   "source": [
    "def factorial(num):\n",
    "    if num == 1: \n",
    "     return 1\n",
    "    else:\n",
    "     return num * factorial(num-1)\n",
    "\n",
    "def strong_number(number):\n",
    "    temp=number\n",
    "    sum=0\n",
    "    rem=0\n",
    "\n",
    "    while temp!=0:\n",
    "       rem=temp%10\n",
    "       sum=sum+factorial(rem)\n",
    "       temp=temp//10\n",
    "\n",
    "    print(sum)\n",
    "    if number==sum:\n",
    "        return True\n",
    "    else:\n",
    "        return False\n",
    "\n",
    "inp = int(input(\"enter the number:\"))\n",
    "result = strong_number(inp)\n",
    "if result == True:\n",
    "    print('given number is the strong number')\n",
    "else:\n",
    "    print('given number is not the strong number')\n",
    "        "
   ]
  },
  {
   "cell_type": "code",
   "execution_count": null,
   "metadata": {},
   "outputs": [],
   "source": []
  }
 ],
 "metadata": {
  "kernelspec": {
   "display_name": "Python 3",
   "language": "python",
   "name": "python3"
  },
  "language_info": {
   "codemirror_mode": {
    "name": "ipython",
    "version": 3
   },
   "file_extension": ".py",
   "mimetype": "text/x-python",
   "name": "python",
   "nbconvert_exporter": "python",
   "pygments_lexer": "ipython3",
   "version": "3.7.1"
  }
 },
 "nbformat": 4,
 "nbformat_minor": 2
}
