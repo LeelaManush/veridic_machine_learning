{
 "cells": [
  {
   "cell_type": "code",
   "execution_count": 6,
   "metadata": {},
   "outputs": [
    {
     "name": "stdout",
     "output_type": "stream",
     "text": [
      "enter the number:16\n"
     ]
    },
    {
     "data": {
      "text/plain": [
       "16"
      ]
     },
     "execution_count": 6,
     "metadata": {},
     "output_type": "execute_result"
    }
   ],
   "source": [
    "def fizz_buzz(inp):\n",
    "    if inp%3==0 & inp%5==0:\n",
    "        return \"FizzBuzz\"\n",
    "    elif inp%3==0:\n",
    "        return \"Fizz\"\n",
    "    elif inp%5==0:\n",
    "        return \"Buzz\"\n",
    "    else:\n",
    "        return inp\n",
    "fiz_inp=int(input(\"enter the number:\"))\n",
    "fizz_buzz(fiz_inp)"
   ]
  }
 ],
 "metadata": {
  "kernelspec": {
   "display_name": "Python 3",
   "language": "python",
   "name": "python3"
  },
  "language_info": {
   "codemirror_mode": {
    "name": "ipython",
    "version": 3
   },
   "file_extension": ".py",
   "mimetype": "text/x-python",
   "name": "python",
   "nbconvert_exporter": "python",
   "pygments_lexer": "ipython3",
   "version": "3.7.1"
  }
 },
 "nbformat": 4,
 "nbformat_minor": 2
}
