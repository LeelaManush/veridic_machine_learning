{
 "cells": [
  {
   "cell_type": "markdown",
   "metadata": {},
   "source": [
    "1.Write a program to find the given number is a Strong number or not. (use functions)"
   ]
  },
  {
   "cell_type": "code",
   "execution_count": 2,
   "metadata": {},
   "outputs": [
    {
     "name": "stdout",
     "output_type": "stream",
     "text": [
      "Enter a number: 72\n",
      "72 is not a strong number\n"
     ]
    }
   ],
   "source": [
    "def fact(number):\n",
    "    if number == 1:\n",
    "        return 1\n",
    "    else:\n",
    "        return number * fact(number-1)\n",
    "\n",
    "def is_strong(num):\n",
    "    temp = num\n",
    "    rem = 0\n",
    "    sum = 0\n",
    "    while temp != 0:\n",
    "        rem = temp%10\n",
    "        sum = sum+fact(rem)\n",
    "        temp = temp//10\n",
    "    \n",
    "    if num == sum:\n",
    "        return True\n",
    "    else:\n",
    "        return False\n",
    "\n",
    "\n",
    "        \n",
    "n = int(input('Enter a number: '))\n",
    "res = is_strong(n)   \n",
    "if res == True:\n",
    "    print(n, 'is a strong number.')\n",
    "else:\n",
    "    print(n, 'is not a strong number')"
   ]
  },
  {
   "cell_type": "markdown",
   "metadata": {},
   "source": [
    "2.Given an array of integers, find the sum of its elements."
   ]
  },
  {
   "cell_type": "code",
   "execution_count": 20,
   "metadata": {
    "scrolled": true
   },
   "outputs": [
    {
     "name": "stdout",
     "output_type": "stream",
     "text": [
      "19\n"
     ]
    }
   ],
   "source": [
    "def sum(el):\n",
    "    s = 0\n",
    "    for elements in el:\n",
    "        s = s + elements\n",
    "    return s\n",
    "\n",
    "li = [1, 5, 6, 7]\n",
    "print(sum(li))"
   ]
  },
  {
   "cell_type": "code",
   "execution_count": null,
   "metadata": {},
   "outputs": [],
   "source": [
    "3. Consider a staircase of size n=4:\n",
    "   #\n",
    "  ##\n",
    " ###\n",
    "####\n",
    "Observe that its base and height are both equal to n, and the image is drawn using # symbols and spaces. The last line is not preceded by any spaces.\n",
    "Write a program that prints a staircase of size n."
   ]
  },
  {
   "cell_type": "code",
   "execution_count": 25,
   "metadata": {},
   "outputs": [
    {
     "name": "stdout",
     "output_type": "stream",
     "text": [
      "Enter the height: 8\n",
      "       #\n",
      "      ##\n",
      "     ###\n",
      "    ####\n",
      "   #####\n",
      "  ######\n",
      " #######\n",
      "########\n"
     ]
    }
   ],
   "source": [
    "def staircase(h):\n",
    "    ns = n - 1\n",
    "    i = 1\n",
    "    for _ in range(h):\n",
    "        print(ns * ' ' + i * '#')\n",
    "        ns = ns - 1\n",
    "        i += 1\n",
    "\n",
    "n = int(input(\"Enter the height: \"))\n",
    "staircase(n)\n",
    "    "
   ]
  },
  {
   "cell_type": "markdown",
   "metadata": {},
   "source": [
    "4.Given five positive integers, find the minimum and maximum values that can be calculated by summing exactly four of the five integers. Then print the respective minimum and maximum values as a single line of two space-separated long integers."
   ]
  },
  {
   "cell_type": "code",
   "execution_count": 71,
   "metadata": {},
   "outputs": [
    {
     "name": "stdout",
     "output_type": "stream",
     "text": [
      "110\n",
      "432\n"
     ]
    }
   ],
   "source": [
    "list = [23, 12, 334, 30, 45]\n",
    "list.sort()\n",
    "\n",
    "min = sum(list[:-1])\n",
    "max = sum(list[1:])\n",
    "\n",
    "print(min)\n",
    "print(max)\n",
    "\n",
    "    "
   ]
  },
  {
   "cell_type": "markdown",
   "metadata": {},
   "source": [
    "5.Write a function named collatz() that has one parameter named number. If number is even, then collatz() should print number // 2 and return this value. If number is odd, then collatz() should print and return 3 * number + 1. Then write a program that lets the user type in an integer and that keeps calling collatz() on that number until the function returns the value 1. (Amazingly enough, this sequence actually works for any integer—sooner or later, using this sequence, you’ll arrive at 1! Even mathematicians aren’t sure why. Your program is exploring what’s called the Collatz sequence, sometimes called “the simplest impossible math problem.”) Remember to convert the return value from input() to an integer with the int() function; otherwise, it will be a string value.\n"
   ]
  },
  {
   "cell_type": "code",
   "execution_count": 28,
   "metadata": {},
   "outputs": [
    {
     "name": "stdout",
     "output_type": "stream",
     "text": [
      "Enter a number: 45\n",
      "136\n",
      "68\n",
      "34\n",
      "17\n",
      "52\n",
      "26\n",
      "13\n",
      "40\n",
      "20\n",
      "10\n",
      "5\n",
      "16\n",
      "8\n",
      "4\n",
      "2\n",
      "1\n"
     ]
    }
   ],
   "source": [
    "def collatz(n):\n",
    "    if n % 2 == 0:\n",
    "        print(n // 2)\n",
    "        return n//2\n",
    "    else:\n",
    "        if n % 2 == 1:\n",
    "            print(3 * n + 1)\n",
    "            return 3 * n + 1\n",
    "        \n",
    "n = int(input(\"Enter a number: \"))\n",
    "while True:\n",
    "    n = collatz(n)\n",
    "    if n == 1:\n",
    "        break\n",
    "        "
   ]
  },
  {
   "cell_type": "markdown",
   "metadata": {},
   "source": [
    "6. Write a program to find given number is palindrome or not."
   ]
  },
  {
   "cell_type": "code",
   "execution_count": 31,
   "metadata": {},
   "outputs": [
    {
     "name": "stdout",
     "output_type": "stream",
     "text": [
      "Enter a number: 45\n",
      "The number is not a palindrome\n"
     ]
    }
   ],
   "source": [
    "n = int(input(\"Enter a number: \"))\n",
    "temp = n\n",
    "rev = 0\n",
    "while(n>0):\n",
    "    dig = n % 10\n",
    "    rev = rev * 10 + dig\n",
    "    n = n//10\n",
    "if temp == rev:\n",
    "    print(\"The Number is a Palindrome\")\n",
    "else:\n",
    "    print(\"The number is not a palindrome\") "
   ]
  },
  {
   "cell_type": "markdown",
   "metadata": {},
   "source": [
    "7. Write a Python function that accepts a string and calculate the number of upper case letters and lower case letters."
   ]
  },
  {
   "cell_type": "code",
   "execution_count": 37,
   "metadata": {},
   "outputs": [
    {
     "name": "stdout",
     "output_type": "stream",
     "text": [
      "Enter a String: The Apple Company\n",
      "Number of upper case letters:  3\n",
      "Number of lower case letters:  12\n"
     ]
    }
   ],
   "source": [
    "string = input(\"Enter a String: \")\n",
    "u_case = 0\n",
    "l_case = 0\n",
    "for letters in string:\n",
    "    if (letters.isupper()):\n",
    "        u_case = u_case + 1\n",
    "    elif (letters.islower()):\n",
    "        l_case = l_case + 1\n",
    "print(\"Number of upper case letters: \", u_case)\n",
    "print(\"Number of lower case letters: \", l_case)\n",
    "        "
   ]
  },
  {
   "cell_type": "markdown",
   "metadata": {},
   "source": [
    "8. Write a Python program that accepts a hyphen-separated sequence of words as input and prints the words in a hyphen-separated sequence after sorting them alphabetically. Sample Items : green-red-yellow-black-white Expected Result : black-green-red-white-yellow"
   ]
  },
  {
   "cell_type": "code",
   "execution_count": 48,
   "metadata": {},
   "outputs": [
    {
     "name": "stdout",
     "output_type": "stream",
     "text": [
      "green-red-yellow-black-white\n",
      "black-green-red-white-yellow\n"
     ]
    }
   ],
   "source": [
    "sample_items = [n for n in input().split('-')]\n",
    "sample_items.sort()\n",
    "print('-'.join(sample_items))"
   ]
  },
  {
   "cell_type": "markdown",
   "metadata": {},
   "source": [
    "9.Write a Python program to calculate the sum of a list of numbers using recursion."
   ]
  },
  {
   "cell_type": "code",
   "execution_count": 50,
   "metadata": {},
   "outputs": [
    {
     "name": "stdout",
     "output_type": "stream",
     "text": [
      "33\n"
     ]
    }
   ],
   "source": [
    "def sum(l):\n",
    "    if len(l) == 1:\n",
    "        return l[0]\n",
    "    else:\n",
    "        return l[0] + sum(l[1:])\n",
    "list = [1, 3, 9, 20]\n",
    "print(sum(list))"
   ]
  },
  {
   "cell_type": "markdown",
   "metadata": {},
   "source": [
    "10. Write a function called fizz_buzz that takes a number. a. If the number is divisible by 3, it should return “Fizz”. b. If it is divisible by 5, it should return “Buzz”. c. If it is divisible by both 3 and 5, it should return “FizzBuzz”. d. Otherwise, it should return the same number."
   ]
  },
  {
   "cell_type": "code",
   "execution_count": 68,
   "metadata": {},
   "outputs": [
    {
     "name": "stdout",
     "output_type": "stream",
     "text": [
      "Enter a number: 2333\n",
      "2333\n"
     ]
    }
   ],
   "source": [
    "def Fizz_buzz(n):\n",
    "    if n % 3 == 0 and n % 5 == 0:\n",
    "        return \"FizzBuzz\"\n",
    "    elif n % 3 == 0:\n",
    "        return \"Fizz\"\n",
    "    elif n % 5 == 0:\n",
    "        return \"Buzz\"\n",
    "    else:\n",
    "        return n\n",
    "        \n",
    "    \n",
    "num = int(input(\"Enter a number: \"))\n",
    "result = Fizz_buzz(num)\n",
    "print(result)"
   ]
  },
  {
   "cell_type": "code",
   "execution_count": null,
   "metadata": {},
   "outputs": [],
   "source": []
  }
 ],
 "metadata": {
  "kernelspec": {
   "display_name": "Python 3",
   "language": "python",
   "name": "python3"
  },
  "language_info": {
   "codemirror_mode": {
    "name": "ipython",
    "version": 3
   },
   "file_extension": ".py",
   "mimetype": "text/x-python",
   "name": "python",
   "nbconvert_exporter": "python",
   "pygments_lexer": "ipython3",
   "version": "3.7.1"
  }
 },
 "nbformat": 4,
 "nbformat_minor": 2
}
