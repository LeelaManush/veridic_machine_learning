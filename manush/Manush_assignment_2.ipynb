{
 "cells": [
  {
   "cell_type": "markdown",
   "metadata": {},
   "source": [
    "1. Given an integer,n perform the following conditional actions: Take the input from keyboard using input() function\n",
    "If n is odd, print Weird If n is even and in the inclusive range of 2 to 5, print Not Weird If n is even and in the inclusive range of 6 to 20, print Weird If n is even and greater than 20, print Not Weird."
   ]
  },
  {
   "cell_type": "code",
   "execution_count": 1,
   "metadata": {},
   "outputs": [
    {
     "name": "stdout",
     "output_type": "stream",
     "text": [
      "Enter a number: 31\n",
      "Weird\n"
     ]
    }
   ],
   "source": [
    "n = int(input('Enter a number: ' ))\n",
    "if n % 2 == 1:\n",
    "    print('Weird')\n",
    "else:\n",
    "    if (n >= 2 and n <= 5) or (n > 20):\n",
    "        print('Not Weird')\n",
    "    else:\n",
    "        print('Weird')"
   ]
  },
  {
   "cell_type": "markdown",
   "metadata": {},
   "source": [
    "2. Assign 10 to the variable x and 25 to the variable y. In the same cell, create 2 conditional statements. Let the first one print \"Both conditions are correct\" if x is greater then 3 and y is greater than 13. Let the second one print \"At least one of the conditions is false\" if x is less than or equal to 3 and y is less than or equal to 13. Change the values assigned to x and y and re-run the cell to verify your code still works."
   ]
  },
  {
   "cell_type": "code",
   "execution_count": 3,
   "metadata": {
    "scrolled": true
   },
   "outputs": [
    {
     "name": "stdout",
     "output_type": "stream",
     "text": [
      "Both conditions are correct\n"
     ]
    }
   ],
   "source": [
    "x = 10\n",
    "y = 25\n",
    "if x > 3 and y > 13:\n",
    "    print('Both conditions are correct')\n",
    "if x <= 3 and y <= 13:\n",
    "    print('At least one of the condition is false')"
   ]
  },
  {
   "cell_type": "code",
   "execution_count": 4,
   "metadata": {},
   "outputs": [
    {
     "name": "stdout",
     "output_type": "stream",
     "text": [
      "At least one of the condition is false\n"
     ]
    }
   ],
   "source": [
    "x = 3\n",
    "y = 10\n",
    "if x > 3 and y > 13:\n",
    "    print('Both conditions are correct')\n",
    "if x <= 3 and y <= 13:\n",
    "    print('At least one of the condition is false')"
   ]
  },
  {
   "cell_type": "markdown",
   "metadata": {},
   "source": [
    "3. Print all elements of a list using 'for' loop list = ['23', 'name', 'age', 'veridic', 'python', 'data']"
   ]
  },
  {
   "cell_type": "code",
   "execution_count": 5,
   "metadata": {},
   "outputs": [
    {
     "name": "stdout",
     "output_type": "stream",
     "text": [
      "23\n",
      "name\n",
      "age\n",
      "veridic\n",
      "python\n",
      "data\n"
     ]
    }
   ],
   "source": [
    "list = ['23', 'name', 'age', 'veridic', 'python', 'data']\n",
    "\n",
    "for elem in list:\n",
    "    print(elem)"
   ]
  },
  {
   "cell_type": "markdown",
   "metadata": {},
   "source": [
    "4. Take inputs from user to make a list. Again take one input from user and search it in the list and delete that element, if found. Iterate over list using for loop"
   ]
  },
  {
   "cell_type": "code",
   "execution_count": 11,
   "metadata": {},
   "outputs": [
    {
     "name": "stdout",
     "output_type": "stream",
     "text": [
      "Enter number of elements: 4\n",
      "Enter elements: apple\n",
      "Enter elements: grape\n",
      "Enter elements: mint\n",
      "Enter elements: banana\n",
      "['apple', 'grape', 'mint', 'banana']\n",
      "Enter elememt to delete: mint\n",
      "['apple', 'grape', 'banana']\n"
     ]
    }
   ],
   "source": [
    "n = int(input('Enter number of elements: '))\n",
    "l = []\n",
    "for i in range(n):\n",
    "    item = input('Enter elements: ')\n",
    "    l.append(item)\n",
    "\n",
    "print(l)\n",
    "items_to_search = input('Enter elememt to delete: ')\n",
    "l.remove(items_to_search)\n",
    "print(l)"
   ]
  },
  {
   "cell_type": "markdown",
   "metadata": {},
   "source": [
    "5. Print multiplication table of 14? print it as 14 x 1 = 14 and continue till 20 times"
   ]
  },
  {
   "cell_type": "code",
   "execution_count": 12,
   "metadata": {},
   "outputs": [
    {
     "name": "stdout",
     "output_type": "stream",
     "text": [
      "14 x 1=14\n",
      "14 x 2=28\n",
      "14 x 3=42\n",
      "14 x 4=56\n",
      "14 x 5=70\n",
      "14 x 6=84\n",
      "14 x 7=98\n",
      "14 x 8=112\n",
      "14 x 9=126\n",
      "14 x 10=140\n",
      "14 x 11=154\n",
      "14 x 12=168\n",
      "14 x 13=182\n",
      "14 x 14=196\n",
      "14 x 15=210\n",
      "14 x 16=224\n",
      "14 x 17=238\n",
      "14 x 18=252\n",
      "14 x 19=266\n",
      "14 x 20=280\n"
     ]
    }
   ],
   "source": [
    "for i in range(20):\n",
    "    print('14 x ' + str(i+1) + '=' +str(14*(i+1)))\n",
    "    "
   ]
  },
  {
   "cell_type": "markdown",
   "metadata": {},
   "source": [
    "6. You are given with a list of integer elements. Make a new list which will store square of elements of previous list. list = [2, 4, 5, 6, 7, 8, 19, 34, 45, 56, 12, 65, 88, 92, 100]"
   ]
  },
  {
   "cell_type": "code",
   "execution_count": 13,
   "metadata": {},
   "outputs": [
    {
     "name": "stdout",
     "output_type": "stream",
     "text": [
      "[4, 16, 25, 36, 49, 64, 361, 1156, 2025, 3136, 144, 4225, 7744, 8464, 10000]\n"
     ]
    }
   ],
   "source": [
    "list = [2, 4, 5, 6, 7, 8, 19, 34, 45, 56, 12, 65, 88, 92, 100]\n",
    "new_list = []\n",
    "for i in list:\n",
    "    new_list.append(i ** 2)\n",
    "print(new_list)"
   ]
  },
  {
   "cell_type": "markdown",
   "metadata": {},
   "source": [
    "7.tup = (1, 3, 5, 6, 94, 100, 7)\n",
    "print all prime numbers only from tuple"
   ]
  },
  {
   "cell_type": "code",
   "execution_count": 21,
   "metadata": {},
   "outputs": [
    {
     "name": "stdout",
     "output_type": "stream",
     "text": [
      "3\n",
      "5\n",
      "7\n"
     ]
    }
   ],
   "source": [
    "tup = (1, 3, 5, 6, 94, 100, 7)\n",
    "\n",
    "for i in tup:\n",
    "    if i > 1:\n",
    "        for j in range(2,i):\n",
    "            if i % j == 0:\n",
    "                break\n",
    "        else:\n",
    "            print(i)"
   ]
  },
  {
   "cell_type": "markdown",
   "metadata": {},
   "source": [
    "8. Create a login system using control flow statements. Requirements: when you execute the code, first prompt must be \"enter the username\". Username must start with \"VER\" key word, must contain 8 characters.\n",
    "password must be combination of letters and numbers, atleast one letter must be caps and accept specials characters like !, @ ,# etc if needed.\n",
    "If all conditions are satisified print login success!"
   ]
  },
  {
   "cell_type": "code",
   "execution_count": 22,
   "metadata": {},
   "outputs": [
    {
     "ename": "SyntaxError",
     "evalue": "invalid syntax (<ipython-input-22-57c51c8d8ed3>, line 4)",
     "output_type": "error",
     "traceback": [
      "\u001b[0;36m  File \u001b[0;32m\"<ipython-input-22-57c51c8d8ed3>\"\u001b[0;36m, line \u001b[0;32m4\u001b[0m\n\u001b[0;31m    if any(ch.)\u001b[0m\n\u001b[0m              ^\u001b[0m\n\u001b[0;31mSyntaxError\u001b[0m\u001b[0;31m:\u001b[0m invalid syntax\n"
     ]
    }
   ],
   "source": [
    "username = input('enter the username: ')\n",
    "if username[:3] == 'VER' and len(username) >= 8:\n",
    "    password = input('enter the password: ')\n",
    "    if any(ch.)\n",
    "    "
   ]
  },
  {
   "cell_type": "markdown",
   "metadata": {},
   "source": [
    "9. Program code for rock paper scissors game! without using any imports. you must be able to do it on your own!"
   ]
  },
  {
   "cell_type": "code",
   "execution_count": null,
   "metadata": {},
   "outputs": [],
   "source": [
    "player1 = input(\"Player 1, Enter 'Rock', 'Paper', 'Scissor' :\")\n",
    "player2 = input(\"Player 2, Enter 'Rock', 'Paper', 'Scissor' :\")\n",
    "\n",
    "if player1 == player2:\n",
    "    print('Its a draw. lets play again')\n",
    "elif player1 == 'Rock':\n",
    "    if player2 == 'paper'"
   ]
  },
  {
   "cell_type": "code",
   "execution_count": null,
   "metadata": {},
   "outputs": [],
   "source": []
  }
 ],
 "metadata": {
  "kernelspec": {
   "display_name": "Python 3",
   "language": "python",
   "name": "python3"
  },
  "language_info": {
   "codemirror_mode": {
    "name": "ipython",
    "version": 3
   },
   "file_extension": ".py",
   "mimetype": "text/x-python",
   "name": "python",
   "nbconvert_exporter": "python",
   "pygments_lexer": "ipython3",
   "version": "3.7.1"
  }
 },
 "nbformat": 4,
 "nbformat_minor": 2
}
