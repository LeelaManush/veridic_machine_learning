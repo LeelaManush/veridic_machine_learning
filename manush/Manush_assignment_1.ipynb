{
 "cells": [
  {
   "cell_type": "raw",
   "metadata": {},
   "source": [
    "1. Write a python program to get a string made of the first 2 and last chars from a given string."
   ]
  },
  {
   "cell_type": "code",
   "execution_count": 5,
   "metadata": {},
   "outputs": [
    {
     "name": "stdout",
     "output_type": "stream",
     "text": [
      "vens\n"
     ]
    }
   ],
   "source": [
    "string = 'veridicsolutions'\n",
    "print(string[:2] + string[-2:])"
   ]
  },
  {
   "cell_type": "raw",
   "metadata": {},
   "source": [
    "2. write a program to add up the last 2 characters 3 times for the above string?"
   ]
  },
  {
   "cell_type": "code",
   "execution_count": 8,
   "metadata": {},
   "outputs": [
    {
     "name": "stdout",
     "output_type": "stream",
     "text": [
      "nsnsns\n"
     ]
    }
   ],
   "source": [
    "print(string[-2:] * 3)"
   ]
  },
  {
   "cell_type": "raw",
   "metadata": {},
   "source": [
    "3. Read two integers from input() and print five lines where: a. The first line contains the sum of the two numbers. b. The second line contains the difference of the two numbers (first - second). c. The third line contains the product of the two numbers. d. The fourth line should contain integer division, a//b. e. The fifth line should contain float division, a/b."
   ]
  },
  {
   "cell_type": "code",
   "execution_count": 12,
   "metadata": {},
   "outputs": [
    {
     "name": "stdout",
     "output_type": "stream",
     "text": [
      "Enter a:13 \n",
      "Enter b:35\n",
      "48\n",
      "-22\n",
      "455\n",
      "0\n",
      "0.37142857142857144\n"
     ]
    }
   ],
   "source": [
    "a = int(input('Enter a:'))\n",
    "b = int(input('Enter b:'))\n",
    "\n",
    "print(a + b)\n",
    "print(a - b)\n",
    "print(a * b)\n",
    "print(int(a / b))\n",
    "print(float(a / b))"
   ]
  },
  {
   "cell_type": "raw",
   "metadata": {},
   "source": [
    "4. Write a program to print the following using string slicing given the string is ‘Python’"
   ]
  },
  {
   "cell_type": "code",
   "execution_count": 17,
   "metadata": {
    "scrolled": true
   },
   "outputs": [
    {
     "name": "stdout",
     "output_type": "stream",
     "text": [
      "P\n",
      "n\n",
      "ytho\n",
      "on\n",
      "Py\n"
     ]
    }
   ],
   "source": [
    "name = 'Python'\n",
    "print(name[0])\n",
    "print(name[-1])\n",
    "print(name[1:5])\n",
    "print(name[4:6])\n",
    "print(name[0:2])"
   ]
  },
  {
   "cell_type": "raw",
   "metadata": {},
   "source": [
    "5. Given 2 strings, print their concatenation, except omit the first char of each. The strings will be atleast length 1.\n",
    "Example: 'Hello', 'There' expected output: 'ellohere'"
   ]
  },
  {
   "cell_type": "code",
   "execution_count": 19,
   "metadata": {},
   "outputs": [
    {
     "name": "stdout",
     "output_type": "stream",
     "text": [
      "ellohere\n"
     ]
    }
   ],
   "source": [
    "string1 = 'Hello'\n",
    "string2 = 'There'\n",
    "\n",
    "print(string1[1:] + string2[1:])"
   ]
  },
  {
   "cell_type": "raw",
   "metadata": {},
   "source": [
    "6. Given the participants' score sheet for your University Sports Day, you are required to find the runner-up score. You are given scores. Store them in a list and find the score of the runner-up.\n",
    "\n",
    "Example: Given list is [2,3,6,6,5]. The maximum score is 6, second maximum is 5. Hence, we print 5 as the runner-up score.\n"
   ]
  },
  {
   "cell_type": "code",
   "execution_count": 60,
   "metadata": {
    "scrolled": true
   },
   "outputs": [
    {
     "ename": "TypeError",
     "evalue": "'set' object is not callable",
     "output_type": "error",
     "traceback": [
      "\u001b[0;31m---------------------------------------------------------------------------\u001b[0m",
      "\u001b[0;31mTypeError\u001b[0m                                 Traceback (most recent call last)",
      "\u001b[0;32m<ipython-input-60-962583b3bfc1>\u001b[0m in \u001b[0;36m<module>\u001b[0;34m\u001b[0m\n\u001b[1;32m      1\u001b[0m \u001b[0ml\u001b[0m \u001b[0;34m=\u001b[0m \u001b[0;34m[\u001b[0m\u001b[0;36m2\u001b[0m\u001b[0;34m,\u001b[0m\u001b[0;36m3\u001b[0m\u001b[0;34m,\u001b[0m\u001b[0;36m6\u001b[0m\u001b[0;34m,\u001b[0m\u001b[0;36m6\u001b[0m\u001b[0;34m,\u001b[0m\u001b[0;36m5\u001b[0m\u001b[0;34m]\u001b[0m\u001b[0;34m\u001b[0m\u001b[0;34m\u001b[0m\u001b[0m\n\u001b[0;32m----> 2\u001b[0;31m \u001b[0ma\u001b[0m \u001b[0;34m=\u001b[0m \u001b[0mset\u001b[0m\u001b[0;34m(\u001b[0m\u001b[0ml\u001b[0m\u001b[0;34m)\u001b[0m\u001b[0;34m\u001b[0m\u001b[0;34m\u001b[0m\u001b[0m\n\u001b[0m\u001b[1;32m      3\u001b[0m \u001b[0;34m\u001b[0m\u001b[0m\n\u001b[1;32m      4\u001b[0m \u001b[0mprint\u001b[0m\u001b[0;34m(\u001b[0m\u001b[0ma\u001b[0m\u001b[0;34m)\u001b[0m\u001b[0;34m\u001b[0m\u001b[0;34m\u001b[0m\u001b[0m\n\u001b[1;32m      5\u001b[0m \u001b[0mresult\u001b[0m \u001b[0;34m=\u001b[0m \u001b[0mlist\u001b[0m\u001b[0;34m(\u001b[0m\u001b[0ma\u001b[0m\u001b[0;34m)\u001b[0m\u001b[0;34m\u001b[0m\u001b[0;34m\u001b[0m\u001b[0m\n",
      "\u001b[0;31mTypeError\u001b[0m: 'set' object is not callable"
     ]
    }
   ],
   "source": [
    "l = [2,3,6,6,5]\n",
    "a = set(l)\n",
    "\n",
    "print(a)\n",
    "result = list(a)\n"
   ]
  },
  {
   "cell_type": "raw",
   "metadata": {},
   "source": [
    "7. Given a student’s marks list as 56, 75, 89, 78. Calculate and print the total marks and the percentage that the student obtained. (Info: Total marks for each subject is 100)"
   ]
  },
  {
   "cell_type": "code",
   "execution_count": 39,
   "metadata": {},
   "outputs": [
    {
     "name": "stdout",
     "output_type": "stream",
     "text": [
      "Total_marks:  298\n",
      "Percentage:  74.5\n"
     ]
    }
   ],
   "source": [
    "marks = [56 , 75 , 89, 78]\n",
    "total = sum(marks)\n",
    "print('Total_marks: ',total)\n",
    "print('Percentage: ',total/4 )\n"
   ]
  },
  {
   "cell_type": "raw",
   "metadata": {},
   "source": [
    "8. Write a program to swap two numbers given only 2 variables 'a' and 'b' ( condition: No other variables should be declared other than a and b)"
   ]
  },
  {
   "cell_type": "code",
   "execution_count": 42,
   "metadata": {},
   "outputs": [
    {
     "name": "stdout",
     "output_type": "stream",
     "text": [
      "Enter a:9\n",
      "Enter b:5\n",
      "a:  9\n",
      "b:  5\n",
      "a:  5\n",
      "b:  9\n"
     ]
    }
   ],
   "source": [
    "a = int(input('Enter a:'))\n",
    "b = int(input('Enter b:'))\n",
    "\n",
    "print('a: ', a)\n",
    "print('b: ', b)\n",
    "\n",
    "a = a + b\n",
    "b = a - b\n",
    "a = a - b\n",
    "\n",
    "print('a: ',a)\n",
    "print('b: ',b)"
   ]
  },
  {
   "cell_type": "raw",
   "metadata": {},
   "source": [
    "9. write a program to print the area and perimeter of a circle, given radisu is input from keyboard. ( PI value = 3.14) Area = PI radius**2 perimeter = 2 PI * radius"
   ]
  },
  {
   "cell_type": "code",
   "execution_count": 49,
   "metadata": {},
   "outputs": [
    {
     "name": "stdout",
     "output_type": "stream",
     "text": [
      "Enter radius: 6\n",
      "Area:  113.04\n",
      "Perimeter:  37.68\n"
     ]
    }
   ],
   "source": [
    "radius = int(input('Enter radius: '))\n",
    "PI = 3.14\n",
    "Area = PI * radius ** 2\n",
    "Perimeter = 2 * PI * radius\n",
    "\n",
    "print('Area: ', Area)\n",
    "print('Perimeter: ', Perimeter)\n"
   ]
  },
  {
   "cell_type": "code",
   "execution_count": null,
   "metadata": {},
   "outputs": [],
   "source": []
  }
 ],
 "metadata": {
  "kernelspec": {
   "display_name": "Python 3",
   "language": "python",
   "name": "python3"
  },
  "language_info": {
   "codemirror_mode": {
    "name": "ipython",
    "version": 3
   },
   "file_extension": ".py",
   "mimetype": "text/x-python",
   "name": "python",
   "nbconvert_exporter": "python",
   "pygments_lexer": "ipython3",
   "version": "3.7.1"
  }
 },
 "nbformat": 4,
 "nbformat_minor": 2
}
