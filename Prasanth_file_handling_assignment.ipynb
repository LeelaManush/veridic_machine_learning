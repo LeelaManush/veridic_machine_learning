{
 "cells": [
  {
   "cell_type": "markdown",
   "metadata": {},
   "source": [
    "Read the csv file content into a variable \"csvfile\" and using reader object print the content of the file. file: FL_insurance.csv(uploaded to github repo)"
   ]
  },
  {
   "cell_type": "code",
   "execution_count": null,
   "metadata": {},
   "outputs": [],
   "source": [
    "import csv\n",
    "\n",
    "csvfile = csv.reader(open(\"FL_insurance.csv\"), delimiter=',')\n",
    "\n",
    "for row in csvfile:    \n",
    "    print(row)"
   ]
  },
  {
   "cell_type": "markdown",
   "metadata": {},
   "source": [
    "Questions-2: Take any 2 lists and write the items of the lists into a new csv file."
   ]
  },
  {
   "cell_type": "code",
   "execution_count": 3,
   "metadata": {},
   "outputs": [],
   "source": [
    "import csv\n",
    "\n",
    "csvfile = csv.reader(open(\"FL_insurance.csv\"), delimiter=',') #reading a csv file into a csv object\n",
    "data=[]\n",
    "for row in csvfile:\n",
    "    data.append(row)   #copying all the rows\n",
    " \n",
    "with open(\"New_csv_file.csv\",'w') as csv_new:   #opening a new csv file in write mode\n",
    "    csv_writer = csv.writer(csv_new)\n",
    "    csv_writer.writerows(data[0:2])   #writing the contents\n",
    "\n",
    "    "
   ]
  },
  {
   "cell_type": "markdown",
   "metadata": {},
   "source": [
    "Question-3: \n",
    "\n",
    "data = {\"name\": \"python\",\n",
    "        \"DOB\" : \"1991\",\n",
    "        \"status\" : \"popular\",\n",
    "        \"use_case\" : \"machine_learning\",\n",
    "        \"application\" : \"backend\",\n",
    "        \"libraries\"  : \"NumPy\",\n",
    "        \"father\" : \"guido\"\n",
    "}\n",
    "\n",
    "Write the content of data into a csv file."
   ]
  },
  {
   "cell_type": "code",
   "execution_count": 2,
   "metadata": {},
   "outputs": [],
   "source": [
    "import csv\n",
    "data = {\"name\": \"python\", \"DOB\" : \"1991\", \"status\" : \"popular\", \"use_case\" : \"machine_learning\", \"application\" : \"backend\", \"libraries\" : \"NumPy\", \"father\" : \"guido\" }\n",
    "with open(\"Dict_csv\",'w') as new_dict_csv:\n",
    "    csv_dict_write = csv.DictWriter(new_dict_csv, fieldnames = data.keys())\n",
    "    csv_dict_write.writeheader() # wrting the dict keys as the field names\n",
    "    csv_dict_write.writerow(data) #writing the row in \n"
   ]
  },
  {
   "cell_type": "markdown",
   "metadata": {},
   "source": [
    "Question-4: In the given csv file FL_insurance.csv(uploaded to github repo)"
   ]
  },
  {
   "cell_type": "code",
   "execution_count": null,
   "metadata": {},
   "outputs": [],
   "source": []
  },
  {
   "cell_type": "markdown",
   "metadata": {},
   "source": [
    "Question-5 : Write a small paragraph on each function used in csv and json module. (EX: reader(), writer(), readline(), writelines(), Dictreader(), load(), dump(), loads(), dumps()). write all functions listened in the class as a notes briefly(4-5 lines each)."
   ]
  },
  {
   "cell_type": "markdown",
   "metadata": {},
   "source": [
    "csv.reader:\n",
    "    - Returns a reader object which iterates over the lines in the given csv file\n",
    "    - csvfile can be any object which supports the iterator protocol and \n",
    "      returns a string each time its __next__() method\n",
    "    - Each row is returned as a list of strings\n",
    "    - No automatic data type conversion is performed\n",
    "    \n",
    "    csvreader.__next__():\n",
    "        - Return the next row of the reader’s iterable object as a list\n",
    "    csvreader.line_num:\n",
    "        - The number of lines read from the source iterator. \n",
    "        - Not the same as the number of records returned, as records can span multiple lines.\n",
    "    csvreader.fieldnames:\n",
    "        - If not passed as a parameter when creating the object, \n",
    "          this attribute is initialized upon first access or when the first record is read from the file.\n",
    "\n",
    "csv.writer:\n",
    "    - Return a writer object responsible for converting the user’s data \n",
    "      into delimited strings on the given file-like object.\n",
    "    - csvfile can be any object with a write() method\n",
    "    \n",
    "    csvwriter.writerow(row)\n",
    "        - Write the row parameter to the writer’s file object, formatted according to the current dialect.\n",
    "\n",
    "    csvwriter.writerows(rows)\n",
    "        - Write all elements in rows to the writer’s file object, \n",
    "          formatted according to the current dialect    \n",
    "    \n",
    "csv.DictReader:\n",
    "    - Create an object that operates like a regular reader but maps the information \n",
    "      in each row to an OrderedDict whose keys are given by the optional fieldnames parameter.\n",
    "    - The fieldnames parameter is a sequence.\n",
    "    - If fieldnames is omitted, the values in the first row of file f will be used as the fieldnames\n",
    "    - Regardless of how the fieldnames are determined, the ordered dictionary preserves their original ordering.\n",
    "    \n",
    "csv.DictWriter:\n",
    "    - Creates an object which operates like a regular writer but maps dictionaries onto output rows\n",
    "    - The fieldnames parameter is a sequence of keys that identify the order in which values in the dictionary \n",
    "       passed to the writerow() method are written to file f\n",
    "    - Unlike the DictReader class, the fieldnames parameter of the DictWriter class is not optional.\n",
    "    \n",
    "    DictWriter.writeheader()\n",
    "        - Write a row with the field names (as specified in the constructor).\n",
    "\n",
    "writelines()\n",
    "    - The method writelines() writes a sequence of strings to the file. \n",
    "    - The sequence can be any iterable object producing strings, typically a list of strings.\n",
    "readline()\n",
    "    - Read one entire line from the file until a newline character is encountered.\n",
    "    - Can take an optional size argument and returns the number of characters as per the size\n",
    "readlines()\n",
    "    - Reads till the EOF.\n",
    "    - Takes an optional size argument, and returns the number of whole lines less than or equal to the byte count\n",
    "\n",
    "Json\n",
    "\n",
    "load()\n",
    "    - load takes in a file object containing json objects and deserializes it to a python objects\n",
    "loads()\n",
    "    - takes in a string, bytes or byte array containing Json objects and deserializes them into python objects\n",
    "    - If the data being deserialized is not a valid JSON document, a JSONDecodeError will be raised.\n",
    "dump():\n",
    "    - Serialize a python object  as a JSON formatted stream and writes to a file\n",
    "dumps():\n",
    "    - Serialize a python object as a JSON formatted stream and returns a string\n",
    "    \n"
   ]
  },
  {
   "cell_type": "markdown",
   "metadata": {},
   "source": [
    "Question-6 :\n",
    "Write a python function to parse the test.json(pushed to github repo) file and print the metadata.\n",
    "Expected output:\n",
    "    created_by: Sai\n",
    "    date: 01-17-2019\n",
    "    location: Atlanta"
   ]
  },
  {
   "cell_type": "code",
   "execution_count": 4,
   "metadata": {},
   "outputs": [
    {
     "name": "stdout",
     "output_type": "stream",
     "text": [
      "{'created_by': 'Sai', 'date': '01-17-2019', 'location': 'Atlanta'}\n"
     ]
    }
   ],
   "source": [
    "import json\n",
    "data = json.load(open('test.json'))\n",
    "\n",
    "print (data['metadata'])"
   ]
  },
  {
   "cell_type": "markdown",
   "metadata": {},
   "source": [
    "Question-7:\n",
    "Write a function in python to parse the 'assignment4.json' file and print the names of the players corresponding to the sport name which is given as input from console. Also print 'The sport is not listed in the JSON..' if the given sport name is not present in the JSON file.\n",
    "\n",
    "Expected output:\n",
    "\n",
    "Enter the sport name: tennis\n",
    "Federer\n",
    "Nadal\n",
    "Djokovic\n",
    "Sania\n",
    "\n",
    "\n",
    "Enter the sport name: fdjdjkj5\n",
    "The sport is not listed in the JSON.."
   ]
  },
  {
   "cell_type": "code",
   "execution_count": 5,
   "metadata": {},
   "outputs": [
    {
     "name": "stdout",
     "output_type": "stream",
     "text": [
      "Enter the Sport: tennis\n",
      "['Federer', 'Nadal', 'Djokovic', 'Sania']\n"
     ]
    }
   ],
   "source": [
    "import json\n",
    "\n",
    "def return_json_val (json_val):\n",
    "    data = json.load(open('test.json'))\n",
    "    \n",
    "    try:\n",
    "        for key,value in data.items():\n",
    "            try:\n",
    "                return data[key][json_val]\n",
    "            except:\n",
    "                pass \n",
    "    except:\n",
    "        pass\n",
    "    else:\n",
    "        return \"The Sport is not listed in json\"\n",
    "\n",
    "User_input = input(\"Enter the Sport: \")\n",
    "print(return_json_val(User_input))\n",
    "    "
   ]
  },
  {
   "cell_type": "code",
   "execution_count": null,
   "metadata": {},
   "outputs": [],
   "source": []
  }
 ],
 "metadata": {
  "kernelspec": {
   "display_name": "Python 3",
   "language": "python",
   "name": "python3"
  },
  "language_info": {
   "codemirror_mode": {
    "name": "ipython",
    "version": 3
   },
   "file_extension": ".py",
   "mimetype": "text/x-python",
   "name": "python",
   "nbconvert_exporter": "python",
   "pygments_lexer": "ipython3",
   "version": "3.6.7"
  }
 },
 "nbformat": 4,
 "nbformat_minor": 2
}
