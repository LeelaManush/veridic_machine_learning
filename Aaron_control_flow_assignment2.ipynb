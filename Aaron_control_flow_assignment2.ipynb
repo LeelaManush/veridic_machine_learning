{
 "cells": [
  {
   "cell_type": "markdown",
   "metadata": {},
   "source": [
    "Question-1 :\n",
    "Given an integer,n perform the following conditional actions:  Take the input from keyboard using input() function\n",
    "\n",
    "If n is odd, print Weird\n",
    "If n is even and in the inclusive range of 2 to 5, print Not Weird\n",
    "If n is even and in the inclusive range of 6 to 20, print Weird\n",
    "If n is even and greater than 20, print Not Weird."
   ]
  },
  {
   "cell_type": "code",
   "execution_count": null,
   "metadata": {},
   "outputs": [],
   "source": [
    "n = int(input(\"Enter a number: \"))\n",
    "\n",
    "if n%2 != 0:\n",
    "    print('Weird')\n",
    "else:\n",
    "    if 2 >= n <= 5:\n",
    "        print('Not Weird')\n",
    "    elif 6 >= n <= 20:\n",
    "        print('Weird')\n",
    "    else: \n",
    "        print('Not Weird')"
   ]
  },
  {
   "cell_type": "markdown",
   "metadata": {},
   "source": [
    "Question-2: \n",
    "\n",
    "Assign 10 to the variable x and 25 to the variable y. In the same cell, create 2 conditional statements. Let the first one print \"Both conditions are correct\" if x is greater then 3 and y is greater than 13. Let the second one print \"At least one of the conditions is false\" if x is less than or equal to 3 and y is less than or equal to 13. Change the values assigned to x and y and re-run the cell to verify your code still works.\n"
   ]
  },
  {
   "cell_type": "code",
   "execution_count": null,
   "metadata": {},
   "outputs": [],
   "source": [
    "x, y = 10, 25\n",
    "\n",
    "if x > 3 and y > 13:\n",
    "    print(\"Both conditions are correct\")\n",
    "elif x <= 3 and y <= 13:\n",
    "    print(\"At least one of the conditions is false\")"
   ]
  },
  {
   "cell_type": "markdown",
   "metadata": {},
   "source": [
    "Question - 3:\n",
    "\n",
    "Print all elements of a list using 'for' loop\n",
    "list = ['23', 'name', 'age', 'veridic', 'python', 'data']\n"
   ]
  },
  {
   "cell_type": "code",
   "execution_count": null,
   "metadata": {},
   "outputs": [],
   "source": [
    "lst = ['23', 'name', 'age', 'veridic', 'python', 'data']\n",
    "for val in lst:\n",
    "    print(val)"
   ]
  },
  {
   "cell_type": "markdown",
   "metadata": {},
   "source": [
    "Queestion - 4:\n",
    "\n",
    "Take inputs from user to make a list. Again take one input from user and search it in the list and delete that element, if found. Iterate over list using for loop\n",
    "\n"
   ]
  },
  {
   "cell_type": "code",
   "execution_count": null,
   "metadata": {},
   "outputs": [],
   "source": [
    "lst = []\n",
    "\n",
    "while(True):\n",
    "    inp = input(\"Enter an element: \")\n",
    "    lst.append(inp)\n",
    "    \n",
    "    flag = input(\"Do you wanna re-enter: Y, N: \")\n",
    "    if flag.upper() == 'N':    \n",
    "        break\n",
    "\n",
    "#lst = list(set(lst)) # If we wanna retain only the unique elements in the list. If not, proceed...\n",
    "\n",
    "user_inp = input(\"Enter the element to search: \")\n",
    "for val in lst:\n",
    "    if user_inp == val:\n",
    "        lst.remove(val)\n",
    "\n",
    "print(lst)"
   ]
  },
  {
   "cell_type": "markdown",
   "metadata": {},
   "source": [
    "Question - 5:\n",
    "\n",
    "Print multiplication table of 14?  print it as 14 x 1 = 14 and continue till 20 times"
   ]
  },
  {
   "cell_type": "code",
   "execution_count": null,
   "metadata": {},
   "outputs": [],
   "source": [
    "for i in range(1,21):\n",
    "    print(\"14 x {} = {}\".format(i, 14*i))"
   ]
  },
  {
   "cell_type": "markdown",
   "metadata": {},
   "source": [
    "Question - 6:\n",
    "\n",
    "You are given with a list of integer elements. Make a new list which will store square of elements of previous list. \n",
    "list = [2, 4, 5, 6, 7, 8, 19, 34, 45, 56, 12, 65, 88, 92, 100]"
   ]
  },
  {
   "cell_type": "code",
   "execution_count": null,
   "metadata": {},
   "outputs": [],
   "source": [
    "lst = [2, 4, 5, 6, 7, 8, 19, 34, 45, 56, 12, 65, 88, 92, 100]\n",
    "[x**2 for x in lst] "
   ]
  },
  {
   "cell_type": "markdown",
   "metadata": {},
   "source": [
    "Question - 7: \n",
    "\n",
    "\n",
    "tup = (1, 3, 5, 6, 94, 100, 7)\n",
    "# print all prime numbers only from tuple\n",
    "\n",
    "\n"
   ]
  },
  {
   "cell_type": "code",
   "execution_count": 5,
   "metadata": {},
   "outputs": [
    {
     "name": "stdout",
     "output_type": "stream",
     "text": [
      "3\n",
      "5\n",
      "11\n",
      "13\n",
      "7\n"
     ]
    }
   ],
   "source": [
    "tup = (1, 3, 5, 6, 9, 11, 13, 15, 94, 100, 7)\n",
    "\n",
    "for val in tup:\n",
    "    flag = False\n",
    "    if val == 1 or val % 2 == 0:\n",
    "        continue\n",
    "    else:\n",
    "        num = 3\n",
    "        while (num < val):\n",
    "            if val % num == 0:\n",
    "                flag = True\n",
    "                break\n",
    "            else:\n",
    "                num += 2 \n",
    "        if flag:\n",
    "            continue\n",
    "        else:\n",
    "            print(val)"
   ]
  },
  {
   "cell_type": "markdown",
   "metadata": {},
   "source": [
    "Question - 8:\n",
    "\n",
    "Create a login system using control flow statements. \n",
    "Requirements: when you execute the code, first prompt must be \"enter the username\". Username must start with \"VER\" key word, must contain 8 characters.\n",
    "\n",
    "password must be combination of letters and numbers, atleast one letter must be caps and accept specials characters like !, @ ,# etc if needed.\n",
    "\n",
    "If all conditions are satisified print login success!\n"
   ]
  },
  {
   "cell_type": "code",
   "execution_count": null,
   "metadata": {},
   "outputs": [],
   "source": [
    "flag = True \n",
    "\n",
    "while(flag):\n",
    "    user_name = input(\"Enter the username: \")\n",
    "    if user_name.startswith(\"VER\") and len(user_name) == 8:\n",
    "        while(True):\n",
    "            pw = input(\"Enter the password: \")\n",
    "            if any(char.isalpha() for char in pw): #check if there is atleast one letter\n",
    "                if any(char.isdigit() for char in pw): #check if there is atleast one digit\n",
    "                    if any(char.isupper() for char in pw): # check if atleast one letter is upper-case\n",
    "                        print(\"login sucess!\")\n",
    "                        flag = False\n",
    "                        break\n",
    "                    else:\n",
    "                        print(\"Password must have atleast one upper-case letter\")\n",
    "                        continue\n",
    "                else:\n",
    "                    print(\"Password must have atleast one digit\")\n",
    "                    continue\n",
    "            else:\n",
    "                print(\"Password must have atleast one letter\")\n",
    "                continue\n",
    "    else:\n",
    "        print(\"Username must start with 'VER' and contain 8 characters\")  "
   ]
  },
  {
   "cell_type": "markdown",
   "metadata": {},
   "source": [
    "Question- 9:\n",
    "\n",
    "Program code for rock paper scissors game! without using any imports. you must be able to do it on your own!"
   ]
  },
  {
   "cell_type": "code",
   "execution_count": null,
   "metadata": {},
   "outputs": [],
   "source": [
    "# Just one game... \n",
    "\n",
    "player1 = input(\"Player 1, Enter 'Rock', 'Paper' or 'Scissor': \")\n",
    "player2 = input(\"Player 2, Enter 'Rock', 'Paper' or 'Scissor': \")\n",
    "\n",
    "if player1.lower() == player2.lower():\n",
    "    print(\"Draw!\")\n",
    "elif player1.lower() == 'rock':\n",
    "    if player2.lower() == 'scissor':\n",
    "        print(\"Player 1 wins!\")\n",
    "    else:\n",
    "        print(\"Player 2 wins!\")\n",
    "elif player1.lower() == 'paper':\n",
    "    if player2.lower() == 'rock':\n",
    "        print(\"Player 1 wins!\")\n",
    "    else:\n",
    "        print(\"Player 2 wins!\")\n",
    "else:\n",
    "    if player2.lower() == 'paper':\n",
    "        print(\"Player 1 wins!\")\n",
    "    else:\n",
    "        print(\"Player 2 wins!\")"
   ]
  }
 ],
 "metadata": {
  "kernelspec": {
   "display_name": "Python 3",
   "language": "python",
   "name": "python3"
  },
  "language_info": {
   "codemirror_mode": {
    "name": "ipython",
    "version": 3
   },
   "file_extension": ".py",
   "mimetype": "text/x-python",
   "name": "python",
   "nbconvert_exporter": "python",
   "pygments_lexer": "ipython3",
   "version": "3.7.0"
  },
  "toc": {
   "nav_menu": {},
   "number_sections": true,
   "sideBar": true,
   "skip_h1_title": false,
   "title_cell": "Table of Contents",
   "title_sidebar": "Contents",
   "toc_cell": false,
   "toc_position": {},
   "toc_section_display": true,
   "toc_window_display": false
  }
 },
 "nbformat": 4,
 "nbformat_minor": 2
}
