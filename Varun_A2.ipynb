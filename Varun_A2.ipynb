{
 "cells": [
  {
   "cell_type": "markdown",
   "metadata": {},
   "source": [
    "Question-1 :\n",
    "Given an integer,n perform the following conditional actions:  Take the input from keyboard using input() function\n",
    "\n",
    "If n is odd, print Weird\n",
    "If n is even and in the inclusive range of 2 to 5, print Not Weird\n",
    "If n is even and in the inclusive range of 6 to 20, print Weird\n",
    "If n is even and greater than 20, print Not Weird."
   ]
  },
  {
   "cell_type": "code",
   "execution_count": 32,
   "metadata": {},
   "outputs": [
    {
     "name": "stdout",
     "output_type": "stream",
     "text": [
      "enter any number: 4\n",
      "not weird\n"
     ]
    }
   ],
   "source": [
    "n = int(input(\"enter any number: \"))\n",
    "if n%2 == 1:\n",
    "    print('Weird')\n",
    "else:\n",
    "    if (2 >= n <= 5):\n",
    "        print('Not weird')\n",
    "    elif (6 <= n <=20):\n",
    "        print('weird')\n",
    "    else:\n",
    "        print('Not weird')"
   ]
  },
  {
   "cell_type": "markdown",
   "metadata": {},
   "source": [
    "Question-2: \n",
    "\n",
    "Assign 10 to the variable x and 25 to the variable y. In the same cell, create 2 conditional statements. Let the first one print \"Both conditions are correct\" if x is greater then 3 and y is greater than 13. Let the second one print \"At least one of the conditions is false\" if x is less than or equal to 3 and y is less than or equal to 13. Change the values assigned to x and y and re-run the cell to verify your code still works.\n"
   ]
  },
  {
   "cell_type": "code",
   "execution_count": 35,
   "metadata": {},
   "outputs": [
    {
     "name": "stdout",
     "output_type": "stream",
     "text": [
      "Both conditions are correct.\n"
     ]
    }
   ],
   "source": [
    "x=10\n",
    "y=25\n",
    "if x>3 and y>13:\n",
    "    print(\"Both conditions are correct.\")\n",
    "else:\n",
    "    if x<=3 or y<=13 :\n",
    "        print(\"At least one of the conditions is false.\")"
   ]
  },
  {
   "cell_type": "markdown",
   "metadata": {},
   "source": [
    "Question - 3:\n",
    "\n",
    "Print all elements of a list using 'for' loop\n",
    "list = ['23', 'name', 'age', 'veridic', 'python', 'data']\n"
   ]
  },
  {
   "cell_type": "code",
   "execution_count": 37,
   "metadata": {},
   "outputs": [
    {
     "name": "stdout",
     "output_type": "stream",
     "text": [
      "23\n",
      "name\n",
      "age\n",
      "veridic\n",
      "python\n",
      "data\n"
     ]
    }
   ],
   "source": [
    "list=['23','name','age','veridic','python','data']\n",
    "for x in list:\n",
    "    print(x)\n",
    "    "
   ]
  },
  {
   "cell_type": "markdown",
   "metadata": {},
   "source": [
    "Queestion - 4:\n",
    "\n",
    "Take inputs from user to make a list. Again take one input from user and search it in the list and delete that element, if found. Iterate over list using for loop\n",
    "\n"
   ]
  },
  {
   "cell_type": "code",
   "execution_count": null,
   "metadata": {},
   "outputs": [],
   "source": []
  },
  {
   "cell_type": "markdown",
   "metadata": {},
   "source": [
    "Question - 5:\n",
    "\n",
    "Print multiplication table of 14?  print it as 14 x 1 = 14 and continue till 20 times"
   ]
  },
  {
   "cell_type": "code",
   "execution_count": 38,
   "metadata": {},
   "outputs": [
    {
     "name": "stdout",
     "output_type": "stream",
     "text": [
      "14 x 1 = 14\n",
      "14 x 2 = 28\n",
      "14 x 3 = 42\n",
      "14 x 4 = 56\n",
      "14 x 5 = 70\n",
      "14 x 6 = 84\n",
      "14 x 7 = 98\n",
      "14 x 8 = 112\n",
      "14 x 9 = 126\n",
      "14 x 10 = 140\n",
      "14 x 11 = 154\n",
      "14 x 12 = 168\n",
      "14 x 13 = 182\n",
      "14 x 14 = 196\n",
      "14 x 15 = 210\n",
      "14 x 16 = 224\n",
      "14 x 17 = 238\n",
      "14 x 18 = 252\n",
      "14 x 19 = 266\n",
      "14 x 20 = 280\n"
     ]
    }
   ],
   "source": [
    "n = 14\n",
    "for i in range (1,21):\n",
    "    print(n,'x',i,'=', n*i )"
   ]
  },
  {
   "cell_type": "markdown",
   "metadata": {},
   "source": [
    "Question - 6:\n",
    "\n",
    "You are given with a list of integer elements. Make a new list which will store square of elements of previous list. \n",
    "list = [2, 4, 5, 6, 7, 8, 19, 34, 45, 56, 12, 65, 88, 92, 100]"
   ]
  },
  {
   "cell_type": "code",
   "execution_count": 44,
   "metadata": {},
   "outputs": [
    {
     "name": "stdout",
     "output_type": "stream",
     "text": [
      "[4, 16, 25, 36, 49, 64, 361, 1156, 2025, 3136, 144, 4225, 7744, 8464, 10000]\n"
     ]
    }
   ],
   "source": [
    "list = [2, 4, 5, 6, 7, 8, 19, 34, 45, 56, 12, 65, 88, 92, 100]\n",
    "\n",
    "sq = []\n",
    "for i in list:\n",
    "    sq.append(i**2)\n",
    "\n",
    "print(sq)\n",
    "    "
   ]
  },
  {
   "cell_type": "markdown",
   "metadata": {},
   "source": [
    "Question - 7: \n",
    "\n",
    "\n",
    "tup = (1, 3, 5, 6, 94, 100, 7)\n",
    "# print all prime numbers only from tuple\n",
    "\n",
    "\n"
   ]
  },
  {
   "cell_type": "code",
   "execution_count": null,
   "metadata": {},
   "outputs": [],
   "source": []
  },
  {
   "cell_type": "markdown",
   "metadata": {},
   "source": [
    "Question - 8:\n",
    "\n",
    "Create a login system using control flow statements. \n",
    "Requirements: when you execute the code, first prompt must be \"enter the username\". Username must start with \"VER\" key word, must contain 8 characters.\n",
    "\n",
    "password must be combination of letters and numbers, atleast one letter must be caps and accept specials characters like !, @ ,# etc if needed.\n",
    "\n",
    "If all conditions are satisified print login success!\n"
   ]
  },
  {
   "cell_type": "code",
   "execution_count": null,
   "metadata": {},
   "outputs": [],
   "source": []
  },
  {
   "cell_type": "markdown",
   "metadata": {},
   "source": [
    "Question- 9:\n",
    "\n",
    "Program code for rock paper scissors game! without using any imports. you must be able to do it on your own!"
   ]
  },
  {
   "cell_type": "code",
   "execution_count": 49,
   "metadata": {},
   "outputs": [
    {
     "name": "stdout",
     "output_type": "stream",
     "text": [
      "Player 1, What do you want?: 'rock', 'paper' or 'scissor': paper\n",
      "Player 2, What do you want?: 'rock', 'paper' or 'scissor': rock\n",
      "Paper wraps Rock, Player 1 wins!\n"
     ]
    }
   ],
   "source": [
    "p1 = input(\"Player 1, What do you want?: 'rock', 'paper' or 'scissor': \")\n",
    "p2 = input(\"Player 2, What do you want?: 'rock', 'paper' or 'scissor': \")\n",
    "\n",
    "if p1 == p2:\n",
    "    print(\"Oh! No... It's a Tie\")\n",
    "elif p1 == 'rock':\n",
    "    if p2 == 'scissor':\n",
    "        print(\"Rock crushes Scissor, Player 1 wins!\")\n",
    "    else:\n",
    "        print(\"Paper wraps Rock, Player 2 wins!\")\n",
    "elif p1 == 'paper':\n",
    "    if p2 == 'rock':\n",
    "        print(\"Paper wraps Rock, Player 1 wins!\")\n",
    "    else:\n",
    "        print(\"Scissor cuts Paper, Player 2 wins!\")\n",
    "else:\n",
    "    if p2 == 'paper':\n",
    "        print(\"Scissor cuts Paper, Player 1 wins!\")\n",
    "    else:\n",
    "        print(\"Rock crushes Scissor, Player 2 wins!\")"
   ]
  },
  {
   "cell_type": "code",
   "execution_count": null,
   "metadata": {},
   "outputs": [],
   "source": []
  },
  {
   "cell_type": "code",
   "execution_count": null,
   "metadata": {},
   "outputs": [],
   "source": []
  }
 ],
 "metadata": {
  "kernelspec": {
   "display_name": "Python 3",
   "language": "python",
   "name": "python3"
  },
  "language_info": {
   "codemirror_mode": {
    "name": "ipython",
    "version": 3
   },
   "file_extension": ".py",
   "mimetype": "text/x-python",
   "name": "python",
   "nbconvert_exporter": "python",
   "pygments_lexer": "ipython3",
   "version": "3.7.1"
  }
 },
 "nbformat": 4,
 "nbformat_minor": 2
}
