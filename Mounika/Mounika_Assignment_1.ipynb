{
 "cells": [
  {
   "cell_type": "markdown",
   "metadata": {},
   "source": [
    "# Assignment-1"
   ]
  },
  {
   "cell_type": "markdown",
   "metadata": {},
   "source": [
    "1. Write a python program to get a string made of the first 2 and last chars from a given string."
   ]
  },
  {
   "cell_type": "code",
   "execution_count": 4,
   "metadata": {},
   "outputs": [
    {
     "name": "stdout",
     "output_type": "stream",
     "text": [
      "Moka\n"
     ]
    }
   ],
   "source": [
    "str=\"Mounika\"\n",
    "print(str[:2]+str[-2:])"
   ]
  },
  {
   "cell_type": "markdown",
   "metadata": {},
   "source": [
    "2. write a program to add up the last 2 characters 3 times for the above string?"
   ]
  },
  {
   "cell_type": "code",
   "execution_count": 5,
   "metadata": {},
   "outputs": [
    {
     "name": "stdout",
     "output_type": "stream",
     "text": [
      "kakaka\n"
     ]
    }
   ],
   "source": [
    "print (3*str[-2:])"
   ]
  },
  {
   "cell_type": "code",
   "execution_count": 6,
   "metadata": {},
   "outputs": [
    {
     "name": "stdout",
     "output_type": "stream",
     "text": [
      "Enter value of a:4\n",
      "Enter value of b:3\n",
      "7\n",
      "1\n",
      "12\n",
      "1\n",
      "1.3333333333333333\n"
     ]
    }
   ],
   "source": [
    "#3. Read two integers from input() and print five lines where: a. The first line contains the sum of the two numbers.\n",
    "#b. The second line contains the difference of the two numbers (first - second). c. The third line contains the product of the two numbers. \n",
    "#d. The fourth line should contain integer division, a//b. \n",
    "#e. The fifth line should contain float division, a/b.\n",
    "a=int(input(\"Enter value of a:\"))\n",
    "b=int(input(\"Enter value of b:\"))\n",
    "\n",
    "print(a+b)\n",
    "print(a-b)\n",
    "print(a*b)\n",
    "print(int(a/b))\n",
    "print(float(a/b))"
   ]
  },
  {
   "cell_type": "markdown",
   "metadata": {},
   "source": [
    "4. Write a program to print the following using string slicing given the string is ‘Python’"
   ]
  },
  {
   "cell_type": "code",
   "execution_count": 9,
   "metadata": {},
   "outputs": [
    {
     "name": "stdout",
     "output_type": "stream",
     "text": [
      "p\n",
      "yth\n",
      "pyth\n",
      "thon\n",
      "pn\n",
      "h\n"
     ]
    }
   ],
   "source": [
    "str=\"python\"\n",
    "print(str[0])\n",
    "print(str[1:4])\n",
    "print(str[:4])\n",
    "print(str[2:])\n",
    "print(str[0::5])\n",
    "print(str[-3])"
   ]
  },
  {
   "cell_type": "markdown",
   "metadata": {},
   "source": [
    "5. Given 2 strings, print their concatenation, except omit the first char of each. The strings will be atleast length 1. Example: 'Hello', 'There' expected output: 'ellohere'"
   ]
  },
  {
   "cell_type": "code",
   "execution_count": 11,
   "metadata": {},
   "outputs": [
    {
     "name": "stdout",
     "output_type": "stream",
     "text": [
      "HelloMounika\n",
      "elloounika\n"
     ]
    }
   ],
   "source": [
    "x=\"Hello\"\n",
    "y=\"Mounika\"\n",
    "print(x+y)\n",
    "print(x[1:]+y[1:])"
   ]
  },
  {
   "cell_type": "markdown",
   "metadata": {},
   "source": [
    "6. Given the participants' score sheet for your University Sports Day, you are required to find the runner-up score.You are given scores. Store them in a list and find the score of the runner-up. Example: Given list is [2,3,6,6,5]. The maximum score is 6, second maximum is 5. Hence, we print 5 as the runner-up score."
   ]
  },
  {
   "cell_type": "markdown",
   "metadata": {},
   "source": [
    "7. Given a student’s marks list as 56, 75, 89, 78. Calculate and print the total marks and the percentage that the student obtained. (Info: Total marks for each subject is 100)"
   ]
  },
  {
   "cell_type": "code",
   "execution_count": 14,
   "metadata": {},
   "outputs": [
    {
     "name": "stdout",
     "output_type": "stream",
     "text": [
      "sum of marks:  298\n",
      "sum of total:  400\n",
      "Percentage=  74.5\n"
     ]
    }
   ],
   "source": [
    "marks=[56,75,89,78]\n",
    "total=[100,100,100,100]\n",
    "print(\"sum of marks: \", sum(marks))\n",
    "print(\"sum of total: \", sum(total))\n",
    "print(\"Percentage= \", (sum(marks)/sum(total))*100)"
   ]
  },
  {
   "cell_type": "markdown",
   "metadata": {},
   "source": [
    "8. Write a program to swap two numbers given only 2 variables 'a' and 'b' ( condition: No other variables should be declared other than a and b)"
   ]
  },
  {
   "cell_type": "code",
   "execution_count": 15,
   "metadata": {},
   "outputs": [
    {
     "name": "stdout",
     "output_type": "stream",
     "text": [
      "3\n",
      "2\n"
     ]
    }
   ],
   "source": [
    "a=2\n",
    "b=3\n",
    "a,b=b,a\n",
    "print(a)\n",
    "print(b)"
   ]
  },
  {
   "cell_type": "markdown",
   "metadata": {},
   "source": [
    "9. write a program to print the area and perimeter of a circle, given radisu is input from keyboard. ( PI value = 3.14) Area = PI radius**2 perimeter = 2 PI * radius"
   ]
  },
  {
   "cell_type": "code",
   "execution_count": 18,
   "metadata": {},
   "outputs": [
    {
     "name": "stdout",
     "output_type": "stream",
     "text": [
      "Area = 50.24\n",
      "Perimeter=  25.12\n"
     ]
    }
   ],
   "source": [
    "PI=3.14\n",
    "r=4\n",
    "print(\"Area =\" , PI*(r**2))\n",
    "print(\"Perimeter= \", 2*PI*r)"
   ]
  },
  {
   "cell_type": "code",
   "execution_count": null,
   "metadata": {},
   "outputs": [],
   "source": []
  }
 ],
 "metadata": {
  "kernelspec": {
   "display_name": "Python 3",
   "language": "python",
   "name": "python3"
  },
  "language_info": {
   "codemirror_mode": {
    "name": "ipython",
    "version": 3
   },
   "file_extension": ".py",
   "mimetype": "text/x-python",
   "name": "python",
   "nbconvert_exporter": "python",
   "pygments_lexer": "ipython3",
   "version": "3.6.5"
  }
 },
 "nbformat": 4,
 "nbformat_minor": 2
}
