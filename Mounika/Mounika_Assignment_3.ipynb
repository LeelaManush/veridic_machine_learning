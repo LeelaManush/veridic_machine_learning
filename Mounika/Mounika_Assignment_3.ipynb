{
 "cells": [
  {
   "cell_type": "markdown",
   "metadata": {},
   "source": [
    "# Assignment - 3"
   ]
  },
  {
   "cell_type": "markdown",
   "metadata": {},
   "source": [
    "1. Write a program to find the given number is a Strong number or not. (use functions)"
   ]
  },
  {
   "cell_type": "code",
   "execution_count": 2,
   "metadata": {},
   "outputs": [
    {
     "name": "stdout",
     "output_type": "stream",
     "text": [
      " Please Enter any Number: 150\n",
      "Factorial of 0 = 1\n",
      "Factorial of 5 = 120\n",
      "\n",
      " Sum of Factorials of a Given Number 150 = 121\n",
      " 150 is not a Strong Number\n"
     ]
    }
   ],
   "source": [
    "Number = int(input(\" Please Enter any Number: \"))\n",
    "Sum = 0\n",
    "i = Number\n",
    "\n",
    "while(i > 0):\n",
    "    Factorial = 1\n",
    "    Reminder = i % 10\n",
    "\n",
    "    for i in range(1, Reminder + 1):\n",
    "        Factorial = Factorial * i\n",
    "\n",
    "    print(\"Factorial of %d = %d\" %(Reminder, Factorial))\n",
    "    Sum = Sum + Factorial\n",
    "    i = i // 10\n",
    "\n",
    "print(\"\\n Sum of Factorials of a Given Number %d = %d\" %(Number, Sum))\n",
    "    \n",
    "if (Sum == Number):\n",
    "    print(\" %d is a Strong Number\" %Number)\n",
    "else:\n",
    "    print(\" %d is not a Strong Number\" %Number)"
   ]
  },
  {
   "cell_type": "markdown",
   "metadata": {},
   "source": [
    "2.Given an array of integers, find the sum of its elements."
   ]
  },
  {
   "cell_type": "code",
   "execution_count": 9,
   "metadata": {},
   "outputs": [
    {
     "name": "stdout",
     "output_type": "stream",
     "text": [
      "15\n"
     ]
    }
   ],
   "source": [
    "arr=[1,2,3,4,5]\n",
    "print(sum(arr))"
   ]
  },
  {
   "cell_type": "markdown",
   "metadata": {},
   "source": [
    "3. Consider a staircase of size n=4:\n",
    "   #\n",
    "  ##\n",
    " ###\n",
    "####\n",
    "Observe that its base and height are both equal to n, and the image is drawn using # symbols and spaces. The last line is not preceded by any spaces.\n",
    "Write a program that prints a staircase of size n."
   ]
  },
  {
   "cell_type": "code",
   "execution_count": 16,
   "metadata": {},
   "outputs": [
    {
     "name": "stdout",
     "output_type": "stream",
     "text": [
      "Enter the height: 5\n",
      "    #\n",
      "   ##\n",
      "  ###\n",
      " ####\n",
      "#####\n"
     ]
    }
   ],
   "source": [
    "def staircase(h):\n",
    "    x = n - 1\n",
    "    i = 1\n",
    "    for _ in range(h):\n",
    "        print(x * ' ' + i * '#')\n",
    "        x = x - 1\n",
    "        i += 1\n",
    "\n",
    "n = int(input(\"Enter the height: \"))\n",
    "staircase(n)"
   ]
  },
  {
   "cell_type": "markdown",
   "metadata": {},
   "source": [
    "4.Given five positive integers, find the minimum and maximum values that can be calculated by summing exactly four of the five integers. Then print the respective minimum and maximum values as a single line of two space-separated long integers."
   ]
  },
  {
   "cell_type": "code",
   "execution_count": 19,
   "metadata": {},
   "outputs": [
    {
     "name": "stdout",
     "output_type": "stream",
     "text": [
      "16\n",
      "101\n"
     ]
    }
   ],
   "source": [
    "x=[1,2,3,4,6,86]\n",
    "\n",
    "a=sum(x[:-1])\n",
    "b=sum(x[1:])\n",
    "x.sort()\n",
    "print(a)\n",
    "print(b)\n"
   ]
  },
  {
   "cell_type": "code",
   "execution_count": null,
   "metadata": {},
   "outputs": [],
   "source": [
    "5.Write a function named collatz() that has one parameter named number. \n",
    "If number is even, then collatz() should print number // 2 and return this value.\n",
    "If number is odd, then collatz() should print and return 3 * number + 1. \n",
    "Then write a program that lets the user type in an integer and that keeps calling collatz() on that \n",
    "number until the function returns the value 1. \n",
    "(Amazingly enough, this sequence actually works for any integer—sooner or \n",
    " later, using this sequence, you’ll arrive at 1! Even mathematicians aren’t sure why.\n",
    " Your program is exploring what’s called the Collatz sequence, sometimes called “the simplest impossible math problem.”) \n",
    "Remember to convert the return value from input() to an integer with the int() function; otherwise, it will be a string value."
   ]
  },
  {
   "cell_type": "code",
   "execution_count": 26,
   "metadata": {},
   "outputs": [
    {
     "name": "stdout",
     "output_type": "stream",
     "text": [
      "Enter a number: 10\n",
      "5\n",
      "16\n",
      "8\n",
      "4\n",
      "2\n",
      "1\n"
     ]
    }
   ],
   "source": [
    "def collatz(n):\n",
    "    if n % 2 == 0:\n",
    "        print(n // 2)\n",
    "        return n//2\n",
    "    else:\n",
    "        if n % 2 == 1:\n",
    "            print(3 * n + 1)\n",
    "            return 3 * n + 1\n",
    "        \n",
    "n = int(input(\"Enter a number: \"))\n",
    "while True:\n",
    "    n = collatz(n)\n",
    "    if n == 1:\n",
    "        break\n",
    "        \n",
    "        ##got this from internet i didn't understand what is collatz sequence"
   ]
  },
  {
   "cell_type": "markdown",
   "metadata": {},
   "source": [
    "6.Write a program to find given number is palindrome or not.\n"
   ]
  },
  {
   "cell_type": "code",
   "execution_count": 29,
   "metadata": {},
   "outputs": [
    {
     "name": "stdout",
     "output_type": "stream",
     "text": [
      "Enter any number: 262\n",
      "Palindrome number\n"
     ]
    }
   ],
   "source": [
    "num = input(\"Enter any number: \") \n",
    "rev_num = reversed(num) \n",
    "# check if the string is equal to its reverse \n",
    "if list(num) == list(rev_num): \n",
    "             print(\"Palindrome number\") \n",
    "else: \n",
    "             print(\"Not Palindrome number\")"
   ]
  },
  {
   "cell_type": "markdown",
   "metadata": {},
   "source": [
    "7.Write a Python function that accepts a string and calculate the number of upper case letters and lower case letters.\n"
   ]
  },
  {
   "cell_type": "code",
   "execution_count": 30,
   "metadata": {},
   "outputs": [
    {
     "name": "stdout",
     "output_type": "stream",
     "text": [
      "Enter a String: MoUnIkA\n",
      "Number of capital letters:  4\n",
      "Number of small letters:  3\n"
     ]
    }
   ],
   "source": [
    "string = input(\"Enter a String: \")\n",
    "capital = 0\n",
    "small = 0\n",
    "for letters in string:\n",
    "    if (letters.isupper()):\n",
    "        capital = capital + 1\n",
    "    elif (letters.islower()):\n",
    "        small = small + 1\n",
    "print(\"Number of capital letters: \", capital)\n",
    "print(\"Number of small letters: \", small)"
   ]
  },
  {
   "cell_type": "code",
   "execution_count": null,
   "metadata": {},
   "outputs": [],
   "source": [
    "8. Write a Python program that accepts a hyphen-separated sequence of words as input and prints the words in \n",
    "a hyphen-separated sequence after sorting them alphabetically. \n",
    "Sample Items : green-red-yellow-black-white Expected Result : black-green-red-white-yellow"
   ]
  },
  {
   "cell_type": "code",
   "execution_count": 32,
   "metadata": {},
   "outputs": [
    {
     "name": "stdout",
     "output_type": "stream",
     "text": [
      "Enter the string: sachin-ganguly-dravid-laxman-kumble\n",
      "dravid-ganguly-kumble-laxman-sachin\n"
     ]
    }
   ],
   "source": [
    "strings = [ word for word in input(\"Enter the string: \").split('-')]\n",
    "\n",
    "strings.sort()\n",
    "\n",
    "strings = '-'.join(strings)\n",
    "print(strings)"
   ]
  },
  {
   "cell_type": "markdown",
   "metadata": {},
   "source": [
    "9.Write a Python program to calculate the sum of a list of numbers using recursion.\n"
   ]
  },
  {
   "cell_type": "code",
   "execution_count": 33,
   "metadata": {},
   "outputs": [
    {
     "name": "stdout",
     "output_type": "stream",
     "text": [
      "10\n"
     ]
    }
   ],
   "source": [
    "def sum(A):\n",
    "    if len(A) == 1:\n",
    "        return A[0]\n",
    "    else:\n",
    "        return A[0] + sum(A[1:])\n",
    "\n",
    "li = [1,2,3,4]\n",
    "print(sum(li))"
   ]
  },
  {
   "cell_type": "code",
   "execution_count": null,
   "metadata": {},
   "outputs": [],
   "source": [
    "10. Write a function called fizz_buzz that takes a number. \n",
    "a. If the number is divisible by 3, it should return “Fizz”.\n",
    "b. If it is divisible by 5, it should return “Buzz”.\n",
    "c. If it is divisible by both 3 and 5, it should return “FizzBuzz”. \n",
    "d. Otherwise, it should return the same number.\n"
   ]
  },
  {
   "cell_type": "code",
   "execution_count": 34,
   "metadata": {},
   "outputs": [
    {
     "name": "stdout",
     "output_type": "stream",
     "text": [
      "Enter a number: 35\n",
      "Buzz\n"
     ]
    }
   ],
   "source": [
    "def Fizz_buzz(num):\n",
    "    if num % 3 == 0 and num % 5 == 0:\n",
    "        return \"FizzBuzz\"\n",
    "    elif num % 3 == 0:\n",
    "        return \"Fizz\"\n",
    "    elif num % 5 == 0:\n",
    "        return \"Buzz\"\n",
    "    else:\n",
    "        return num\n",
    "        \n",
    "    \n",
    "num = int(input(\"Enter a number: \"))\n",
    "result = Fizz_buzz(num)\n",
    "print(result)"
   ]
  },
  {
   "cell_type": "code",
   "execution_count": null,
   "metadata": {},
   "outputs": [],
   "source": []
  }
 ],
 "metadata": {
  "kernelspec": {
   "display_name": "Python 3",
   "language": "python",
   "name": "python3"
  },
  "language_info": {
   "codemirror_mode": {
    "name": "ipython",
    "version": 3
   },
   "file_extension": ".py",
   "mimetype": "text/x-python",
   "name": "python",
   "nbconvert_exporter": "python",
   "pygments_lexer": "ipython3",
   "version": "3.6.5"
  }
 },
 "nbformat": 4,
 "nbformat_minor": 2
}
