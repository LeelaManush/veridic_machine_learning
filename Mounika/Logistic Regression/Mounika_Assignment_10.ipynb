{
 "cells": [
  {
   "cell_type": "markdown",
   "metadata": {},
   "source": [
    "# Logistic Regression"
   ]
  },
  {
   "cell_type": "code",
   "execution_count": 1,
   "metadata": {},
   "outputs": [],
   "source": [
    "import numpy as np\n",
    "import pandas as pd\n",
    "import matplotlib.pyplot as plt\n",
    "from sklearn.linear_model import LogisticRegression\n",
    "from sklearn.preprocessing import StandardScaler\n",
    "from sklearn.metrics import confusion_matrix\n",
    "from sklearn.model_selection import train_test_split\n",
    "import warnings\n",
    "warnings.filterwarnings('ignore')"
   ]
  },
  {
   "cell_type": "code",
   "execution_count": 2,
   "metadata": {},
   "outputs": [],
   "source": [
    "Social_Network = pd.read_csv('D:/Training/Python/Assignments/veridic_machine_learning/Mounika/Logistic Regression/Social_Network_Ads.csv')"
   ]
  },
  {
   "cell_type": "code",
   "execution_count": 3,
   "metadata": {
    "scrolled": false
   },
   "outputs": [
    {
     "data": {
      "text/html": [
       "<div>\n",
       "<style scoped>\n",
       "    .dataframe tbody tr th:only-of-type {\n",
       "        vertical-align: middle;\n",
       "    }\n",
       "\n",
       "    .dataframe tbody tr th {\n",
       "        vertical-align: top;\n",
       "    }\n",
       "\n",
       "    .dataframe thead th {\n",
       "        text-align: right;\n",
       "    }\n",
       "</style>\n",
       "<table border=\"1\" class=\"dataframe\">\n",
       "  <thead>\n",
       "    <tr style=\"text-align: right;\">\n",
       "      <th></th>\n",
       "      <th>User ID</th>\n",
       "      <th>Gender</th>\n",
       "      <th>Age</th>\n",
       "      <th>EstimatedSalary</th>\n",
       "      <th>Purchased</th>\n",
       "    </tr>\n",
       "  </thead>\n",
       "  <tbody>\n",
       "    <tr>\n",
       "      <th>0</th>\n",
       "      <td>15624510</td>\n",
       "      <td>Male</td>\n",
       "      <td>19</td>\n",
       "      <td>19000</td>\n",
       "      <td>0</td>\n",
       "    </tr>\n",
       "    <tr>\n",
       "      <th>1</th>\n",
       "      <td>15810944</td>\n",
       "      <td>Male</td>\n",
       "      <td>35</td>\n",
       "      <td>20000</td>\n",
       "      <td>0</td>\n",
       "    </tr>\n",
       "    <tr>\n",
       "      <th>2</th>\n",
       "      <td>15668575</td>\n",
       "      <td>Female</td>\n",
       "      <td>26</td>\n",
       "      <td>43000</td>\n",
       "      <td>0</td>\n",
       "    </tr>\n",
       "    <tr>\n",
       "      <th>3</th>\n",
       "      <td>15603246</td>\n",
       "      <td>Female</td>\n",
       "      <td>27</td>\n",
       "      <td>57000</td>\n",
       "      <td>0</td>\n",
       "    </tr>\n",
       "    <tr>\n",
       "      <th>4</th>\n",
       "      <td>15804002</td>\n",
       "      <td>Male</td>\n",
       "      <td>19</td>\n",
       "      <td>76000</td>\n",
       "      <td>0</td>\n",
       "    </tr>\n",
       "  </tbody>\n",
       "</table>\n",
       "</div>"
      ],
      "text/plain": [
       "    User ID  Gender  Age  EstimatedSalary  Purchased\n",
       "0  15624510    Male   19            19000          0\n",
       "1  15810944    Male   35            20000          0\n",
       "2  15668575  Female   26            43000          0\n",
       "3  15603246  Female   27            57000          0\n",
       "4  15804002    Male   19            76000          0"
      ]
     },
     "execution_count": 3,
     "metadata": {},
     "output_type": "execute_result"
    }
   ],
   "source": [
    "Social_Network.head()"
   ]
  },
  {
   "cell_type": "code",
   "execution_count": 9,
   "metadata": {},
   "outputs": [],
   "source": [
    "X = Social_Network.iloc[1:, [2,3]].values\n",
    "Y = Social_Network.iloc[1:, 4].values"
   ]
  },
  {
   "cell_type": "code",
   "execution_count": 10,
   "metadata": {},
   "outputs": [],
   "source": [
    "X_train, X_test, Y_train, Y_test = train_test_split(X, Y, test_size = 0.25, random_state = 0)"
   ]
  },
  {
   "cell_type": "code",
   "execution_count": 11,
   "metadata": {},
   "outputs": [],
   "source": [
    "sc = StandardScaler()"
   ]
  },
  {
   "cell_type": "code",
   "execution_count": 16,
   "metadata": {},
   "outputs": [],
   "source": [
    "X_train = sc.fit_transform(X_train)\n",
    "X_test = sc.transform(X_test)"
   ]
  },
  {
   "cell_type": "code",
   "execution_count": 17,
   "metadata": {},
   "outputs": [],
   "source": [
    "classifier = LogisticRegression()"
   ]
  },
  {
   "cell_type": "code",
   "execution_count": 18,
   "metadata": {},
   "outputs": [
    {
     "data": {
      "text/plain": [
       "LogisticRegression(C=1.0, class_weight=None, dual=False, fit_intercept=True,\n",
       "          intercept_scaling=1, max_iter=100, multi_class='ovr', n_jobs=1,\n",
       "          penalty='l2', random_state=None, solver='liblinear', tol=0.0001,\n",
       "          verbose=0, warm_start=False)"
      ]
     },
     "execution_count": 18,
     "metadata": {},
     "output_type": "execute_result"
    }
   ],
   "source": [
    "classifier.fit(X_train, Y_train)"
   ]
  },
  {
   "cell_type": "code",
   "execution_count": 19,
   "metadata": {},
   "outputs": [],
   "source": [
    "Y_pred = classifier.predict(X_test)"
   ]
  },
  {
   "cell_type": "code",
   "execution_count": 22,
   "metadata": {},
   "outputs": [
    {
     "name": "stdout",
     "output_type": "stream",
     "text": [
      "             precision    recall  f1-score   support\n",
      "\n",
      "          0       0.89      0.90      0.89        70\n",
      "          1       0.76      0.73      0.75        30\n",
      "\n",
      "avg / total       0.85      0.85      0.85       100\n",
      "\n"
     ]
    }
   ],
   "source": [
    "from sklearn.metrics import classification_report\n",
    "print(classification_report(Y_test,Y_pred))"
   ]
  },
  {
   "cell_type": "code",
   "execution_count": 23,
   "metadata": {},
   "outputs": [],
   "source": [
    "from sklearn.metrics import confusion_matrix"
   ]
  },
  {
   "cell_type": "code",
   "execution_count": 24,
   "metadata": {},
   "outputs": [
    {
     "name": "stdout",
     "output_type": "stream",
     "text": [
      "[[63  7]\n",
      " [ 8 22]]\n"
     ]
    }
   ],
   "source": [
    "cm = confusion_matrix(Y_test, Y_pred)\n",
    "print(cm)"
   ]
  },
  {
   "cell_type": "code",
   "execution_count": 25,
   "metadata": {},
   "outputs": [
    {
     "data": {
      "image/png": "[encoded data removed]",
      "text/plain": [
       "<Figure size 432x288 with 1 Axes>"
      ]
     },
     "metadata": {},
     "output_type": "display_data"
    }
   ],
   "source": [
    "plt.clf()\n",
    "plt.imshow(cm, interpolation='nearest', cmap=plt.cm.Wistia)\n",
    "classNames = ['Negative','Positive']\n",
    "plt.title('Versicolor or Not Versicolor Confusion Matrix - Test Data')\n",
    "plt.ylabel('True label')\n",
    "plt.xlabel('Predicted label')\n",
    "tick_marks = np.arange(len(classNames))\n",
    "plt.xticks(tick_marks, classNames, rotation=45)\n",
    "plt.yticks(tick_marks, classNames)\n",
    "s = [['TN','FP'], ['FN', 'TP']]\n",
    "for i in range(2):\n",
    "    for j in range(2):\n",
    "        plt.text(j,i, str(s[i][j])+\" = \"+str(cm[i][j]))\n",
    "plt.show()\n"
   ]
  },
  {
   "cell_type": "code",
   "execution_count": 26,
   "metadata": {},
   "outputs": [
    {
     "data": {
      "image/png": "[encoded data removed]",
      "text/plain": [
       "<Figure size 432x288 with 1 Axes>"
      ]
     },
     "metadata": {},
     "output_type": "display_data"
    }
   ],
   "source": [
    "from matplotlib.colors import ListedColormap\n",
    "plt.clf()\n",
    "X_set, Y_set = X_test, Y_test\n",
    "X1, X2 = np.meshgrid(np.arange(start = X_set[:, 0].min() - 1, stop = X_set[:, 0].max() + 1, step = 0.01),\n",
    "                     np.arange(start = X_set[:, 1].min() - 1, stop = X_set[:, 1].max() + 1, step = 0.01))\n",
    "plt.contourf(X1, X2, classifier.predict(np.array([X1.ravel(), X2.ravel()]).T).reshape(X1.shape),\n",
    "             alpha = 0.75, cmap = ListedColormap(('Yellow', 'green')))\n",
    "plt.xlim(X1.min(), X1.max())\n",
    "plt.ylim(X2.min(), X2.max())\n",
    "for i, j in enumerate(np.unique(Y_set)):\n",
    "    plt.scatter(X_set[Y_set == j, 0], X_set[Y_set == j, 1],\n",
    "                c = ListedColormap(('blue', 'red'))(i), label = j)\n",
    "plt.title('Logistic Regression (Test set)')\n",
    "plt.xlabel('Petal Size')\n",
    "plt.ylabel('Versicolor')\n",
    "plt.legend()\n",
    "plt.show()"
   ]
  },
  {
   "cell_type": "code",
   "execution_count": 27,
   "metadata": {},
   "outputs": [
    {
     "name": "stdout",
     "output_type": "stream",
     "text": [
      "[[-0.12388443 -0.51230757]\n",
      " [ 1.96028899  0.40088067]\n",
      " [ 1.01293743  2.10942641]\n",
      " [-0.59756021  0.90166132]\n",
      " [ 0.91820228  2.10942641]\n",
      " [ 1.39187806  1.01949206]\n",
      " [-1.73438208 -0.60068062]\n",
      " [-0.02914928 -0.2471884 ]\n",
      " [ 0.16032103 -0.65959599]\n",
      " [ 0.34979134  0.10630382]\n",
      " [-0.97650084  1.57918808]\n",
      " [-1.54491177  0.3419653 ]\n",
      " [ 0.4445265   1.25515354]\n",
      " [ 0.91820228 -0.83634211]\n",
      " [ 1.96028899 -1.18983433]\n",
      " [ 0.16032103  0.25359225]\n",
      " [-0.31335475  0.22413456]\n",
      " [-1.35544146 -1.10146127]\n",
      " [ 1.39187806  2.16834178]\n",
      " [ 0.82346712 -0.54176525]\n",
      " [-0.88176568 -1.21929201]\n",
      " [-0.31335475 -0.27664609]\n",
      " [ 0.72873197  0.28304993]\n",
      " [ 1.01293743  0.48925373]\n",
      " [-0.31335475  0.28304993]\n",
      " [-0.78703052  0.57762678]\n",
      " [ 0.63399681 -1.39603812]\n",
      " [-0.12388443  2.25671484]\n",
      " [-0.02914928  1.28461123]\n",
      " [-0.88176568 -0.65959599]\n",
      " [ 0.25505619 -0.71851136]\n",
      " [ 2.05502415 -0.80688442]\n",
      " [-1.45017661  0.37142299]\n",
      " [-0.02914928 -0.30610377]\n",
      " [ 1.96028899  2.16834178]\n",
      " [-0.59756021  0.48925373]\n",
      " [-0.02914928 -0.57122294]\n",
      " [-0.4080899  -0.77742673]\n",
      " [ 0.25505619  0.07684614]\n",
      " [ 0.72873197 -1.21929201]\n",
      " [-1.92385239  0.48925373]\n",
      " [-0.50282506 -0.83634211]\n",
      " [-1.07123599  1.99159567]\n",
      " [ 0.16032103 -0.36501914]\n",
      " [ 0.91820228  0.60708447]\n",
      " [-1.82911724 -1.42549581]\n",
      " [ 0.16032103  0.04738845]\n",
      " [-0.31335475 -0.57122294]\n",
      " [ 0.16032103 -0.36501914]\n",
      " [-0.21861959 -0.51230757]\n",
      " [-0.02914928 -0.54176525]\n",
      " [-0.12388443  0.07684614]\n",
      " [ 0.06558588  1.90322262]\n",
      " [-0.12388443 -0.42393451]\n",
      " [ 1.01293743 -0.12935766]\n",
      " [-0.78703052  1.10786512]\n",
      " [-0.02914928  0.04738845]\n",
      " [-1.16597115 -1.10146127]\n",
      " [-0.31335475 -1.39603812]\n",
      " [ 1.86555383 -0.92471516]\n",
      " [-0.12388443  0.01793076]\n",
      " [-0.97650084 -0.42393451]\n",
      " [-1.07123599  0.60708447]\n",
      " [ 0.25505619  0.51871141]\n",
      " [-0.31335475 -0.92471516]\n",
      " [-0.31335475 -1.2487497 ]\n",
      " [ 0.16032103  1.10786512]\n",
      " [-0.31335475  0.10630382]\n",
      " [-1.35544146 -0.42393451]\n",
      " [-1.45017661 -0.09989998]\n",
      " [-0.88176568  2.31563021]\n",
      " [ 1.2971429  -1.42549581]\n",
      " [ 1.01293743  0.13576151]\n",
      " [ 0.82346712 -1.36658044]\n",
      " [ 0.06558588 -0.80688442]\n",
      " [ 0.25505619  0.28304993]\n",
      " [-0.02914928  0.31250762]\n",
      " [-1.07123599 -0.4533922 ]\n",
      " [ 1.39187806  0.37142299]\n",
      " [ 1.20240774 -1.36658044]\n",
      " [-0.12388443 -0.48284988]\n",
      " [-0.59756021 -1.51386886]\n",
      " [-0.97650084 -0.30610377]\n",
      " [ 0.91820228 -1.07200359]\n",
      " [-0.31335475  0.63654215]\n",
      " [ 1.2971429   2.37454558]\n",
      " [-0.69229537  0.13576151]\n",
      " [-0.59756021  1.40244197]\n",
      " [ 0.63399681 -0.71851136]\n",
      " [ 2.05502415 -0.80688442]\n",
      " [-0.88176568  0.40088067]\n",
      " [-0.21861959  1.43189965]\n",
      " [ 0.34979134  0.60708447]\n",
      " [-0.88176568 -0.77742673]\n",
      " [-1.07123599 -0.36501914]\n",
      " [ 0.72873197  0.78383058]\n",
      " [-0.88176568  0.16521919]\n",
      " [-0.31335475 -0.33556146]\n",
      " [ 0.72873197  0.13576151]\n",
      " [-0.12388443  2.19779947]\n",
      " [-1.82911724 -1.30766507]\n",
      " [-0.12388443  0.31250762]\n",
      " [ 0.25505619  0.31250762]\n",
      " [ 1.77081868  0.13576151]\n",
      " [ 1.10767259 -0.98363053]\n",
      " [-0.21861959  1.63810345]\n",
      " [ 0.34979134  2.34508789]\n",
      " [-0.50282506 -1.21929201]\n",
      " [ 0.82346712 -0.65959599]\n",
      " [ 0.34979134 -0.4533922 ]\n",
      " [-1.54491177 -0.18827303]\n",
      " [ 0.82346712 -1.45495349]\n",
      " [ 0.34979134 -0.12935766]\n",
      " [-1.45017661 -1.45495349]\n",
      " [ 1.10767259  0.5481691 ]\n",
      " [-0.69229537 -0.33556146]\n",
      " [-0.88176568  0.40088067]\n",
      " [-0.02914928 -0.2471884 ]\n",
      " [-0.31335475  0.04738845]\n",
      " [ 0.91820228 -1.01308822]\n",
      " [ 1.01293743 -1.21929201]\n",
      " [-0.02914928 -0.12935766]\n",
      " [-0.50282506 -0.54176525]\n",
      " [ 0.91820228 -1.18983433]\n",
      " [-0.12388443  0.69545752]\n",
      " [-0.78703052  0.31250762]\n",
      " [ 0.53926166 -0.89525748]\n",
      " [ 0.06558588 -0.30610377]\n",
      " [-1.73438208 -1.36658044]\n",
      " [-1.92385239  0.37142299]\n",
      " [ 0.34979134 -0.48284988]\n",
      " [ 0.82346712 -0.77742673]\n",
      " [ 1.67608352 -0.27664609]\n",
      " [ 0.82346712 -1.0425459 ]\n",
      " [ 0.34979134  0.31250762]\n",
      " [-1.2607063   0.60708447]\n",
      " [-1.63964692  0.07684614]\n",
      " [-0.12388443 -1.07200359]\n",
      " [-0.78703052 -0.21773072]\n",
      " [-1.35544146  0.43033836]\n",
      " [ 1.10767259 -1.45495349]\n",
      " [ 0.25505619 -0.30610377]\n",
      " [ 1.2971429   0.60708447]\n",
      " [-0.97650084 -1.10146127]\n",
      " [ 0.72873197 -1.39603812]\n",
      " [ 0.72873197 -1.10146127]\n",
      " [-0.12388443  0.04738845]\n",
      " [-1.16597115 -1.60224192]\n",
      " [-1.16597115 -1.16037664]\n",
      " [-0.21861959 -0.57122294]\n",
      " [ 0.63399681 -1.27820738]\n",
      " [ 0.4445265   1.87376493]\n",
      " [-1.92385239 -0.51230757]\n",
      " [ 0.06558588  0.04738845]\n",
      " [ 0.34979134  0.16521919]\n",
      " [ 1.58134837  1.78539188]\n",
      " [ 1.48661321  1.01949206]\n",
      " [-1.82911724  0.45979604]\n",
      " [ 0.72873197  0.37142299]\n",
      " [ 1.2971429   2.02105336]\n",
      " [-0.31335475  0.81328826]\n",
      " [-0.02914928 -0.57122294]\n",
      " [ 0.63399681 -1.39603812]\n",
      " [ 1.67608352  1.87376493]\n",
      " [ 0.82346712  1.28461123]\n",
      " [-1.82911724  0.19467688]\n",
      " [ 1.01293743  0.5481691 ]\n",
      " [ 0.34979134 -0.12935766]\n",
      " [-0.97650084  0.51871141]\n",
      " [-0.69229537 -0.09989998]\n",
      " [-0.12388443  1.99159567]\n",
      " [ 1.86555383 -1.36658044]\n",
      " [ 1.39187806  0.07684614]\n",
      " [-0.50282506 -0.77742673]\n",
      " [ 1.48661321  0.01793076]\n",
      " [ 0.06558588 -0.80688442]\n",
      " [ 0.63399681  1.81484956]\n",
      " [-1.73438208  0.48925373]\n",
      " [ 0.72873197  1.40244197]\n",
      " [-0.97650084  0.45979604]\n",
      " [-0.12388443  0.13576151]\n",
      " [-0.78703052 -0.60068062]\n",
      " [ 0.53926166  2.05051104]\n",
      " [-0.59756021  1.40244197]\n",
      " [-0.31335475  1.1373228 ]\n",
      " [ 1.96028899  0.19467688]\n",
      " [-1.92385239 -0.74796905]\n",
      " [ 0.91820228  0.78383058]\n",
      " [ 0.63399681 -1.10146127]\n",
      " [-0.31335475 -0.42393451]\n",
      " [ 0.91820228  1.46135734]\n",
      " [ 0.25505619 -0.54176525]\n",
      " [ 2.05502415  0.96057669]\n",
      " [-0.59756021  1.49081502]\n",
      " [-0.12388443  0.28304993]\n",
      " [-0.50282506 -1.13091896]\n",
      " [-0.31335475  0.07684614]\n",
      " [ 0.72873197 -1.36658044]\n",
      " [-0.97650084  0.43033836]\n",
      " [-0.31335475 -1.45495349]\n",
      " [ 0.06558588  1.90322262]\n",
      " [ 0.72873197  0.5481691 ]\n",
      " [-0.97650084 -0.95417285]\n",
      " [ 0.06558588  0.04738845]\n",
      " [-0.69229537 -1.0425459 ]\n",
      " [ 0.16032103 -0.36501914]\n",
      " [-0.31335475 -0.74796905]\n",
      " [ 1.48661321 -1.27820738]\n",
      " [-0.31335475 -1.30766507]\n",
      " [-0.12388443  0.16521919]\n",
      " [-1.63964692  0.5481691 ]\n",
      " [-1.2607063   0.31250762]\n",
      " [ 1.20240774  1.90322262]\n",
      " [-0.69229537  0.57762678]\n",
      " [ 0.16032103  2.1388841 ]\n",
      " [ 1.96028899  0.5481691 ]\n",
      " [ 0.16032103  0.07684614]\n",
      " [-1.73438208  0.13576151]\n",
      " [-0.4080899  -1.30766507]\n",
      " [-0.69229537  0.04738845]\n",
      " [-0.78703052  0.51871141]\n",
      " [ 0.25505619  0.07684614]\n",
      " [-0.21861959 -1.07200359]\n",
      " [-0.31335475  0.07684614]\n",
      " [ 1.86555383  0.93111901]\n",
      " [-0.69229537  1.43189965]\n",
      " [ 0.16032103  0.16521919]\n",
      " [ 0.25505619 -0.18827303]\n",
      " [ 1.86555383 -0.65959599]\n",
      " [-1.16597115 -1.60224192]\n",
      " [-0.31335475  0.5481691 ]\n",
      " [ 0.82346712  2.19779947]\n",
      " [-0.21861959  0.16521919]\n",
      " [ 1.58134837 -0.89525748]\n",
      " [-1.54491177 -1.51386886]\n",
      " [ 0.25505619 -0.51230757]\n",
      " [ 1.86555383  0.75437289]\n",
      " [ 2.05502415 -1.0425459 ]\n",
      " [-0.78703052 -1.60224192]\n",
      " [-1.16597115 -1.01308822]\n",
      " [-0.02914928  0.04738845]\n",
      " [ 1.77081868 -1.27820738]\n",
      " [-0.12388443 -0.36501914]\n",
      " [-1.07123599 -1.13091896]\n",
      " [-1.07123599 -0.33556146]\n",
      " [ 1.48661321  1.1373228 ]\n",
      " [-1.16597115  0.43033836]\n",
      " [ 1.01293743  0.57762678]\n",
      " [-0.69229537 -1.51386886]\n",
      " [-0.50282506 -0.27664609]\n",
      " [-0.50282506 -0.01152692]\n",
      " [-0.69229537  0.19467688]\n",
      " [ 1.20240774  2.25671484]\n",
      " [ 0.25505619  0.04738845]\n",
      " [-1.63964692 -1.57278423]\n",
      " [-0.97650084 -0.74796905]\n",
      " [-0.78703052 -1.54332655]\n",
      " [-1.73438208  0.37142299]\n",
      " [ 0.06558588  0.10630382]\n",
      " [-0.12388443  0.25359225]\n",
      " [ 0.82346712 -0.57122294]\n",
      " [-0.88176568 -0.2471884 ]\n",
      " [-0.12388443 -0.21773072]\n",
      " [ 2.05502415 -0.68905368]\n",
      " [-1.35544146 -1.36658044]\n",
      " [-1.07123599  0.5481691 ]\n",
      " [ 0.06558588  1.54973039]\n",
      " [ 1.86555383  2.19779947]\n",
      " [-1.16597115  0.31250762]\n",
      " [ 0.25505619  0.07684614]\n",
      " [-0.31335475  0.16521919]\n",
      " [ 0.16032103  0.16521919]\n",
      " [-0.50282506  1.28461123]\n",
      " [ 1.77081868 -0.27664609]\n",
      " [ 1.01293743 -1.21929201]\n",
      " [-1.54491177 -0.42393451]\n",
      " [-0.02914928 -0.42393451]\n",
      " [ 1.77081868 -1.07200359]\n",
      " [-1.45017661 -1.21929201]\n",
      " [ 1.01293743 -0.89525748]\n",
      " [-1.07123599 -1.54332655]\n",
      " [-0.97650084  0.57762678]\n",
      " [ 0.06558588  0.16521919]\n",
      " [-0.31335475 -0.57122294]\n",
      " [-1.35544146 -1.2487497 ]\n",
      " [-1.16597115  0.3419653 ]\n",
      " [-0.12388443  0.22413456]\n",
      " [ 1.67608352  1.01949206]\n",
      " [ 1.2971429  -0.92471516]\n",
      " [ 1.96028899 -0.80688442]\n",
      " [-1.16597115  0.31250762]\n",
      " [ 0.4445265   1.75593419]\n",
      " [-0.78703052  0.28304993]\n",
      " [ 0.91820228  1.90322262]\n",
      " [ 0.91820228  1.81484956]\n",
      " [-1.82911724  0.01793076]\n",
      " [ 0.16032103 -0.30610377]\n",
      " [-0.78703052  1.9326803 ]\n",
      " [-0.4080899  -0.77742673]]\n"
     ]
    }
   ],
   "source": [
    "print(X_train)"
   ]
  },
  {
   "cell_type": "code",
   "execution_count": 28,
   "metadata": {},
   "outputs": [
    {
     "name": "stdout",
     "output_type": "stream",
     "text": [
      "[0 0 1 1 0 1 0 0 0 1 1 0 1 1 1 0 0 0 1 1 0 0 1 1 0 0 1 1 1 0 0 1 0 0 1 0 0\n",
      " 0 0 1 0 0 1 0 1 0 1 0 0 0 0 0 1 0 0 1 0 0 0 1 1 0 0 1 0 0 1 0 0 0 1 1 0 1\n",
      " 0 0 0 0 1 1 0 0 0 1 1 1 0 1 1 1 0 1 1 0 0 0 0 0 0 1 0 0 0 1 1 1 1 0 0 0 0\n",
      " 1 0 0 1 0 0 0 0 1 1 0 0 1 1 0 0 0 0 0 0 0 1 1 1 0 0 0 0 0 1 0 1 0 0 1 0 0\n",
      " 0 0 1 0 0 0 0 1 1 0 0 1 1 0 1 1 1 0 1 0 0 0 1 1 1 0 1 0 1 0 1 0 0 0 1 0 0\n",
      " 1 0 1 1 0 1 0 1 1 1 0 0 1 0 0 1 1 0 0 0 0 0 1 0 0 0 0 0 0 1 1 0 0 0 0 0 0\n",
      " 0 0 1 1 0 0 1 0 0 1 0 1 0 0 1 1 0 0 0 1 0 0 0 1 0 1 0 0 0 0 1 0 0 0 0 0 0\n",
      " 1 1 0 0 1 0 0 1 1 0 0 0 0 0 1 1 0 0 1 0 1 0 0 1 0 0 0 0 1 1 0 0 1 0 1 1 0\n",
      " 0 1 0]\n"
     ]
    }
   ],
   "source": [
    "print(Y_train)"
   ]
  },
  {
   "cell_type": "code",
   "execution_count": 29,
   "metadata": {},
   "outputs": [
    {
     "name": "stdout",
     "output_type": "stream",
     "text": [
      "[[-1.63964692 -0.04098461]\n",
      " [ 0.34979134  0.01793076]\n",
      " [-0.21861959 -0.4533922 ]\n",
      " [-1.73438208 -0.98363053]\n",
      " [ 1.77081868  1.54973039]\n",
      " [-1.2607063   0.51871141]\n",
      " [ 0.72873197 -0.30610377]\n",
      " [ 1.58134837  1.63810345]\n",
      " [-0.31335475 -0.30610377]\n",
      " [ 2.05502415  1.1373228 ]\n",
      " [-1.16597115  0.07684614]\n",
      " [-1.45017661 -0.18827303]\n",
      " [ 0.34979134  0.31250762]\n",
      " [ 0.06558588  0.22413456]\n",
      " [-0.59756021 -1.51386886]\n",
      " [-1.07123599 -1.45495349]\n",
      " [-0.31335475 -0.36501914]\n",
      " [-1.92385239 -0.04098461]\n",
      " [ 1.2971429   1.31406891]\n",
      " [-0.31335475 -0.89525748]\n",
      " [-1.2607063  -1.39603812]\n",
      " [ 0.16032103 -0.2471884 ]\n",
      " [ 0.06558588 -0.2471884 ]\n",
      " [ 0.82346712  1.04894975]\n",
      " [-0.31335475 -0.65959599]\n",
      " [ 0.06558588  0.28304993]\n",
      " [-1.16597115 -1.54332655]\n",
      " [ 0.82346712 -1.30766507]\n",
      " [ 0.91820228  2.02105336]\n",
      " [-0.50282506  2.34508789]\n",
      " [-0.4080899   1.3435266 ]\n",
      " [ 0.16032103 -0.27664609]\n",
      " [-0.12388443  0.31250762]\n",
      " [-0.21861959  1.66756113]\n",
      " [-1.35544146 -1.48441118]\n",
      " [-1.54491177 -1.2487497 ]\n",
      " [-0.78703052  1.37298428]\n",
      " [-0.4080899   0.07684614]\n",
      " [-1.16597115 -1.57278423]\n",
      " [ 1.01293743 -0.98363053]\n",
      " [-0.97650084 -0.30610377]\n",
      " [ 0.91820228 -1.16037664]\n",
      " [-0.59756021  2.37454558]\n",
      " [-1.16597115 -0.77742673]\n",
      " [ 0.63399681  0.28304993]\n",
      " [-1.35544146 -0.42393451]\n",
      " [ 0.16032103 -0.12935766]\n",
      " [ 0.25505619  0.07684614]\n",
      " [-0.59756021  1.9326803 ]\n",
      " [-0.02914928  1.25515354]\n",
      " [ 0.25505619 -0.51230757]\n",
      " [-1.35544146  0.57762678]\n",
      " [-0.21861959 -0.18827303]\n",
      " [-1.16597115  1.43189965]\n",
      " [-0.31335475 -0.2471884 ]\n",
      " [-0.21861959 -0.27664609]\n",
      " [-0.31335475 -1.36658044]\n",
      " [-1.16597115 -0.51230757]\n",
      " [ 0.82346712 -1.16037664]\n",
      " [-1.2607063   0.28304993]\n",
      " [-0.4080899   1.25515354]\n",
      " [ 0.06558588  1.07840743]\n",
      " [-1.07123599 -0.33556146]\n",
      " [-0.21861959  0.87220363]\n",
      " [-0.88176568 -0.77742673]\n",
      " [ 2.05502415  0.40088067]\n",
      " [-1.07123599  0.78383058]\n",
      " [-1.07123599  0.43033836]\n",
      " [-0.69229537 -1.60224192]\n",
      " [ 0.06558588  0.78383058]\n",
      " [-1.2607063  -1.07200359]\n",
      " [-0.21861959  2.19779947]\n",
      " [-0.69229537 -0.04098461]\n",
      " [ 0.82346712 -0.60068062]\n",
      " [-1.16597115  0.48925373]\n",
      " [-0.88176568  0.31250762]\n",
      " [ 0.34979134  0.28304993]\n",
      " [ 0.34979134 -0.4533922 ]\n",
      " [ 1.39187806 -1.0425459 ]\n",
      " [ 0.82346712  1.10786512]\n",
      " [-0.31335475  0.16521919]\n",
      " [-1.35544146 -0.33556146]\n",
      " [-1.45017661 -0.63013831]\n",
      " [-1.07123599  0.57762678]\n",
      " [ 0.91820228  0.13576151]\n",
      " [-0.31335475  2.28617252]\n",
      " [-0.31335475 -0.48284988]\n",
      " [ 1.96028899  1.78539188]\n",
      " [ 0.72873197 -0.83634211]\n",
      " [ 0.25505619 -0.27664609]\n",
      " [ 0.34979134 -0.15881535]\n",
      " [ 1.10767259 -0.74796905]\n",
      " [-0.97650084  0.28304993]\n",
      " [-0.31335475 -0.12935766]\n",
      " [-1.82911724 -1.27820738]\n",
      " [ 0.25505619 -1.16037664]\n",
      " [-1.73438208  0.37142299]\n",
      " [ 0.91820228 -1.07200359]\n",
      " [ 0.34979134  1.1373228 ]\n",
      " [ 0.34979134  1.01949206]]\n"
     ]
    }
   ],
   "source": [
    "print(X_test)"
   ]
  },
  {
   "cell_type": "code",
   "execution_count": 30,
   "metadata": {},
   "outputs": [
    {
     "name": "stdout",
     "output_type": "stream",
     "text": [
      "[0 0 0 0 1 0 0 1 0 1 0 0 0 0 0 0 0 0 0 0 0 0 0 1 0 0 0 1 1 1 0 0 0 1 0 0 0\n",
      " 0 0 1 0 1 1 0 0 0 0 0 1 0 0 0 0 0 0 0 0 0 1 0 1 1 0 1 0 1 1 0 0 1 0 1 0 1\n",
      " 0 0 0 0 1 1 0 0 0 0 1 1 0 1 1 0 0 0 0 0 0 0 0 1 1 1]\n"
     ]
    }
   ],
   "source": [
    "print(Y_test)"
   ]
  },
  {
   "cell_type": "code",
   "execution_count": 32,
   "metadata": {},
   "outputs": [
    {
     "name": "stdout",
     "output_type": "stream",
     "text": [
      "[0 0 0 0 1 0 1 1 0 1 0 0 1 0 0 0 0 0 1 0 0 0 0 1 0 0 0 0 1 1 0 0 0 1 0 0 0\n",
      " 0 0 1 0 0 1 0 1 0 0 0 0 1 0 0 0 0 0 0 0 0 0 0 0 1 0 0 0 1 0 0 0 1 0 1 0 1\n",
      " 0 0 1 0 1 1 0 0 0 0 1 1 0 1 0 0 0 1 0 0 0 0 0 1 1 1]\n"
     ]
    }
   ],
   "source": [
    "print(Y_pred)"
   ]
  },
  {
   "cell_type": "code",
   "execution_count": null,
   "metadata": {},
   "outputs": [],
   "source": []
  }
 ],
 "metadata": {
  "kernelspec": {
   "display_name": "Python 3",
   "language": "python",
   "name": "python3"
  },
  "language_info": {
   "codemirror_mode": {
    "name": "ipython",
    "version": 3
   },
   "file_extension": ".py",
   "mimetype": "text/x-python",
   "name": "python",
   "nbconvert_exporter": "python",
   "pygments_lexer": "ipython3",
   "version": "3.6.5"
  }
 },
 "nbformat": 4,
 "nbformat_minor": 2
}
