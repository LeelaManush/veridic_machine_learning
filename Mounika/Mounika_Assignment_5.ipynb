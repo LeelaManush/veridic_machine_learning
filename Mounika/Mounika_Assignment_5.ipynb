{
 "cells": [
  {
   "cell_type": "markdown",
   "metadata": {},
   "source": [
    "# String operations"
   ]
  },
  {
   "cell_type": "code",
   "execution_count": 1,
   "metadata": {},
   "outputs": [],
   "source": [
    "import numpy as np\n"
   ]
  },
  {
   "cell_type": "markdown",
   "metadata": {},
   "source": [
    "1. Concatenate x1 and x2"
   ]
  },
  {
   "cell_type": "code",
   "execution_count": 8,
   "metadata": {},
   "outputs": [
    {
     "name": "stdout",
     "output_type": "stream",
     "text": [
      "['Hello World ' 'Say Something ']\n"
     ]
    }
   ],
   "source": [
    "x = np.array(['Hello ', 'Say '], dtype = \"str\")\n",
    "y = np.array(['World ', 'Something '], dtype = \"str\")\n",
    "\n",
    "z = np.char.add(x, y) \n",
    "print(z)"
   ]
  },
  {
   "cell_type": "markdown",
   "metadata": {},
   "source": [
    "2. Repeat x three time element-wise"
   ]
  },
  {
   "cell_type": "code",
   "execution_count": 9,
   "metadata": {},
   "outputs": [
    {
     "name": "stdout",
     "output_type": "stream",
     "text": [
      "['Hello Hello Hello ' 'Say Say Say ']\n"
     ]
    }
   ],
   "source": [
    "x = np.array(['Hello ', 'Say '])\n",
    "y = np.char.multiply(x, 3)\n",
    "print(y)"
   ]
  },
  {
   "cell_type": "markdown",
   "metadata": {},
   "source": [
    "3.Capitalize the first letter of x element-wise. \n",
    "3.1 Lowercase x element-wise.\n",
    "3.2 Uppercase x element-wise. \n",
    "3.3 Swapcase x element-wise. \n",
    "3.4 Title-case x element-wise."
   ]
  },
  {
   "cell_type": "code",
   "execution_count": 14,
   "metadata": {},
   "outputs": [
    {
     "name": "stdout",
     "output_type": "stream",
     "text": [
      "Capitilized =  ['Hello world' 'Say something']\n",
      "Lowercased =  ['hello world' 'say something']\n",
      "Uppercased =  ['HELLO WORLD' 'SAY SOMETHING']\n",
      "Swapcased =  ['hEllO wORld' 'SaY sOmeTHINg']\n",
      "Titlecased =  ['Hello World' 'Say Something']\n"
     ]
    }
   ],
   "source": [
    "x = np.array(['HeLLo WorLD', 'sAy SoMEthinG'], dtype =np.str)\n",
    "Capitilized = np.char.capitalize(x)\n",
    "Lowercased = np.char.lower(x)\n",
    "Uppercased = np.char.upper(x)\n",
    "Swapcased = np.char.swapcase(x)\n",
    "Titlecased = np.char.title(x)\n",
    "\n",
    "print(\"Capitilized = \", Capitilized)\n",
    "print(\"Lowercased = \", Lowercased)\n",
    "print(\"Uppercased = \", Uppercased)\n",
    "print(\"Swapcased = \", Swapcased)\n",
    "print(\"Titlecased = \", Titlecased)"
   ]
  },
  {
   "cell_type": "markdown",
   "metadata": {},
   "source": [
    "4.Make the length of each element 20 and the string centered / left-justified / right-justified with paddings of _."
   ]
  },
  {
   "cell_type": "code",
   "execution_count": 15,
   "metadata": {},
   "outputs": [
    {
     "name": "stdout",
     "output_type": "stream",
     "text": [
      "['____Hello World_____']\n",
      "['Hello World_________']\n",
      "['_________Hello World']\n"
     ]
    }
   ],
   "source": [
    "x = np.array(['Hello World'], dtype = np.str)\n",
    "centered = np.char.center(x,20,'_')\n",
    "Left_Justified = np.char.ljust(x,20,'_')\n",
    "Right_Justified = np.char.rjust(x,20,'_')\n",
    "print(centered)\n",
    "print(Left_Justified)\n",
    "print(Right_Justified)"
   ]
  },
  {
   "cell_type": "markdown",
   "metadata": {},
   "source": [
    "5.ncode x in cp500 and decode it again."
   ]
  },
  {
   "cell_type": "code",
   "execution_count": 19,
   "metadata": {},
   "outputs": [
    {
     "name": "stdout",
     "output_type": "stream",
     "text": [
      "Encode=  [b'\\xc8\\x85\\x93\\x93\\x96@\\xe6\\x96\\x99\\x93\\x84'\n",
      " b'\\xe2\\x81\\xa8@\\xe2\\x96\\x94\\x85\\xa3\\x88\\x89\\x95\\x87']\n",
      "Decode=  ['Hello World' 'Say Something']\n"
     ]
    }
   ],
   "source": [
    "x = np.array(['Hello World', 'Say Something'], dtype = np.str)\n",
    "encoded = np.char.encode(x, 'cp500')\n",
    "decoded = np.char.decode(encoded, 'cp500')\n",
    "\n",
    "print(\"Encode= \", encoded)\n",
    "print(\"Decode= \", decoded)"
   ]
  },
  {
   "cell_type": "markdown",
   "metadata": {},
   "source": [
    "6.Insert a space between characters of x."
   ]
  },
  {
   "cell_type": "code",
   "execution_count": 20,
   "metadata": {},
   "outputs": [
    {
     "name": "stdout",
     "output_type": "stream",
     "text": [
      "['H e l l o   W o r l d' 'S a y   S o m e t h i n']\n"
     ]
    }
   ],
   "source": [
    "x = np.array(['Hello World', 'Say Somethin'], dtype = np.str)\n",
    "spaced = np.char.join(' ',x)\n",
    "print(spaced)"
   ]
  },
  {
   "cell_type": "markdown",
   "metadata": {},
   "source": [
    "7.Remove the leading and trailing whitespaces of x element-wise. \n",
    "7.1. Remove the leading whitespaces of x element-wise.\n",
    "7.2. Remove the trailing whitespaces of x element-wise."
   ]
  },
  {
   "cell_type": "code",
   "execution_count": 21,
   "metadata": {},
   "outputs": [
    {
     "name": "stdout",
     "output_type": "stream",
     "text": [
      "['Hello world' 'say something']\n",
      "['Hello world   ' 'say something\\n']\n",
      "['   Hello world' '\\tsay something']\n"
     ]
    }
   ],
   "source": [
    "x = np.array(['   Hello world   ', '\\tsay something\\n'], dtype = np.str)\n",
    "stripped = np.char.strip(x)\n",
    "leftstripped = np.char.lstrip(x)\n",
    "rightstripped = np.char.rstrip(x)\n",
    "print(stripped)\n",
    "print(leftstripped)\n",
    "print(rightstripped)"
   ]
  },
  {
   "cell_type": "markdown",
   "metadata": {},
   "source": [
    "8.Split the element of x with spaces."
   ]
  },
  {
   "cell_type": "code",
   "execution_count": 22,
   "metadata": {},
   "outputs": [
    {
     "name": "stdout",
     "output_type": "stream",
     "text": [
      "[list(['Hello', 'World']) list(['Say', 'Something'])]\n"
     ]
    }
   ],
   "source": [
    "x = np.array(['Hello World', 'Say Something'], dtype = np.str)\n",
    "split = np.char.split(x, ' ')\n",
    "print(split)"
   ]
  },
  {
   "cell_type": "markdown",
   "metadata": {},
   "source": [
    "9.Split the element of x to multiple lines"
   ]
  },
  {
   "cell_type": "code",
   "execution_count": 23,
   "metadata": {},
   "outputs": [
    {
     "name": "stdout",
     "output_type": "stream",
     "text": [
      "[list(['Hello World', ' Say Something'])]\n"
     ]
    }
   ],
   "source": [
    "x = np.array(['Hello World\\n Say Something'])\n",
    "y = np.char.splitlines(x)\n",
    "print(y)"
   ]
  },
  {
   "cell_type": "markdown",
   "metadata": {},
   "source": [
    "10.Make x a numeric string of 4 digits with zeros on its left."
   ]
  },
  {
   "cell_type": "code",
   "execution_count": 24,
   "metadata": {},
   "outputs": [
    {
     "name": "stdout",
     "output_type": "stream",
     "text": [
      "0010\n"
     ]
    }
   ],
   "source": [
    "x = np.array((10), str)\n",
    "y = np.char.zfill(x,4)\n",
    "print(y)"
   ]
  },
  {
   "cell_type": "markdown",
   "metadata": {},
   "source": [
    "11.Replace \"John\" with \"Jim\" in x."
   ]
  },
  {
   "cell_type": "code",
   "execution_count": 25,
   "metadata": {},
   "outputs": [
    {
     "name": "stdout",
     "output_type": "stream",
     "text": [
      "I am Jim\n"
     ]
    }
   ],
   "source": [
    "x = np.array(('I am John'), dtype = str)\n",
    "y = np.char.replace(x, 'John', 'Jim')\n",
    "print(y)"
   ]
  },
  {
   "cell_type": "markdown",
   "metadata": {},
   "source": [
    "12.Return x1 == x2, element-wise."
   ]
  },
  {
   "cell_type": "code",
   "execution_count": 26,
   "metadata": {},
   "outputs": [
    {
     "name": "stdout",
     "output_type": "stream",
     "text": [
      "[ True  True False]\n"
     ]
    }
   ],
   "source": [
    "x1 = np.array(['I', 'am', 'John'], dtype=np.str)\n",
    "x2 = np.array(['I', 'am', 'Jim'], dtype=np.str)\n",
    "\n",
    "y = np.char.equal(x1,x2)\n",
    "print(y)"
   ]
  },
  {
   "cell_type": "markdown",
   "metadata": {},
   "source": [
    "13.Return x1 != x2, element-wise."
   ]
  },
  {
   "cell_type": "code",
   "execution_count": 27,
   "metadata": {},
   "outputs": [
    {
     "name": "stdout",
     "output_type": "stream",
     "text": [
      "[False False  True]\n"
     ]
    }
   ],
   "source": [
    "x1 = np.array(['I', 'am', 'John'], dtype=np.str)\n",
    "x2 = np.array(['I', 'am', 'Jim'], dtype=np.str)\n",
    "\n",
    "y = np.char.not_equal(x1,x2)\n",
    "print(y)"
   ]
  },
  {
   "cell_type": "markdown",
   "metadata": {},
   "source": [
    "14.Count the number of \"l\" in x, element-wise."
   ]
  },
  {
   "cell_type": "code",
   "execution_count": 28,
   "metadata": {},
   "outputs": [
    {
     "name": "stdout",
     "output_type": "stream",
     "text": [
      "[6]\n"
     ]
    }
   ],
   "source": [
    "x = np.array(['Hello World lilly is here'], dtype = np.str)\n",
    "y = np.char.count(x, 'l')\n",
    "print(y)"
   ]
  },
  {
   "cell_type": "markdown",
   "metadata": {},
   "source": [
    "15.Count the lowest index of \"l\" in x, element-wise."
   ]
  },
  {
   "cell_type": "code",
   "execution_count": 29,
   "metadata": {},
   "outputs": [
    {
     "name": "stdout",
     "output_type": "stream",
     "text": [
      "[2]\n"
     ]
    }
   ],
   "source": [
    "x = np.array(['Hello World lilly is here'], dtype = np.str)\n",
    "y = np.char.find(x, 'l')\n",
    "print(y)"
   ]
  },
  {
   "cell_type": "markdown",
   "metadata": {},
   "source": [
    "16.Check if each element of x is composed of digits only.\n",
    "16.1 Check if each element of x is composed of lower case letters only. \n",
    "16.2 Check if each element of x is composed of upper case letters only."
   ]
  },
  {
   "cell_type": "code",
   "execution_count": 30,
   "metadata": {},
   "outputs": [
    {
     "name": "stdout",
     "output_type": "stream",
     "text": [
      "[False]\n",
      "[False]\n",
      "[False]\n"
     ]
    }
   ],
   "source": [
    "x = np.array(['Hello World lilly is here and her roll number is 123'], dtype = np.str)\n",
    "digit_only = np.char.isdigit(x)\n",
    "lower_case_only = np.char.islower(x)\n",
    "upper_case_only = np.char.isupper(x)\n",
    "\n",
    "print(digit_only)\n",
    "print(lower_case_only)\n",
    "print(upper_case_only)"
   ]
  },
  {
   "cell_type": "markdown",
   "metadata": {},
   "source": [
    "17.Check if each element of x starts with \"hi\"."
   ]
  },
  {
   "cell_type": "code",
   "execution_count": 31,
   "metadata": {},
   "outputs": [
    {
     "name": "stdout",
     "output_type": "stream",
     "text": [
      "[False  True  True False  True]\n"
     ]
    }
   ],
   "source": [
    "x = np.array(['he', 'his', 'him', 'her', 'hi'], dtype=np.str)\n",
    "y = np.char.startswith(x, 'hi')\n",
    "print(y)"
   ]
  },
  {
   "cell_type": "code",
   "execution_count": null,
   "metadata": {},
   "outputs": [],
   "source": []
  }
 ],
 "metadata": {
  "kernelspec": {
   "display_name": "Python 3",
   "language": "python",
   "name": "python3"
  },
  "language_info": {
   "codemirror_mode": {
    "name": "ipython",
    "version": 3
   },
   "file_extension": ".py",
   "mimetype": "text/x-python",
   "name": "python",
   "nbconvert_exporter": "python",
   "pygments_lexer": "ipython3",
   "version": "3.6.5"
  }
 },
 "nbformat": 4,
 "nbformat_minor": 2
}
