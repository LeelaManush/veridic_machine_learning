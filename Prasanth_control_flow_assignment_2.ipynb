{
 "cells": [
  {
   "cell_type": "markdown",
   "metadata": {},
   "source": [
    "Question-1 :\n",
    "Given an integer,n perform the following conditional actions:  Take the input from keyboard using input() function\n",
    "\n",
    "If n is odd, print Weird\n",
    "If n is even and in the inclusive range of 2 to 5, print Not Weird\n",
    "If n is even and in the inclusive range of 6 to 20, print Weird\n",
    "If n is even and greater than 20, print Not Weird."
   ]
  },
  {
   "cell_type": "code",
   "execution_count": 2,
   "metadata": {},
   "outputs": [
    {
     "name": "stdout",
     "output_type": "stream",
     "text": [
      "Enter a number 5\n",
      "Weird\n"
     ]
    }
   ],
   "source": [
    "while True:\n",
    "    try:\n",
    "        n = int (input(\"Enter a number \"))\n",
    "\n",
    "        if (n <=0):\n",
    "            print(\"Enter a number greater than 0\")\n",
    "            \n",
    "        elif (n % 2) != 0:\n",
    "            print (\"Weird\")\n",
    "\n",
    "        elif (n % 2) == 0:\n",
    "            if n >= 2 and n <= 5 :\n",
    "                print(\"Not Weird\")\n",
    "            elif n >= 6 and n <= 20 :\n",
    "                print(\"Weird\")\n",
    "            elif n > 20 :\n",
    "                print(\"Not Weird\")\n",
    "        break\n",
    "\n",
    "    except:\n",
    "        print (\"please enter a number\")\n",
    "\n"
   ]
  },
  {
   "cell_type": "markdown",
   "metadata": {},
   "source": [
    "Question-2: \n",
    "\n",
    "Assign 10 to the variable x and 25 to the variable y. In the same cell, create 2 conditional statements. Let the first one print \"Both conditions are correct\" if x is greater then 3 and y is greater than 13. Let the second one print \"At least one of the conditions is false\" if x is less than or equal to 3 and y is less than or equal to 13. Change the values assigned to x and y and re-run the cell to verify your code still works.\n"
   ]
  },
  {
   "cell_type": "code",
   "execution_count": 3,
   "metadata": {},
   "outputs": [
    {
     "name": "stdout",
     "output_type": "stream",
     "text": [
      "Both conditions are correct\n",
      "Both conditions are correct\n",
      "Both conditions are correct\n",
      "At least one of the conditions is false\n",
      "At least one of the conditions is false\n"
     ]
    }
   ],
   "source": [
    "x=10\n",
    "y=25\n",
    "count=0\n",
    "\n",
    "while count < 5:\n",
    "    if x > 3 and y >13 :\n",
    "        print(\"Both conditions are correct\")\n",
    "    elif x <= 3 or y <=13:\n",
    "        print(\"At least one of the conditions is false\")\n",
    "    \n",
    "    x-=3      #varying x and y values\n",
    "    y-=3\n",
    "    count+=1"
   ]
  },
  {
   "cell_type": "markdown",
   "metadata": {},
   "source": [
    "Question - 3:\n",
    "\n",
    "Print all elements of a list using 'for' loop\n",
    "list = ['23', 'name', 'age', 'veridic', 'python', 'data']\n"
   ]
  },
  {
   "cell_type": "code",
   "execution_count": null,
   "metadata": {},
   "outputs": [],
   "source": [
    "our_list = ['23', 'name', 'age', 'veridic', 'python', 'data']\n",
    "\n",
    "for item in our_list:\n",
    "    print(item)"
   ]
  },
  {
   "cell_type": "markdown",
   "metadata": {},
   "source": [
    "Queestion - 4:\n",
    "\n",
    "Take inputs from user to make a list. Again take one input from user and search it in the list and delete that element, if found. Iterate over list using for loop\n",
    "\n"
   ]
  },
  {
   "cell_type": "code",
   "execution_count": 4,
   "metadata": {},
   "outputs": [
    {
     "name": "stdout",
     "output_type": "stream",
     "text": [
      "enter the elements of the list separated by spaces \n",
      "1 2 3 4 5\n",
      "Enter the element you wish to delete from the list 3\n",
      "[1, 2, 4, 5]\n"
     ]
    }
   ],
   "source": [
    "print(\"enter the elements of the list separated by spaces \")\n",
    "new_list = [int(x) for x in input().split()]\n",
    "\n",
    "del_elem  = int(input(\"Enter the element you wish to delete from the list \"))\n",
    "\n",
    "if (del_elem in new_list):\n",
    "    new_list.remove(del_elem)\n",
    "    \n",
    "print(new_list)\n",
    "\n"
   ]
  },
  {
   "cell_type": "markdown",
   "metadata": {},
   "source": [
    "Question - 5:\n",
    "\n",
    "Print multiplication table of 14?  print it as 14 x 1 = 14 and continue till 20 times"
   ]
  },
  {
   "cell_type": "code",
   "execution_count": 5,
   "metadata": {},
   "outputs": [
    {
     "name": "stdout",
     "output_type": "stream",
     "text": [
      "14 x  1 = 14\n",
      "14 x  2 = 28\n",
      "14 x  3 = 42\n",
      "14 x  4 = 56\n",
      "14 x  5 = 70\n",
      "14 x  6 = 84\n",
      "14 x  7 = 98\n",
      "14 x  8 = 112\n",
      "14 x  9 = 126\n",
      "14 x  10 = 140\n",
      "14 x  11 = 154\n",
      "14 x  12 = 168\n",
      "14 x  13 = 182\n",
      "14 x  14 = 196\n",
      "14 x  15 = 210\n",
      "14 x  16 = 224\n",
      "14 x  17 = 238\n",
      "14 x  18 = 252\n",
      "14 x  19 = 266\n",
      "14 x  20 = 280\n"
     ]
    }
   ],
   "source": [
    "for i in range(1,21):\n",
    "    print(\"14 x \",i,\"=\",14*i)"
   ]
  },
  {
   "cell_type": "markdown",
   "metadata": {},
   "source": [
    "Question - 6:\n",
    "\n",
    "You are given with a list of integer elements. Make a new list which will store square of elements of previous list. \n",
    "list = [2, 4, 5, 6, 7, 8, 19, 34, 45, 56, 12, 65, 88, 92, 100]"
   ]
  },
  {
   "cell_type": "code",
   "execution_count": null,
   "metadata": {},
   "outputs": [],
   "source": [
    "Root_List = [2, 4, 5, 6, 7, 8, 19, 34, 45, 56, 12, 65, 88, 92, 100]\n",
    "Squares_List=[]\n",
    "for root in Root_List:\n",
    "    Squares_List.append(root*root)\n",
    "print(Squares_List)"
   ]
  },
  {
   "cell_type": "markdown",
   "metadata": {},
   "source": [
    "Question - 7: \n",
    "\n",
    "\n",
    "tup = (1, 3, 5, 6, 94, 100, 7)\n",
    "# print all prime numbers only from tuple\n",
    "\n",
    "\n"
   ]
  },
  {
   "cell_type": "code",
   "execution_count": 1,
   "metadata": {},
   "outputs": [
    {
     "name": "stdout",
     "output_type": "stream",
     "text": [
      "3\n",
      "5\n",
      "7\n"
     ]
    }
   ],
   "source": [
    "import sympy\n",
    "tup = (1, 3, 5, 6, 94, 100, 7)\n",
    "\n",
    "for item in tup:\n",
    "    if sympy.isprime(item) == True:\n",
    "        print(item)"
   ]
  },
  {
   "cell_type": "markdown",
   "metadata": {},
   "source": [
    "Question - 8:\n",
    "\n",
    "Create a login system using control flow statements. \n",
    "Requirements: when you execute the code, first prompt must be \"enter the username\". Username must start with \"VER\" key word, must contain 8 characters.\n",
    "\n",
    "password must be combination of letters and numbers, atleast one letter must be caps and accept specials characters like !, @ ,# etc if needed.\n",
    "\n",
    "If all conditions are satisified print login success!\n"
   ]
  },
  {
   "cell_type": "code",
   "execution_count": 11,
   "metadata": {},
   "outputs": [
    {
     "name": "stdout",
     "output_type": "stream",
     "text": [
      "Enter your username: VERIDICSOL\n",
      "Please enter your passwordDataSc04@\n",
      "Password is correct - Logging you in\n"
     ]
    }
   ],
   "source": [
    "while True:\n",
    "    User_name = input(\"Enter your username: \")\n",
    "    Pwd_attempt=0\n",
    "    \n",
    "    if len(User_name) < 8 or User_name[0:3] !=\"VER\":\n",
    "        print(\"Username not recognized - Please re-enter username\")\n",
    "        continue\n",
    "        \n",
    "    while (Pwd_attempt < 3):   # Max of 3- attempts for entering password\n",
    "        \n",
    "        Password = input(\"Please enter your password\")\n",
    "        if ( (any(char.isupper() for char in Password)) and (any(char.isalpha() for char in Password)) \n",
    "            and (any(char.isdigit() for char in Password)) and (any( (ord(char) in (33,35,64)) for char in Password ))):\n",
    "\n",
    "            print(\"Password is correct - Logging you in\")        \n",
    "\n",
    "            break\n",
    "        else:\n",
    "            \n",
    "            if Pwd_attempt <2:\n",
    "                Pwd_attempt+=1\n",
    "                print(\"Error - Password is incorrect\")\n",
    "                print(\"No. of Failed attempts: \",Pwd_attempt)\n",
    "                print(\"Your account will be locked after \",3-Pwd_attempt,\" wrong password attempts\")\n",
    "            else:\n",
    "                print(\"Your account has been locked.\")\n",
    "                break\n",
    "    break  "
   ]
  },
  {
   "cell_type": "markdown",
   "metadata": {},
   "source": [
    "Question- 9:\n",
    "\n",
    "Program code for rock paper scissors game! without using any imports. you must be able to do it on your own!"
   ]
  },
  {
   "cell_type": "code",
   "execution_count": 12,
   "metadata": {},
   "outputs": [
    {
     "name": "stdout",
     "output_type": "stream",
     "text": [
      "Please enter the number of rounds5\n",
      "please enter your move (1 or 2 or 3) 1-rock, 2-paper, 3-scissors1\n",
      "Computer wins this round\n",
      "please enter your move (1 or 2 or 3) 1-rock, 2-paper, 3-scissors2\n",
      "Player wins this round\n",
      "please enter your move (1 or 2 or 3) 1-rock, 2-paper, 3-scissors1\n",
      "Computer wins this round\n",
      "please enter your move (1 or 2 or 3) 1-rock, 2-paper, 3-scissors3\n",
      "Computer wins this round\n",
      "please enter your move (1 or 2 or 3) 1-rock, 2-paper, 3-scissors1\n",
      "Player wins this round\n",
      "Computer wins, Computer Score = 3 Player Score =  2\n"
     ]
    }
   ],
   "source": [
    "Moves =['Rock','Paper','Scissors']\n",
    "\n",
    "Game_rounds = int (input(\"Please enter the number of rounds\"))\n",
    "Game_number = 0\n",
    "Computer_pts = 0\n",
    "Player_pts = 0\n",
    "\n",
    "'''NOT A RANDOM MOVE GENERATOR'''\n",
    "# Generate a list of moves according to the number of rounds. Uses the digits of pi.\n",
    "def get_move_list(Game_rounds):\n",
    "    \n",
    "    number_of_games = '.'+str(Game_rounds-1)+'f' \n",
    "    rand_move = format(22/7, number_of_games)\n",
    "    rand_move = ''.join(c for c in rand_move if c != '.')    \n",
    "    return rand_move\n",
    "\n",
    "Computer_move_list = get_move_list(Game_rounds) # Generating the move list\n",
    "\n",
    "def get_computer_move (Game_number):    # Assign moves according to the pi digit\n",
    "    \n",
    "    move = int(Computer_move_list [Game_number])    \n",
    "    if move < 3:\n",
    "        move =0\n",
    "    if move >=3 and move < 6:\n",
    "        move =1\n",
    "    if move >=6 and move <= 9:\n",
    "        move =2\n",
    "    \n",
    "    return (move)\n",
    "\n",
    "while Game_rounds > 0:   # Playing untill the end of all the rounds\n",
    "    \n",
    "    try:\n",
    "        Player_move = Moves[int (input(\"please enter your move (1 or 2 or 3) 1-rock, 2-paper, 3-scissors\"))-1]\n",
    "\n",
    "        Computer_move = Moves[get_computer_move (Game_number)]\n",
    "\n",
    "        if Player_move == \"Rock\" and Computer_move == \"Paper\":\n",
    "            print('Computer wins this round')\n",
    "            Computer_pts +=1\n",
    "\n",
    "        elif Player_move == \"Paper\" and Computer_move == \"Scissors\":\n",
    "            print('Computer wins this round')\n",
    "            Computer_pts +=1\n",
    "\n",
    "        elif Player_move == \"Scissors\" and Computer_move == \"Rock\":\n",
    "            print('Computer wins this round')\n",
    "            Computer_pts +=1\n",
    "\n",
    "        if Player_move == \"Rock\" and Computer_move == \"Scissors\":\n",
    "            print('Player wins this round')\n",
    "            Player_pts +=1\n",
    "            Game_rounds-=1\n",
    "        elif Player_move == \"Paper\" and Computer_move == \"Rock\":\n",
    "            print('Player wins this round')\n",
    "            Player_pts +=1\n",
    "\n",
    "        elif Player_move == \"Scissors\" and Computer_move == \"Paper\":\n",
    "            print('Player wins this round')\n",
    "            Player_pts +=1\n",
    "\n",
    "        elif Player_move == Computer_move:\n",
    "            print('Draw')\n",
    "\n",
    "        Game_rounds -=1\n",
    "        Game_number +=1\n",
    "    \n",
    "    except:\n",
    "        \n",
    "        print(\"PLEASE ENTER ONLY 1 or 2 or 3\")  \n",
    "    \n",
    "        \n",
    "    \n",
    "# Computing the Results\n",
    "\n",
    "if Player_pts > Computer_pts:\n",
    "    print(\"Player wins, Player Score =\", Player_pts, \"Computer Score = \",Computer_pts)\n",
    "elif Computer_pts > Player_pts:\n",
    "    print(\"Computer wins, Computer Score =\", Computer_pts, \"Player Score = \",Player_pts)\n",
    "else:\n",
    "    print(\"Match Draw - Both Player and Computer have equal scores\")"
   ]
  },
  {
   "cell_type": "markdown",
   "metadata": {},
   "source": []
  },
  {
   "cell_type": "code",
   "execution_count": null,
   "metadata": {},
   "outputs": [],
   "source": []
  }
 ],
 "metadata": {
  "kernelspec": {
   "display_name": "Python 3",
   "language": "python",
   "name": "python3"
  },
  "language_info": {
   "codemirror_mode": {
    "name": "ipython",
    "version": 3
   },
   "file_extension": ".py",
   "mimetype": "text/x-python",
   "name": "python",
   "nbconvert_exporter": "python",
   "pygments_lexer": "ipython3",
   "version": "3.6.7"
  }
 },
 "nbformat": 4,
 "nbformat_minor": 2
}
