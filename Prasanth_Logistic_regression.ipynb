{
 "cells": [
  {
   "cell_type": "code",
   "execution_count": 2,
   "metadata": {},
   "outputs": [
    {
     "data": {
      "image/png": "[encoded data removed]",
      "text/plain": [
       "<matplotlib.figure.Figure at 0x6ac9c1128>"
      ]
     },
     "metadata": {
      "needs_background": "light"
     },
     "output_type": "display_data"
    }
   ],
   "source": [
    "import pandas as pd\n",
    "import numpy as np\n",
    "from sklearn.model_selection import train_test_split\n",
    "from sklearn.linear_model import LogisticRegression\n",
    "from sklearn.preprocessing import StandardScaler\n",
    "from sklearn.metrics import confusion_matrix\n",
    "import matplotlib.pyplot as plt\n",
    "%matplotlib inline\n",
    "\n",
    "#Reading the data\n",
    "Soc_net_data=pd.read_csv('Social_Network_Ads.csv')\n",
    "\n",
    "#changing categorical to numeric values\n",
    "# Soc_net_data.Gender[Soc_net_data.Gender == 'Male'] =1\n",
    "# Soc_net_data.Gender[Soc_net_data.Gender == 'Female'] =2\n",
    "\n",
    "#Splitting the Data into test and train sets\n",
    "X_train, X_test, y_train, y_test = train_test_split(Soc_net_data.iloc[:,2:-1], Soc_net_data.iloc[:,-1], test_size=0.2, random_state=20)\n",
    "\n",
    "#Normalizing the data - Z score normalization\n",
    "Std_scaler = StandardScaler()\n",
    "X_train = Std_scaler.fit_transform(X_train)\n",
    "X_test = Std_scaler.transform(X_test)\n",
    "\n",
    "#Fitting the function\n",
    "Logistic_R = LogisticRegression()\n",
    "Logistic_R.fit(X_train,y_train)\n",
    "\n",
    "#Predicting the classes\n",
    "Prediction = Logistic_R.predict(X_test)\n",
    "\n",
    "#Ploting the results\n",
    "# Source : https://tatwan.github.io/How-To-Plot-A-Confusion-Matrix-In-Python/\n",
    "def plot_simple_confusion_matrix(Actual_class,Predicted_class):\n",
    "    \n",
    "    cm=confusion_matrix(Actual_class,Predicted_class)\n",
    "    plt.imshow(cm, cmap=plt.cm.winter)\n",
    "    classNames = ['Did not Buy','Bought']\n",
    "    plt.title('Confusion Matrix - Test Data')\n",
    "    plt.ylabel('True label')\n",
    "    plt.xlabel('Predicted label')\n",
    "    tick_marks = np.arange(len(classNames))\n",
    "    plt.xticks(tick_marks, classNames)\n",
    "    plt.yticks(tick_marks, classNames)\n",
    "    s = [['TN','FP'], ['FN', 'TP']]\n",
    "    for i in range(2):\n",
    "        for j in range(2):\n",
    "            plt.text(j,i, str(s[i][j])+\" = \"+str(cm[i][j]))\n",
    "    plt.show()\n",
    "\n",
    "plot_simple_confusion_matrix(y_test,Prediction)"
   ]
  },
  {
   "cell_type": "code",
   "execution_count": null,
   "metadata": {},
   "outputs": [],
   "source": []
  }
 ],
 "metadata": {
  "kernelspec": {
   "display_name": "Python 3",
   "language": "python",
   "name": "python3"
  },
  "language_info": {
   "codemirror_mode": {
    "name": "ipython",
    "version": 3
   },
   "file_extension": ".py",
   "mimetype": "text/x-python",
   "name": "python",
   "nbconvert_exporter": "python",
   "pygments_lexer": "ipython3",
   "version": "3.6.7"
  }
 },
 "nbformat": 4,
 "nbformat_minor": 2
}
