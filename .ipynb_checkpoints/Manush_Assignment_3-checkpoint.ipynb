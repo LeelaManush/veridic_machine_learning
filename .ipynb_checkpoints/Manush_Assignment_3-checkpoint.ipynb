{
 "cells": [
  {
   "cell_type": "markdown",
   "metadata": {},
   "source": [
    "1. Write a program to find the given number is a Strong number or not. (use functions)\n"
   ]
  },
  {
   "cell_type": "code",
   "execution_count": null,
   "metadata": {},
   "outputs": [],
   "source": [
    "def fact(number):\n",
    "    if number == 1:\n",
    "        return 1\n",
    "    else:\n",
    "        return num * fact(number - 1)\n",
    "def is_strong(num):\n",
    "    temp = num\n",
    "    rem = 0\n",
    "    sum = 0\n",
    "    while temp != 0:\n",
    "        rem = temp % 10\n",
    "        sum = sum + fact(rem)\n",
    "        temp = temp//10\n",
    "        \n",
    "    if num == sum:\n",
    "        return True\n",
    "    else:\n",
    "        return False\n",
    "\n",
    "n = int(input(\"Enter a number: \"))\n",
    "res = is_strong(n)\n",
    "if res == True:\n",
    "    print(n,'is a strong number')\n",
    "    else:\n",
    "    print(n, 'is not a strong number')"
   ]
  },
  {
   "cell_type": "code",
   "execution_count": null,
   "metadata": {},
   "outputs": [],
   "source": [
    "def fact(number):\n",
    "    if number == 1:\n",
    "        return 1\n",
    "    else:\n",
    "        return number * fact(number-1)\n",
    "\n",
    "def is_strong(num):\n",
    "    temp = num\n",
    "    rem = 0\n",
    "    sum = 0\n",
    "    while temp != 0:\n",
    "        rem = temp%10\n",
    "        sum = sum+fact(rem)\n",
    "        temp = temp//10\n",
    "    \n",
    "    if num == sum:\n",
    "        return True\n",
    "    else:\n",
    "        return False\n",
    "\n",
    "\n",
    "        \n",
    "n = int(input('enter a number: '))\n",
    "res = is_strong(n)   \n",
    "if res == True:\n",
    "    print(n, 'is a strong number.')\n",
    "else:\n",
    "    print(n, 'is not a strong number')"
   ]
  },
  {
   "cell_type": "code",
   "execution_count": null,
   "metadata": {},
   "outputs": [],
   "source": []
  }
 ],
 "metadata": {
  "kernelspec": {
   "display_name": "Python 3",
   "language": "python",
   "name": "python3"
  },
  "language_info": {
   "codemirror_mode": {
    "name": "ipython",
    "version": 3
   },
   "file_extension": ".py",
   "mimetype": "text/x-python",
   "name": "python",
   "nbconvert_exporter": "python",
   "pygments_lexer": "ipython3",
   "version": "3.7.1"
  }
 },
 "nbformat": 4,
 "nbformat_minor": 2
}
