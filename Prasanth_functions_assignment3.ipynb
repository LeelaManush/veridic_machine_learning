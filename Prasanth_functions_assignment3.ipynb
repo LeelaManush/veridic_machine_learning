{
 "cells": [
  {
   "cell_type": "markdown",
   "metadata": {},
   "source": [
    "1. Write a program to find the given number is a Strong number or not. (use functions)"
   ]
  },
  {
   "cell_type": "code",
   "execution_count": 15,
   "metadata": {},
   "outputs": [
    {
     "name": "stdout",
     "output_type": "stream",
     "text": [
      "Please enter a number145\n",
      "The given number is a Strong number\n"
     ]
    }
   ],
   "source": [
    "number = input(\"Please enter a number\")\n",
    "\n",
    "def factorial(num):\n",
    "    if num==1:\n",
    "        return 1\n",
    "    else:\n",
    "        return num*factorial(num-1)\n",
    "    \n",
    "def add_factorial(num):\n",
    "    fact_addition=0\n",
    "    for i in range(0, len(num)):\n",
    "        fact_addition = fact_addition+ factorial (int(num[i]))\n",
    "    \n",
    "    return fact_addition\n",
    "\n",
    "factorial_addition = add_factorial(number)\n",
    "\n",
    "if factorial_addition == int(number):\n",
    "    print(\"The given number is a Strong number\")\n",
    "else:\n",
    "    print(\"The given number is not a Strong number\")\n",
    "    \n",
    "    \n",
    "\n",
    "\n"
   ]
  },
  {
   "cell_type": "markdown",
   "metadata": {},
   "source": [
    "# 2. Given an array of integers, find the sum of its elements."
   ]
  },
  {
   "cell_type": "code",
   "execution_count": 17,
   "metadata": {},
   "outputs": [
    {
     "name": "stdout",
     "output_type": "stream",
     "text": [
      "Enter array elements separated by spaces\n",
      "10 20 30 40\n",
      "The Sum is 100\n"
     ]
    }
   ],
   "source": [
    "print(\"Enter array elements separated by spaces\")\n",
    "My_array = [int(x) for x in input().split()]\n",
    "\n",
    "def add_array(array, length):\n",
    "    \n",
    "    if length ==0:\n",
    "        return 0\n",
    "    else:\n",
    "        return array[length-1] + add_array(array,length-1)\n",
    "    \n",
    "\n",
    "array_sum = add_array(My_array, len(My_array))\n",
    "print(\"The Sum is\",array_sum)\n"
   ]
  },
  {
   "cell_type": "markdown",
   "metadata": {},
   "source": [
    "3. Consider a staircase of size n=4:\n",
    "   #\n",
    "  ##\n",
    " ###\n",
    "####\n",
    "Observe that its base and height are both equal to n, and the image is drawn using # symbols and spaces. The last line is not preceded by any spaces.\n",
    "Write a program that prints a staircase of size n."
   ]
  },
  {
   "cell_type": "code",
   "execution_count": 18,
   "metadata": {},
   "outputs": [
    {
     "name": "stdout",
     "output_type": "stream",
     "text": [
      "Entered desired n vale6\n",
      "     #\n",
      "    ##\n",
      "   ###\n",
      "  ####\n",
      " #####\n",
      "######\n"
     ]
    }
   ],
   "source": [
    "n= int(input(\"Entered desired n vale\"))\n",
    "N=n  # creating a copy \n",
    "\n",
    "while n>0:\n",
    "    my_str=''\n",
    "    \n",
    "    for i in range(0,n-1):         \n",
    "        my_str = my_str + \" \"\n",
    "        \n",
    "    for k in range(n-1,N):        \n",
    "        my_str=my_str+\"#\"\n",
    "        \n",
    "    n=n-1\n",
    "    print(my_str)\n",
    "    "
   ]
  },
  {
   "cell_type": "markdown",
   "metadata": {},
   "source": [
    "4. Given five positive integers, find the minimum and maximum values that can be calculated by summing exactly four of the five integers. Then print the respective minimum and maximum values as a single line of two space-separated long integers."
   ]
  },
  {
   "cell_type": "code",
   "execution_count": 19,
   "metadata": {},
   "outputs": [
    {
     "name": "stdout",
     "output_type": "stream",
     "text": [
      "Maximum Value is = 154\n",
      "Minimum Value is = 117\n"
     ]
    }
   ],
   "source": [
    "Integer_list = [23,42,56,19,33]\n",
    "\n",
    "Integer_list.sort() # sorting in ascending order\n",
    "\n",
    "Minimum_val = sum(Integer_list[0:len(Integer_list)-1])\n",
    "\n",
    "Maximum_val = sum(Integer_list[1: len(Integer_list)])\n",
    "\n",
    "print(\"Maximum Value is =\", Maximum_val )\n",
    "print(\"Minimum Value is =\", Minimum_val )"
   ]
  },
  {
   "cell_type": "markdown",
   "metadata": {},
   "source": [
    "5. Write a function named collatz() that has one parameter named number. If number is even, then collatz() should print number // 2 and return this value. If number is odd, then collatz() should print and return 3 * number + 1. Then write a program that lets the user type in an integer and that keeps calling collatz() on that number until the function returns the value 1. (Amazingly enough, this sequence actually works for any integer—sooner or later, using this sequence, you’ll arrive at 1! Even mathematicians aren’t sure why. Your program is exploring what’s called the Collatz sequence, sometimes called “the simplest impossible math problem.”) Remember to convert the return value from input() to an integer with the int() function; otherwise, it will be a string value."
   ]
  },
  {
   "cell_type": "code",
   "execution_count": 20,
   "metadata": {},
   "outputs": [
    {
     "name": "stdout",
     "output_type": "stream",
     "text": [
      "Please enter a number: 100\n",
      "Collatz sequence is [100, 50, 25, 76, 38, 19, 58, 29, 88, 44, 22, 11, 34, 17, 52, 26, 13, 40, 20, 10, 5, 16, 8, 4, 2, 1]\n",
      "Value of 1 reached after  25  iterations\n"
     ]
    }
   ],
   "source": [
    "number = int(input(\"Please enter a number: \"))\n",
    "Numbers=[]\n",
    "Numbers.append(number)\n",
    "count=0\n",
    "\n",
    "def collatz(number):\n",
    "    \n",
    "    if (number % 2) == 0:\n",
    "        number = number //2\n",
    "    else:\n",
    "        number = (number * 3) + 1\n",
    "    return number\n",
    "\n",
    "while (number !=1):    \n",
    "    number = collatz(number)\n",
    "    Numbers.append(number)    \n",
    "    count+=1\n",
    "    \n",
    "print(\"Collatz sequence is\", Numbers)\n",
    "print(\"Value of 1 reached after \",count,\" iterations\" )"
   ]
  },
  {
   "cell_type": "markdown",
   "metadata": {},
   "source": [
    "6. Write a program to find given number is palindrome or not.\n"
   ]
  },
  {
   "cell_type": "code",
   "execution_count": 21,
   "metadata": {},
   "outputs": [
    {
     "name": "stdout",
     "output_type": "stream",
     "text": [
      "Enter a number 1441\n",
      "The given number is a palindrome\n"
     ]
    }
   ],
   "source": [
    "Number = int(input(\"Enter a number \"))\n",
    "\n",
    "def reverse(number):\n",
    "    \n",
    "    rev_number = 0\n",
    "    while number !=0:\n",
    "        rem = number % 10\n",
    "        number = number // 10\n",
    "        rev_number = rev_number*10 + rem\n",
    "    return rev_number\n",
    "        \n",
    "if Number == reverse(Number):\n",
    "    print(\"The given number is a palindrome\")\n",
    "else:\n",
    "    print(\"The given number is not a palindrome\")\n",
    "\n"
   ]
  },
  {
   "cell_type": "markdown",
   "metadata": {},
   "source": [
    "7. Write a Python function that accepts a string and calculate the number of upper case letters and lower case letters.\n"
   ]
  },
  {
   "cell_type": "code",
   "execution_count": 22,
   "metadata": {},
   "outputs": [
    {
     "name": "stdout",
     "output_type": "stream",
     "text": [
      "Enter the string: Veridic Data Science Class\n",
      "The number of Upper case characters is 4\n",
      "The number of Lower case characters is 19\n"
     ]
    }
   ],
   "source": [
    "My_string = input(\"Enter the string: \")\n",
    "\n",
    "Upper=0\n",
    "Lower=0\n",
    "\n",
    "for char in My_string:\n",
    "    if ord(char) in range(65,91):\n",
    "        Upper+=1\n",
    "    elif ord(char) in range(97,123):\n",
    "        Lower+=1\n",
    "\n",
    "print(\"The number of Upper case characters is\", Upper)\n",
    "print(\"The number of Lower case characters is\", Lower)"
   ]
  },
  {
   "cell_type": "markdown",
   "metadata": {},
   "source": [
    "8. Write a Python program that accepts a hyphen-separated sequence of words as input and prints the words in a hyphen-separated sequence after sorting them alphabetically.\n",
    "Sample Items : green-red-yellow-black-white\n",
    "Expected Result : black-green-red-white-yellow"
   ]
  },
  {
   "cell_type": "code",
   "execution_count": 1,
   "metadata": {},
   "outputs": [
    {
     "name": "stdout",
     "output_type": "stream",
     "text": [
      "Enter the string: green-red-yellow-black-white\n",
      "black-green-red-white-yellow\n"
     ]
    }
   ],
   "source": [
    "Word_list = [ word for word in input(\"Enter the string: \").split('-')]\n",
    "\n",
    "Word_list.sort()\n",
    "\n",
    "Word_list = '-'.join(Word_list)\n",
    "print(Word_list)"
   ]
  },
  {
   "cell_type": "markdown",
   "metadata": {},
   "source": [
    "9. Write a Python program to calculate the sum of a list of numbers using recursion.\n"
   ]
  },
  {
   "cell_type": "code",
   "execution_count": 5,
   "metadata": {},
   "outputs": [
    {
     "name": "stdout",
     "output_type": "stream",
     "text": [
      "Enter array elements separated by spaces\n",
      "10 20 30 40\n",
      "The Sum of the elements is  100\n"
     ]
    }
   ],
   "source": [
    "print(\"Enter array elements separated by spaces\")\n",
    "My_array = [int(x) for x in input().split()]\n",
    "\n",
    "def add_array(array, length):\n",
    "    \n",
    "    if length == 0:\n",
    "        return 0\n",
    "    else:\n",
    "        return array[length-1] + add_array(array,length-1)\n",
    "    \n",
    "\n",
    "array_sum = add_array(My_array, len(My_array))\n",
    "print(\"The Sum of the elements is \", array_sum)"
   ]
  },
  {
   "cell_type": "markdown",
   "metadata": {},
   "source": [
    "10. Write a function called fizz_buzz that takes a number.\n",
    "    a. If the number is divisible by 3, it should return “Fizz”.\n",
    "    b. If it is divisible by 5, it should return “Buzz”.\n",
    "    c. If it is divisible by both 3 and 5, it should return “FizzBuzz”.\n",
    "    d. Otherwise, it should return the same number."
   ]
  },
  {
   "cell_type": "code",
   "execution_count": 14,
   "metadata": {},
   "outputs": [
    {
     "name": "stdout",
     "output_type": "stream",
     "text": [
      "Enter a number to check 15\n",
      "FizzBuzz\n"
     ]
    }
   ],
   "source": [
    "Number = int(input(\"Enter a number to check \"))\n",
    "def fizz_buzz(number):\n",
    "    if number % 3 ==0 :\n",
    "        if number % 5 == 0:\n",
    "            return \"FizzBuzz\"\n",
    "        return \"Fizz\"\n",
    "    elif number % 5 ==0:\n",
    "        return \"Buzz\"\n",
    "    else:\n",
    "        return number\n",
    "\n",
    "print(fizz_buzz(Number))"
   ]
  },
  {
   "cell_type": "code",
   "execution_count": null,
   "metadata": {},
   "outputs": [],
   "source": []
  }
 ],
 "metadata": {
  "kernelspec": {
   "display_name": "Python 3",
   "language": "python",
   "name": "python3"
  },
  "language_info": {
   "codemirror_mode": {
    "name": "ipython",
    "version": 3
   },
   "file_extension": ".py",
   "mimetype": "text/x-python",
   "name": "python",
   "nbconvert_exporter": "python",
   "pygments_lexer": "ipython3",
   "version": "3.6.7"
  }
 },
 "nbformat": 4,
 "nbformat_minor": 2
}
