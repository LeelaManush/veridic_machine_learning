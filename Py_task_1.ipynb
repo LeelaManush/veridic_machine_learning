{
 "cells": [
  {
   "cell_type": "code",
   "execution_count": 1,
   "metadata": {},
   "outputs": [
    {
     "name": "stdout",
     "output_type": "stream",
     "text": [
      "vens\n"
     ]
    }
   ],
   "source": [
    "string='veridicsolutions'\n",
    "print(string[:2]+string[-2:])"
   ]
  },
  {
   "cell_type": "code",
   "execution_count": 2,
   "metadata": {},
   "outputs": [
    {
     "name": "stdout",
     "output_type": "stream",
     "text": [
      "nsnsns\n"
     ]
    }
   ],
   "source": [
    "string='veridicsolutions'\n",
    "print(string[-2:]*3)"
   ]
  },
  {
   "cell_type": "code",
   "execution_count": 3,
   "metadata": {},
   "outputs": [
    {
     "name": "stdout",
     "output_type": "stream",
     "text": [
      "10 20\n",
      "30\n",
      "-10\n",
      "200\n",
      "0\n",
      "0.500000\n"
     ]
    }
   ],
   "source": [
    "a,b=map(int,input().split())\n",
    "print(\"%d\\n%d\\n%d\\n%d\\n%f\" %(a+b,a-b,a*b,a//b,a/b))"
   ]
  },
  {
   "cell_type": "code",
   "execution_count": 4,
   "metadata": {},
   "outputs": [
    {
     "name": "stdout",
     "output_type": "stream",
     "text": [
      " 'P'\n",
      " 'n'\n",
      " 'ytho'\n",
      " 'on'\n",
      " 'Py'\n"
     ]
    }
   ],
   "source": [
    "string='Python'\n",
    "print(\" '%s'\\n '%s'\\n '%s'\\n '%s'\\n '%s'\" %(string[0],string[-1],string[1:-1],string[-2:],string[:2]))"
   ]
  },
  {
   "cell_type": "code",
   "execution_count": 5,
   "metadata": {},
   "outputs": [
    {
     "name": "stdout",
     "output_type": "stream",
     "text": [
      "Hello There\n",
      "ellohere\n"
     ]
    }
   ],
   "source": [
    "string1, string2=input().split()\n",
    "print(string1[1:]+string2[1:])"
   ]
  },
  {
   "cell_type": "code",
   "execution_count": 6,
   "metadata": {},
   "outputs": [
    {
     "name": "stdout",
     "output_type": "stream",
     "text": [
      "enter scores: 2 3 6 6 5\n",
      "runner-up score= 5\n"
     ]
    }
   ],
   "source": [
    "scores = list(map(int, input(\"enter scores: \").split()))\n",
    "winner=max(scores)\n",
    "while max(scores)==winner:\n",
    "    scores.remove(max(scores))\n",
    "print(\"runner-up score=\",max(scores))"
   ]
  },
  {
   "cell_type": "code",
   "execution_count": 7,
   "metadata": {},
   "outputs": [
    {
     "name": "stdout",
     "output_type": "stream",
     "text": [
      "enter student marks :56 75 89 78\n",
      "total marks=298, Percentage=74.500000\n"
     ]
    }
   ],
   "source": [
    "marks=list(map(int, input(\"enter student marks :\").split()))\n",
    "sum=sum(marks)\n",
    "print(\"total marks=%d, Percentage=%f\"%(sum,sum/len(marks)))"
   ]
  },
  {
   "cell_type": "code",
   "execution_count": 8,
   "metadata": {},
   "outputs": [
    {
     "name": "stdout",
     "output_type": "stream",
     "text": [
      "10 20\n",
      "Before swap= 10 20\n",
      "After swap= 20 10\n"
     ]
    }
   ],
   "source": [
    "a,b=map(int,input().split())\n",
    "print(\"Before swap=\",a,b)\n",
    "a=a+b;b=a-b;a=a-b\n",
    "print(\"After swap=\",a,b)"
   ]
  },
  {
   "cell_type": "code",
   "execution_count": 9,
   "metadata": {},
   "outputs": [
    {
     "name": "stdout",
     "output_type": "stream",
     "text": [
      "enter radius10\n",
      "Area=314.000000, Perimeter=62.800000\n"
     ]
    }
   ],
   "source": [
    "radius=int(input(\"enter radius\"))\n",
    "PI=3.14\n",
    "print(\"Area=%f, Perimeter=%f\"%(PI*radius**2, 2*PI*radius))"
   ]
  }
 ],
 "metadata": {
  "kernelspec": {
   "display_name": "Python 3",
   "language": "python",
   "name": "python3"
  },
  "language_info": {
   "codemirror_mode": {
    "name": "ipython",
    "version": 3
   },
   "file_extension": ".py",
   "mimetype": "text/x-python",
   "name": "python",
   "nbconvert_exporter": "python",
   "pygments_lexer": "ipython3",
   "version": "3.6.7"
  }
 },
 "nbformat": 4,
 "nbformat_minor": 2
}
